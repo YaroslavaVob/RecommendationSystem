{
 "cells": [
  {
   "cell_type": "markdown",
   "id": "aa2d2aa2",
   "metadata": {},
   "source": [
    "# Этап 2. Создание рекомендательной системы для ритейл компании.\n",
    "**Задачи**:\n",
    "1) Проверка различных подходов в построении рекомендательной системы\n",
    "2) Сочетание подходов и сравнение\n",
    "3) Выбор окончательной модели и ее сохранение"
   ]
  },
  {
   "cell_type": "code",
   "execution_count": 1,
   "id": "bb592299",
   "metadata": {},
   "outputs": [],
   "source": [
    "import pandas as pd\n",
    "import numpy as np\n",
    "import matplotlib.pyplot as plt\n",
    "import seaborn as sns\n",
    "import plotly.graph_objs as go\n",
    "import plotly.offline as py\n",
    "\n",
    "from scipy.sparse import csr_matrix, coo_matrix, hstack\n",
    "\n",
    "from sklearn.preprocessing import MinMaxScaler, LabelEncoder\n",
    "from sklearn.preprocessing import normalize\n",
    "from sklearn.feature_extraction.text import TfidfVectorizer\n",
    "from sklearn.metrics import mean_absolute_percentage_error\n",
    "from sklearn.model_selection import train_test_split\n",
    "\n",
    "from surprise import Dataset, Reader, SVD, PredictionImpossible\n",
    "\n",
    "from annoy import AnnoyIndex\n",
    "\n",
    "from implicit import als\n",
    "\n",
    "from catboost import CatBoostRanker, Pool\n",
    "\n",
    "from collections import defaultdict, Counter\n",
    "from tqdm import tqdm\n",
    "import random\n",
    "import optuna\n",
    "import gc\n",
    "\n",
    "import warnings\n",
    "warnings.filterwarnings('ignore')"
   ]
  },
  {
   "cell_type": "markdown",
   "id": "c68cb573",
   "metadata": {},
   "source": [
    "Загружаем подготовленые очищенные данные по пользователям и их взаимодействиями с товарами и данные о товарах и их свойствах."
   ]
  },
  {
   "cell_type": "code",
   "execution_count": 2,
   "id": "8e051ae7",
   "metadata": {},
   "outputs": [
    {
     "data": {
      "text/html": [
       "<div>\n",
       "<style scoped>\n",
       "    .dataframe tbody tr th:only-of-type {\n",
       "        vertical-align: middle;\n",
       "    }\n",
       "\n",
       "    .dataframe tbody tr th {\n",
       "        vertical-align: top;\n",
       "    }\n",
       "\n",
       "    .dataframe thead th {\n",
       "        text-align: right;\n",
       "    }\n",
       "</style>\n",
       "<table border=\"1\" class=\"dataframe\">\n",
       "  <thead>\n",
       "    <tr style=\"text-align: right;\">\n",
       "      <th></th>\n",
       "      <th>timestamp</th>\n",
       "      <th>visitorid</th>\n",
       "      <th>event</th>\n",
       "      <th>itemid</th>\n",
       "      <th>dayofweek</th>\n",
       "      <th>is_weekend</th>\n",
       "      <th>is_holiday</th>\n",
       "      <th>hour</th>\n",
       "      <th>view_count</th>\n",
       "      <th>addtocart_count</th>\n",
       "      <th>purchase_count</th>\n",
       "      <th>conversion</th>\n",
       "      <th>first_seen</th>\n",
       "      <th>last_seen</th>\n",
       "      <th>avg_time_view</th>\n",
       "      <th>avg_time_addtocart</th>\n",
       "      <th>avg_time_transaction</th>\n",
       "      <th>total_events</th>\n",
       "      <th>items_count</th>\n",
       "      <th>purchases</th>\n",
       "      <th>session</th>\n",
       "      <th>itemevents_by_visitor</th>\n",
       "      <th>itemviews_before_purchase</th>\n",
       "      <th>time_to_purchase</th>\n",
       "    </tr>\n",
       "  </thead>\n",
       "  <tbody>\n",
       "    <tr>\n",
       "      <th>0</th>\n",
       "      <td>2015-05-03 03:00:04.384</td>\n",
       "      <td>693516</td>\n",
       "      <td>addtocart</td>\n",
       "      <td>297662</td>\n",
       "      <td>6</td>\n",
       "      <td>True</td>\n",
       "      <td>False</td>\n",
       "      <td>3</td>\n",
       "      <td>63</td>\n",
       "      <td>63</td>\n",
       "      <td>0</td>\n",
       "      <td>0.0</td>\n",
       "      <td>2015-05-03 03:00:04.384</td>\n",
       "      <td>2015-09-15 19:42:17.650</td>\n",
       "      <td>56.15625</td>\n",
       "      <td>591.0</td>\n",
       "      <td>0.0</td>\n",
       "      <td>3</td>\n",
       "      <td>1</td>\n",
       "      <td>0</td>\n",
       "      <td>0.0</td>\n",
       "      <td>3</td>\n",
       "      <td>1.0</td>\n",
       "      <td>0.0</td>\n",
       "    </tr>\n",
       "    <tr>\n",
       "      <th>1</th>\n",
       "      <td>2015-05-03 03:00:11.289</td>\n",
       "      <td>829044</td>\n",
       "      <td>view</td>\n",
       "      <td>60987</td>\n",
       "      <td>6</td>\n",
       "      <td>True</td>\n",
       "      <td>False</td>\n",
       "      <td>3</td>\n",
       "      <td>79</td>\n",
       "      <td>79</td>\n",
       "      <td>0</td>\n",
       "      <td>0.0</td>\n",
       "      <td>2015-05-03 03:00:11.289</td>\n",
       "      <td>2015-09-14 02:38:11.012</td>\n",
       "      <td>41.21875</td>\n",
       "      <td>0.0</td>\n",
       "      <td>0.0</td>\n",
       "      <td>1</td>\n",
       "      <td>1</td>\n",
       "      <td>0</td>\n",
       "      <td>0.0</td>\n",
       "      <td>1</td>\n",
       "      <td>1.0</td>\n",
       "      <td>0.0</td>\n",
       "    </tr>\n",
       "    <tr>\n",
       "      <th>2</th>\n",
       "      <td>2015-05-03 03:00:13.048</td>\n",
       "      <td>652699</td>\n",
       "      <td>view</td>\n",
       "      <td>252860</td>\n",
       "      <td>6</td>\n",
       "      <td>True</td>\n",
       "      <td>False</td>\n",
       "      <td>3</td>\n",
       "      <td>248</td>\n",
       "      <td>248</td>\n",
       "      <td>0</td>\n",
       "      <td>0.0</td>\n",
       "      <td>2015-05-03 03:00:13.048</td>\n",
       "      <td>2015-09-18 02:33:52.849</td>\n",
       "      <td>13.40625</td>\n",
       "      <td>0.0</td>\n",
       "      <td>0.0</td>\n",
       "      <td>1</td>\n",
       "      <td>1</td>\n",
       "      <td>0</td>\n",
       "      <td>0.0</td>\n",
       "      <td>1</td>\n",
       "      <td>1.0</td>\n",
       "      <td>0.0</td>\n",
       "    </tr>\n",
       "    <tr>\n",
       "      <th>3</th>\n",
       "      <td>2015-05-03 03:00:24.154</td>\n",
       "      <td>1125936</td>\n",
       "      <td>view</td>\n",
       "      <td>33661</td>\n",
       "      <td>6</td>\n",
       "      <td>True</td>\n",
       "      <td>False</td>\n",
       "      <td>3</td>\n",
       "      <td>63</td>\n",
       "      <td>63</td>\n",
       "      <td>0</td>\n",
       "      <td>0.0</td>\n",
       "      <td>2015-05-03 03:00:24.154</td>\n",
       "      <td>2015-09-14 20:43:20.821</td>\n",
       "      <td>52.15625</td>\n",
       "      <td>0.0</td>\n",
       "      <td>0.0</td>\n",
       "      <td>1</td>\n",
       "      <td>1</td>\n",
       "      <td>0</td>\n",
       "      <td>0.0</td>\n",
       "      <td>1</td>\n",
       "      <td>1.0</td>\n",
       "      <td>0.0</td>\n",
       "    </tr>\n",
       "    <tr>\n",
       "      <th>4</th>\n",
       "      <td>2015-05-03 03:00:26.228</td>\n",
       "      <td>693516</td>\n",
       "      <td>view</td>\n",
       "      <td>297662</td>\n",
       "      <td>6</td>\n",
       "      <td>True</td>\n",
       "      <td>False</td>\n",
       "      <td>3</td>\n",
       "      <td>63</td>\n",
       "      <td>63</td>\n",
       "      <td>0</td>\n",
       "      <td>0.0</td>\n",
       "      <td>2015-05-03 03:00:04.384</td>\n",
       "      <td>2015-09-15 19:42:17.650</td>\n",
       "      <td>56.15625</td>\n",
       "      <td>591.0</td>\n",
       "      <td>0.0</td>\n",
       "      <td>3</td>\n",
       "      <td>1</td>\n",
       "      <td>0</td>\n",
       "      <td>0.0</td>\n",
       "      <td>3</td>\n",
       "      <td>1.0</td>\n",
       "      <td>0.0</td>\n",
       "    </tr>\n",
       "  </tbody>\n",
       "</table>\n",
       "</div>"
      ],
      "text/plain": [
       "                timestamp  visitorid      event  itemid  dayofweek  \\\n",
       "0 2015-05-03 03:00:04.384     693516  addtocart  297662          6   \n",
       "1 2015-05-03 03:00:11.289     829044       view   60987          6   \n",
       "2 2015-05-03 03:00:13.048     652699       view  252860          6   \n",
       "3 2015-05-03 03:00:24.154    1125936       view   33661          6   \n",
       "4 2015-05-03 03:00:26.228     693516       view  297662          6   \n",
       "\n",
       "   is_weekend  is_holiday  hour  view_count  addtocart_count  purchase_count  \\\n",
       "0        True       False     3          63               63               0   \n",
       "1        True       False     3          79               79               0   \n",
       "2        True       False     3         248              248               0   \n",
       "3        True       False     3          63               63               0   \n",
       "4        True       False     3          63               63               0   \n",
       "\n",
       "   conversion              first_seen               last_seen  avg_time_view  \\\n",
       "0         0.0 2015-05-03 03:00:04.384 2015-09-15 19:42:17.650       56.15625   \n",
       "1         0.0 2015-05-03 03:00:11.289 2015-09-14 02:38:11.012       41.21875   \n",
       "2         0.0 2015-05-03 03:00:13.048 2015-09-18 02:33:52.849       13.40625   \n",
       "3         0.0 2015-05-03 03:00:24.154 2015-09-14 20:43:20.821       52.15625   \n",
       "4         0.0 2015-05-03 03:00:04.384 2015-09-15 19:42:17.650       56.15625   \n",
       "\n",
       "   avg_time_addtocart  avg_time_transaction  total_events  items_count  \\\n",
       "0               591.0                   0.0             3            1   \n",
       "1                 0.0                   0.0             1            1   \n",
       "2                 0.0                   0.0             1            1   \n",
       "3                 0.0                   0.0             1            1   \n",
       "4               591.0                   0.0             3            1   \n",
       "\n",
       "   purchases  session  itemevents_by_visitor  itemviews_before_purchase  \\\n",
       "0          0      0.0                      3                        1.0   \n",
       "1          0      0.0                      1                        1.0   \n",
       "2          0      0.0                      1                        1.0   \n",
       "3          0      0.0                      1                        1.0   \n",
       "4          0      0.0                      3                        1.0   \n",
       "\n",
       "   time_to_purchase  \n",
       "0               0.0  \n",
       "1               0.0  \n",
       "2               0.0  \n",
       "3               0.0  \n",
       "4               0.0  "
      ]
     },
     "execution_count": 2,
     "metadata": {},
     "output_type": "execute_result"
    }
   ],
   "source": [
    "# датасет с пользователями и их взаимодействиями с товарами\n",
    "users = pd.read_parquet('data/cleaned_events.parquet')\n",
    "pd.set_option('display.max_columns', None)\n",
    "users.head()"
   ]
  },
  {
   "cell_type": "code",
   "execution_count": 3,
   "id": "4d228570",
   "metadata": {},
   "outputs": [
    {
     "name": "stdout",
     "output_type": "stream",
     "text": [
      "<class 'pandas.core.frame.DataFrame'>\n",
      "RangeIndex: 2755641 entries, 0 to 2755640\n",
      "Data columns (total 24 columns):\n",
      " #   Column                     Dtype         \n",
      "---  ------                     -----         \n",
      " 0   timestamp                  datetime64[ns]\n",
      " 1   visitorid                  uint32        \n",
      " 2   event                      category      \n",
      " 3   itemid                     uint32        \n",
      " 4   dayofweek                  uint8         \n",
      " 5   is_weekend                 bool          \n",
      " 6   is_holiday                 bool          \n",
      " 7   hour                       uint8         \n",
      " 8   view_count                 uint16        \n",
      " 9   addtocart_count            uint16        \n",
      " 10  purchase_count             uint8         \n",
      " 11  conversion                 float16       \n",
      " 12  first_seen                 datetime64[ns]\n",
      " 13  last_seen                  datetime64[ns]\n",
      " 14  avg_time_view              float16       \n",
      " 15  avg_time_addtocart         float16       \n",
      " 16  avg_time_transaction       float16       \n",
      " 17  total_events               uint16        \n",
      " 18  items_count                uint16        \n",
      " 19  purchases                  uint64        \n",
      " 20  session                    float16       \n",
      " 21  itemevents_by_visitor      uint16        \n",
      " 22  itemviews_before_purchase  float16       \n",
      " 23  time_to_purchase           float16       \n",
      "dtypes: bool(2), category(1), datetime64[ns](3), float16(7), uint16(5), uint32(2), uint64(1), uint8(3)\n",
      "memory usage: 184.0 MB\n"
     ]
    }
   ],
   "source": [
    "users.info()"
   ]
  },
  {
   "cell_type": "markdown",
   "id": "6d128646",
   "metadata": {},
   "source": [
    "Файл уже отсортирован по датам."
   ]
  },
  {
   "cell_type": "code",
   "execution_count": 4,
   "id": "2ce449fc",
   "metadata": {},
   "outputs": [
    {
     "name": "stdout",
     "output_type": "stream",
     "text": [
      "Временной период данных с 2015-05-03 по 2015-09-18\n"
     ]
    }
   ],
   "source": [
    "print(f\"Временной период данных с {users['timestamp'].dt.date.min()} по {users['timestamp'].dt.date.max()}\")"
   ]
  },
  {
   "cell_type": "markdown",
   "id": "fa85591d",
   "metadata": {},
   "source": [
    "#### Описание признаков:\n",
    "1) timestamp - время действия пользователем visitorid;\n",
    "2) visitord - идентификатор пользователя;\n",
    "3) event - действие (view - просмотр, addtocart - добавление в корзину, transaction - покупка);\n",
    "4) itemid - идентификатор товара;\n",
    "5) dayofweek - порядковый номер дня недели;\n",
    "6) is_weekend - выходной True, рабочий день недели - False;\n",
    "7) is_holiday - праздничные дни True, иначе - False;\n",
    "8) hour - час совершения действия пользователем;\n",
    "9) view_count - частота (количество) просмотров товара (itemid);\n",
    "10) addtocart_count - частота (количество) добавлений товара в корзину;\n",
    "11) purchase_count - частота (количество) покупок товара;\n",
    "12) conversion - конверсия (purchase_count количество покупок/view_count количество просмотров);\n",
    "13) first_seen - первое появление товара в данных;\n",
    "14) last_seen - последняя активность товара;\n",
    "15) avg_time_view - среднее время между просмотрами конкретного товара itemid;\n",
    "16) avg_time_addtocart - cреднее время между добавлениями в корзину конкретного товара itemid;\n",
    "17) avg_time_transaction - среднее время между покупками конкретного товара itemid;\n",
    "18) total_events - активность пользователя (общее количество совершенных действий пользователем);\n",
    "19) items_count - количество уникальных товаров itemid, с которым взаимодействовал пользователь;\n",
    "20) purchases - лояльность пользователя (количество покупок transaction, совершенных пользователем);\n",
    "21) session - cредний интервал между сессиями у пользователя, измерение в часах;\n",
    "22) itemevents_by_visitor - количество действий (event) пользователя (visitorid), совершенных с конкретным товаром itemid;\n",
    "23) itemviews_before_purchase - количество просмотров (view) пользователем конкретного товара перед покупкой;\n",
    "24) time_to_purchase - время в часах между первым просмотром пользователем товара до его покупки."
   ]
  },
  {
   "cell_type": "code",
   "execution_count": 5,
   "id": "5553d23c",
   "metadata": {},
   "outputs": [
    {
     "data": {
      "text/html": [
       "<div>\n",
       "<style scoped>\n",
       "    .dataframe tbody tr th:only-of-type {\n",
       "        vertical-align: middle;\n",
       "    }\n",
       "\n",
       "    .dataframe tbody tr th {\n",
       "        vertical-align: top;\n",
       "    }\n",
       "\n",
       "    .dataframe thead th {\n",
       "        text-align: right;\n",
       "    }\n",
       "</style>\n",
       "<table border=\"1\" class=\"dataframe\">\n",
       "  <thead>\n",
       "    <tr style=\"text-align: right;\">\n",
       "      <th></th>\n",
       "      <th>timestamp</th>\n",
       "      <th>itemid</th>\n",
       "      <th>property</th>\n",
       "      <th>value</th>\n",
       "      <th>property_count</th>\n",
       "      <th>depth</th>\n",
       "    </tr>\n",
       "  </thead>\n",
       "  <tbody>\n",
       "    <tr>\n",
       "      <th>0</th>\n",
       "      <td>2015-05-10 03:00:00</td>\n",
       "      <td>317951</td>\n",
       "      <td>790</td>\n",
       "      <td>32880.000</td>\n",
       "      <td>24</td>\n",
       "      <td>4</td>\n",
       "    </tr>\n",
       "    <tr>\n",
       "      <th>1</th>\n",
       "      <td>2015-05-10 03:00:00</td>\n",
       "      <td>422842</td>\n",
       "      <td>480</td>\n",
       "      <td>1133979</td>\n",
       "      <td>35</td>\n",
       "      <td>3</td>\n",
       "    </tr>\n",
       "    <tr>\n",
       "      <th>2</th>\n",
       "      <td>2015-05-10 03:00:00</td>\n",
       "      <td>310185</td>\n",
       "      <td>776</td>\n",
       "      <td>103591</td>\n",
       "      <td>25</td>\n",
       "      <td>3</td>\n",
       "    </tr>\n",
       "    <tr>\n",
       "      <th>3</th>\n",
       "      <td>2015-05-10 03:00:00</td>\n",
       "      <td>110973</td>\n",
       "      <td>112</td>\n",
       "      <td>679677</td>\n",
       "      <td>21</td>\n",
       "      <td>3</td>\n",
       "    </tr>\n",
       "    <tr>\n",
       "      <th>4</th>\n",
       "      <td>2015-05-10 03:00:00</td>\n",
       "      <td>179597</td>\n",
       "      <td>474</td>\n",
       "      <td>0</td>\n",
       "      <td>22</td>\n",
       "      <td>3</td>\n",
       "    </tr>\n",
       "  </tbody>\n",
       "</table>\n",
       "</div>"
      ],
      "text/plain": [
       "            timestamp  itemid  property      value  property_count  depth\n",
       "0 2015-05-10 03:00:00  317951       790  32880.000              24      4\n",
       "1 2015-05-10 03:00:00  422842       480    1133979              35      3\n",
       "2 2015-05-10 03:00:00  310185       776     103591              25      3\n",
       "3 2015-05-10 03:00:00  110973       112     679677              21      3\n",
       "4 2015-05-10 03:00:00  179597       474          0              22      3"
      ]
     },
     "execution_count": 5,
     "metadata": {},
     "output_type": "execute_result"
    }
   ],
   "source": [
    "# датасет с товарами и их характеристиками\n",
    "items = pd.read_parquet('data/cleaned_properties.parquet')\n",
    "items.head()"
   ]
  },
  {
   "cell_type": "code",
   "execution_count": 6,
   "id": "fcbd816b",
   "metadata": {},
   "outputs": [
    {
     "name": "stdout",
     "output_type": "stream",
     "text": [
      "<class 'pandas.core.frame.DataFrame'>\n",
      "RangeIndex: 20275902 entries, 0 to 20275901\n",
      "Data columns (total 6 columns):\n",
      " #   Column          Dtype         \n",
      "---  ------          -----         \n",
      " 0   timestamp       datetime64[ns]\n",
      " 1   itemid          uint32        \n",
      " 2   property        uint16        \n",
      " 3   value           category      \n",
      " 4   property_count  uint8         \n",
      " 5   depth           uint8         \n",
      "dtypes: category(1), datetime64[ns](1), uint16(1), uint32(1), uint8(2)\n",
      "memory usage: 466.2 MB\n"
     ]
    }
   ],
   "source": [
    "items.info()"
   ]
  },
  {
   "cell_type": "code",
   "execution_count": 7,
   "id": "b022ee1a",
   "metadata": {},
   "outputs": [
    {
     "name": "stdout",
     "output_type": "stream",
     "text": [
      "Временной период данных с 2015-05-10 по 2015-09-13\n"
     ]
    }
   ],
   "source": [
    "print(f\"Временной период данных с {items['timestamp'].dt.date.min()} по {items['timestamp'].dt.date.max()}\")"
   ]
  },
  {
   "cell_type": "markdown",
   "id": "db46955a",
   "metadata": {},
   "source": [
    "Описание признаков:\n",
    "1) timestamp - дата;\n",
    "2) itemid - идентификатор товара;\n",
    "3) property - категория товаров (уникальных 1104);\n",
    "4) value - неизвестный фактор;\n",
    "5) property_count - количество категорий, описывающих уникальный товар;\n",
    "6) depth - глубина каждой категории (вложенности в дерево категорий)"
   ]
  },
  {
   "cell_type": "markdown",
   "id": "f7ea7be3",
   "metadata": {},
   "source": [
    "## Подход 1. Коллаборативная фильтрация\n",
    "Начнем с построения базовой модели коллаборативной фильтрации с помощью библиотеки surprise.\n",
    "Основная идея коллаборативной фильтрации: похожим пользователям нравятся похожие товары, в основе лежит user-item matrix.\n",
    "\n",
    "Давайте прежде подумаем о фильтрации данных:\n",
    "1) Фильтрация пользователей и товаров даст меньше шума при обучении и модель лучше научиться рекомендовать. Как известно, метод SVD коллаборативной фильтрации зависит от качества матрицы \"user-item\" - чем она плотнее, тем лучше работает модель.\n",
    "2) Без фильтрации:\\\n",
    "Когда мы применяем фильтрацию по пользователям и товарам, мы отбираем только тех пользователей и товары, которые имеют достаточно взаимодействий. Это значит, что мы не оцениваем модель на всей выборке пользователей, а только на активных пользователях и популярных товарах. В результате полученная система может показывать плохие результаты для менее активных пользователей. Наша система окажется предвзятой, ориентированной только на активных пользователей и самые популярные товары.\n",
    "\n",
    "Мы применим минимальную фильтрацию, наша система не будет универсальной, учитывающей интересы всех пользователей, но более эффективной по качеству рекомендаций.\\\n",
    "Далее мы сможем дополнить данную систему контентными рекомендациями, которые будут работать для пассивных пользователей или универсальными рекомендациями самых популярных товаров."
   ]
  },
  {
   "cell_type": "code",
   "execution_count": 8,
   "id": "b6f82ea0",
   "metadata": {},
   "outputs": [
    {
     "name": "stdout",
     "output_type": "stream",
     "text": [
      "Размер до фильтрации:  2755641\n",
      "Размер после фильтрации пользователей по количеству уникальным товарам:  789735\n"
     ]
    }
   ],
   "source": [
    "df = users.copy()\n",
    "print('Размер до фильтрации: ', df.shape[0])\n",
    "# Подсчитаем количество уникальных товаров, с которыми взаимодействовал каждый пользователь\n",
    "user_unique_items = df.groupby('visitorid')['itemid'].nunique()\n",
    "\n",
    "# Оставим только пользователей с 4 и более уникальными товарами\n",
    "min_unique_items = 4\n",
    "filtered_users = user_unique_items[user_unique_items >= min_unique_items].index\n",
    "\n",
    "# Фильтруем основной датафрейм\n",
    "filtered_df = df[df['visitorid'].isin(filtered_users)]\n",
    "\n",
    "print('Размер после фильтрации пользователей по количеству уникальным товарам: ', filtered_df.shape[0])"
   ]
  },
  {
   "cell_type": "code",
   "execution_count": 9,
   "id": "aae55c72",
   "metadata": {},
   "outputs": [
    {
     "name": "stdout",
     "output_type": "stream",
     "text": [
      "1407580\n"
     ]
    },
    {
     "data": {
      "text/plain": [
       "63294"
      ]
     },
     "execution_count": 9,
     "metadata": {},
     "output_type": "execute_result"
    }
   ],
   "source": [
    "# общее число пользователей в данных\n",
    "print(df.visitorid.nunique())\n",
    "# размер активной части пользователей\n",
    "filtered_df['visitorid'].nunique()"
   ]
  },
  {
   "cell_type": "markdown",
   "id": "070abf4c",
   "metadata": {},
   "source": [
    "Мы не будем строить модель только на \"позитивных сигналах\" (пользователь купил товар), лучше мы учтем различные факторы, которые мы сформировали для изучения взаимодействий пользователей с товарами.\\\n",
    "Тем самым мы постараемся включить те закомерности, которые мы увидили, и сделать модель ориентированной на различные интересы пользователей.\n",
    "\n",
    "Нам необходимо создать взвешенный рейтинг товаров у пользователей, для этого мы используем разные веса (веса можно настраивать).\n",
    "\n",
    "**Создание матрицы user-item.**"
   ]
  },
  {
   "cell_type": "code",
   "execution_count": 10,
   "id": "bc4107a6",
   "metadata": {},
   "outputs": [
    {
     "name": "stdout",
     "output_type": "stream",
     "text": [
      "Размер данных:  521872\n"
     ]
    },
    {
     "data": {
      "text/html": [
       "<div>\n",
       "<style scoped>\n",
       "    .dataframe tbody tr th:only-of-type {\n",
       "        vertical-align: middle;\n",
       "    }\n",
       "\n",
       "    .dataframe tbody tr th {\n",
       "        vertical-align: top;\n",
       "    }\n",
       "\n",
       "    .dataframe thead th {\n",
       "        text-align: right;\n",
       "    }\n",
       "</style>\n",
       "<table border=\"1\" class=\"dataframe\">\n",
       "  <thead>\n",
       "    <tr style=\"text-align: right;\">\n",
       "      <th></th>\n",
       "      <th>visitorid</th>\n",
       "      <th>itemid</th>\n",
       "      <th>item_rating</th>\n",
       "    </tr>\n",
       "  </thead>\n",
       "  <tbody>\n",
       "    <tr>\n",
       "      <th>0</th>\n",
       "      <td>2</td>\n",
       "      <td>216305</td>\n",
       "      <td>946.003401</td>\n",
       "    </tr>\n",
       "    <tr>\n",
       "      <th>1</th>\n",
       "      <td>2</td>\n",
       "      <td>259884</td>\n",
       "      <td>304.810696</td>\n",
       "    </tr>\n",
       "    <tr>\n",
       "      <th>2</th>\n",
       "      <td>2</td>\n",
       "      <td>325215</td>\n",
       "      <td>284.452643</td>\n",
       "    </tr>\n",
       "    <tr>\n",
       "      <th>3</th>\n",
       "      <td>2</td>\n",
       "      <td>342816</td>\n",
       "      <td>184.074097</td>\n",
       "    </tr>\n",
       "    <tr>\n",
       "      <th>4</th>\n",
       "      <td>51</td>\n",
       "      <td>49967</td>\n",
       "      <td>99.408263</td>\n",
       "    </tr>\n",
       "  </tbody>\n",
       "</table>\n",
       "</div>"
      ],
      "text/plain": [
       "   visitorid  itemid  item_rating\n",
       "0          2  216305   946.003401\n",
       "1          2  259884   304.810696\n",
       "2          2  325215   284.452643\n",
       "3          2  342816   184.074097\n",
       "4         51   49967    99.408263"
      ]
     },
     "execution_count": 10,
     "metadata": {},
     "output_type": "execute_result"
    }
   ],
   "source": [
    "data = filtered_df[['visitorid', 'itemid', 'view_count', 'addtocart_count', 'purchase_count', 'items_count',\n",
    "            'conversion', 'total_events', 'purchases', 'time_to_purchase']].copy()\n",
    "data['item_rating'] = (\n",
    "    0.1 * data['view_count'] +        # учет частоты просмотров товара\n",
    "    0.7 * data['addtocart_count'] +   # учет добавлений товара в корзину\n",
    "    1.0 * data['purchase_count'] +    # учет покупок товара\n",
    "    1.0 * data['conversion'] +        # учет конверсии товара\n",
    "    0.1 * data['total_events'] +      # учет общей активности пользователя\n",
    "    0.5 * data['purchases'] +         # учет лояльности пользователя (количества покупок)\n",
    "    0.2 * data['items_count'] +       # учет количества товаров, с которым взаимодействовал пользователь\n",
    "    0.05 * data['time_to_purchase']   # учет временного интервала между первым просмотром пользователем товара до его покупки\n",
    ")\n",
    "# группируем по пользователям и товарам, суммируем полученный рейтинг\n",
    "agg_df = data.groupby(['visitorid', 'itemid'])['item_rating'].sum().reset_index()\n",
    "print(\"Размер данных: \", agg_df.shape[0])\n",
    "agg_df.head()"
   ]
  },
  {
   "cell_type": "code",
   "execution_count": 11,
   "id": "eece98f1",
   "metadata": {},
   "outputs": [
    {
     "data": {
      "text/plain": [
       "(-322.0626220703125, 128659.79653930664)"
      ]
     },
     "execution_count": 11,
     "metadata": {},
     "output_type": "execute_result"
    }
   ],
   "source": [
    "agg_df.item_rating.min(), agg_df.item_rating.max()"
   ]
  },
  {
   "cell_type": "code",
   "execution_count": 12,
   "id": "c8d3e072",
   "metadata": {},
   "outputs": [
    {
     "data": {
      "text/html": [
       "<div>\n",
       "<style scoped>\n",
       "    .dataframe tbody tr th:only-of-type {\n",
       "        vertical-align: middle;\n",
       "    }\n",
       "\n",
       "    .dataframe tbody tr th {\n",
       "        vertical-align: top;\n",
       "    }\n",
       "\n",
       "    .dataframe thead th {\n",
       "        text-align: right;\n",
       "    }\n",
       "</style>\n",
       "<table border=\"1\" class=\"dataframe\">\n",
       "  <thead>\n",
       "    <tr style=\"text-align: right;\">\n",
       "      <th></th>\n",
       "      <th>visitorid</th>\n",
       "      <th>itemid</th>\n",
       "      <th>item_rating</th>\n",
       "    </tr>\n",
       "  </thead>\n",
       "  <tbody>\n",
       "    <tr>\n",
       "      <th>0</th>\n",
       "      <td>2</td>\n",
       "      <td>216305</td>\n",
       "      <td>0.539520</td>\n",
       "    </tr>\n",
       "    <tr>\n",
       "      <th>1</th>\n",
       "      <td>2</td>\n",
       "      <td>259884</td>\n",
       "      <td>0.433547</td>\n",
       "    </tr>\n",
       "    <tr>\n",
       "      <th>2</th>\n",
       "      <td>2</td>\n",
       "      <td>325215</td>\n",
       "      <td>0.427089</td>\n",
       "    </tr>\n",
       "    <tr>\n",
       "      <th>3</th>\n",
       "      <td>2</td>\n",
       "      <td>342816</td>\n",
       "      <td>0.386463</td>\n",
       "    </tr>\n",
       "    <tr>\n",
       "      <th>4</th>\n",
       "      <td>51</td>\n",
       "      <td>49967</td>\n",
       "      <td>0.329132</td>\n",
       "    </tr>\n",
       "  </tbody>\n",
       "</table>\n",
       "</div>"
      ],
      "text/plain": [
       "   visitorid  itemid  item_rating\n",
       "0          2  216305     0.539520\n",
       "1          2  259884     0.433547\n",
       "2          2  325215     0.427089\n",
       "3          2  342816     0.386463\n",
       "4         51   49967     0.329132"
      ]
     },
     "execution_count": 12,
     "metadata": {},
     "output_type": "execute_result"
    }
   ],
   "source": [
    "# масштабируем\n",
    "agg_df['item_rating'] = np.log1p(agg_df['item_rating']) # логарифмируем\n",
    "scaler = MinMaxScaler()\n",
    "agg_df['item_rating'] = scaler.fit_transform(agg_df[['item_rating']])\n",
    "agg_df.fillna(0, inplace=True)\n",
    "agg_df.head()"
   ]
  },
  {
   "cell_type": "markdown",
   "id": "6a5ebe71",
   "metadata": {},
   "source": [
    "**SVD моделирование**"
   ]
  },
  {
   "cell_type": "code",
   "execution_count": 13,
   "id": "1d3dd354",
   "metadata": {},
   "outputs": [
    {
     "data": {
      "text/plain": [
       "[Prediction(uid=2, iid=216305, r_ui=0.5395196351944983, est=0.5251286736289278, details={'was_impossible': False}),\n",
       " Prediction(uid=2, iid=259884, r_ui=0.43354717668706433, est=0.46593538593873046, details={'was_impossible': False}),\n",
       " Prediction(uid=2, iid=325215, r_ui=0.42708851852556995, est=0.4115462576982854, details={'was_impossible': False})]"
      ]
     },
     "execution_count": 13,
     "metadata": {},
     "output_type": "execute_result"
    }
   ],
   "source": [
    "reader = Reader(rating_scale=(0, 1))  # шкала рейтинга товаров\n",
    "data = Dataset.load_from_df(agg_df, reader) \n",
    "\n",
    "# Загружаем все данные как trainset\n",
    "full_trainset = data.build_full_trainset()\n",
    "\n",
    "# инициализируем модель SVD (сингулярное разложение матрицы)\n",
    "svd_model = SVD(n_factors=300,          # n_factors — количество скрытых факторов (размерность латентного пространства)\n",
    "                n_epochs=300,           # количество итераций\n",
    "                lr_all=0.004,           # скорость обучения\n",
    "                reg_all=0.05,           # регуляризация\n",
    "                biased=True, random_state=42) \n",
    "svd_model.fit(full_trainset)\n",
    "\n",
    "# Преобразуем trainset в testset-формат: список (uid, iid, рейтинг) для предсказания\n",
    "full_testset = full_trainset.build_testset()\n",
    "predictions = svd_model.test(full_testset)\n",
    "predictions[:3]"
   ]
  },
  {
   "cell_type": "markdown",
   "id": "1157e4b9",
   "metadata": {},
   "source": [
    "* uid: идентификатор пользователя, для которого сделано предсказание.\n",
    "* iid: идентификатор товара, для которого сделано предсказание.\n",
    "* r_ui: истинное значение рейтинга, которое пользователи дали товару (если было взаимодействие).\n",
    "* est: значение, предсказанное моделью для данного пользователя и товара. \n",
    "* was_impossible: указывает, была ли невозможна генерация предсказания. Если значение равно False, это означает, что модель смогла сделать предсказание для этой пары пользователь-товар. Если значение True, это означает, что модель не смогла сделать предсказание (например, из-за недостатка данных для данной пары)."
   ]
  },
  {
   "cell_type": "code",
   "execution_count": 14,
   "id": "6e31b745",
   "metadata": {},
   "outputs": [
    {
     "name": "stdout",
     "output_type": "stream",
     "text": [
      "MAPE по всем предсказаниям SVD: 0.0675\n"
     ]
    }
   ],
   "source": [
    "# Отбираем только те предсказания, где r_ui != 0 (иначе будет деление на 0)\n",
    "filtered_preds = [(pred.r_ui, pred.est) for pred in predictions if pred.r_ui != 0]\n",
    "\n",
    "# Разделяем на списки истинных и предсказанных значений\n",
    "y_true = [true for true, pred in filtered_preds]\n",
    "y_pred = [pred for true, pred in filtered_preds]\n",
    "\n",
    "# Вычисляем MAPE\n",
    "mape = mean_absolute_percentage_error(y_true, y_pred)\n",
    "print(f\"MAPE по всем предсказаниям SVD: {mape:.4f}\")"
   ]
  },
  {
   "cell_type": "markdown",
   "id": "90f96707",
   "metadata": {},
   "source": [
    "Нам необходим для вычисления Precision словарь пользователей с набором товаров, с которым взаимодействовал пользователь."
   ]
  },
  {
   "cell_type": "code",
   "execution_count": 15,
   "id": "5631fc8a",
   "metadata": {},
   "outputs": [],
   "source": [
    "# Словарь: ключ - пользователь, значение - множество товаров, с которыми взаимодействовал пользователь\n",
    "user_item_dict = agg_df.groupby('visitorid')['itemid'].apply(set).to_dict()\n",
    "# список всех товаров \n",
    "all_item_ids = agg_df['itemid'].unique().tolist()"
   ]
  },
  {
   "cell_type": "markdown",
   "id": "aee40be8",
   "metadata": {},
   "source": [
    "Создадим функцию для оценки качества подбора рекомендаций нашей моделью. Так как заказчик хочет получить систему с тремя товарами в качестве рекомендации, то нашей метрикой будет Precision@k (k=3):\n",
    "$$Precision@k= \\frac{\\text{количество релевантных items в топ-k}}{k}$$"
   ]
  },
  {
   "cell_type": "code",
   "execution_count": 16,
   "id": "e67e2413",
   "metadata": {},
   "outputs": [],
   "source": [
    "def precision_at_3_svd(user_id, svd_model, user_item_dict, all_item_ids):\n",
    "    \"\"\"\n",
    "    Предсказывает top-3 товара с помощью SVD для пользователя и считает precision@3,\n",
    "    сравнивая рекомендованные товары со всеми, с которыми пользователь взаимодействовал.\n",
    "    Параметры:\n",
    "    - user_id: ID пользователя\n",
    "    - svd_model: обученная SVD модель\n",
    "    - user_item_dict: словарь {visitorid: set(itemid)}\n",
    "    - all_item_ids: список всех itemid\n",
    "    Возвращает:\n",
    "    - precision@3 \n",
    "    \"\"\"\n",
    "    true_items = user_item_dict.get(user_id, set())  # товары, с которыми пользователь взаимодействовал\n",
    "    \n",
    "    # Предсказываем рейтинг для всех товаров\n",
    "    predictions = []\n",
    "    for item_id in all_item_ids:\n",
    "        try:\n",
    "            pred = svd_model.predict(user_id, item_id) # предсказание рейтинга\n",
    "            predictions.append((item_id, pred.est))    # сохраняем только предсказанный рейтинг\n",
    "        except:\n",
    "            continue\n",
    "\n",
    "    # сортируем отобранные товары по убыванию оценки и выбираем top-3\n",
    "    predictions.sort(key=lambda x: x[1], reverse=True)\n",
    "    top_3 = [item for item, _ in predictions[:3]]\n",
    "\n",
    "    # Считаем precision@3: сколько рекомендованных товаров встретилось среди всех товаров, с которыми взаимодействовал пользователь\n",
    "    hits = sum([1 for item in top_3 if item in true_items])\n",
    "    precision = hits / 3\n",
    "\n",
    "    return precision"
   ]
  },
  {
   "cell_type": "code",
   "execution_count": 17,
   "id": "d6f6d506",
   "metadata": {},
   "outputs": [
    {
     "name": "stderr",
     "output_type": "stream",
     "text": [
      "100%|██████████| 2000/2000 [20:11<00:00,  1.65it/s]"
     ]
    },
    {
     "name": "stdout",
     "output_type": "stream",
     "text": [
      "Средний Precision@3 SVD по 2000 пользователям: 0.0017\n"
     ]
    },
    {
     "name": "stderr",
     "output_type": "stream",
     "text": [
      "\n"
     ]
    }
   ],
   "source": [
    "# сделаем расчет precision на случайной подвыборке\n",
    "random_users= random.sample(list(user_item_dict.keys()), 2000)  # количество выборки можно указать любое, но считает долго\n",
    "\n",
    "precisions = []\n",
    "for user_id in tqdm(random_users):\n",
    "    precision_svd = precision_at_3_svd(user_id, svd_model, user_item_dict, all_item_ids)\n",
    "    if precision_svd is not None:\n",
    "        precisions.append(precision_svd)\n",
    "\n",
    "print(f\"Средний Precision@3 SVD по {len(precisions)} пользователям: {np.mean(precisions):.4f}\")"
   ]
  },
  {
   "cell_type": "markdown",
   "id": "d36c532c",
   "metadata": {},
   "source": [
    "Создаем функцию для получения рекомендаций от SVD для конкретного пользователя."
   ]
  },
  {
   "cell_type": "code",
   "execution_count": 18,
   "id": "62d3d749",
   "metadata": {},
   "outputs": [],
   "source": [
    "def get_svd_recommendations(user_id, svd_model, user_item_dict, all_item_ids, top_n=3):\n",
    "    \"\"\"\n",
    "    Рекомендации моделью SVD для одного пользователя.\n",
    "    Параметры:\n",
    "    - user_id: ID пользователя\n",
    "    - svd_model: обученная модель SVD (surprise)\n",
    "    - user_item_dict: словарь: пользователь -> множество просмотренных товаров\n",
    "    - all_item_ids: список всех товаров\n",
    "    - top_n: сколько товаров рекомендовать\n",
    "    Возвращает:\n",
    "    - Список top-3 itemid, предсказанных как релевантные для данного пользователя\n",
    "    \"\"\"\n",
    "    seen_items = user_item_dict.get(user_id, set())  # товары, с которыми пользователь уже взаимодействовал\n",
    "\n",
    "    # отбираем кандидатов — товары, которые пользователь ещё не видел\n",
    "    candidate_items = list(set(all_item_ids) - seen_items)\n",
    "    \n",
    "    # предсказываем рейтинг для каждого кандидата с помощью модели SVD\n",
    "    predictions = []\n",
    "    for item in candidate_items:\n",
    "        try:\n",
    "            pred = svd_model.predict(user_id, item)     # предсказание рейтинга\n",
    "            predictions.append((item, None, pred.est))  # сохраняем только предсказанный рейтинг\n",
    "        except:\n",
    "            continue  \n",
    "\n",
    "    # сортируем отобранные товары по убыванию оценки и выбираем top-3\n",
    "    predictions.sort(key=lambda x: x[2], reverse=True)\n",
    "    top_items = [item for item, _, _ in predictions[:top_n]]\n",
    "    \n",
    "    return top_items"
   ]
  },
  {
   "cell_type": "code",
   "execution_count": 19,
   "id": "942a0d7f",
   "metadata": {},
   "outputs": [
    {
     "name": "stdout",
     "output_type": "stream",
     "text": [
      "Рекомендованные товары для пользователя 696194 от SVD: [447656, 413296, 154871]\n"
     ]
    }
   ],
   "source": [
    "# Пример: получим рекомендации для случайного пользователя\n",
    "user_id_sample = random.sample(list(user_item_dict.keys()), 1)[0]\n",
    "svd_recommendations = get_svd_recommendations(user_id_sample, svd_model, user_item_dict, all_item_ids)\n",
    "print(f\"Рекомендованные товары для пользователя {user_id_sample} от SVD: {svd_recommendations}\")"
   ]
  },
  {
   "cell_type": "markdown",
   "id": "88838957",
   "metadata": {},
   "source": [
    "Рекомендации с помощью метода SVD показали околонулевую эффективность, поэтому мы переходим к следующему подходу.\n",
    "\n",
    "## Подход 2. Матричная факторизация Alternating Least Squares (ALS)\n",
    "Мы воспользуемся библиотекой implicit, которая требует, чтобы данные имели вид матрицы user-item, где ячейки содержат веса, отражающие интенсивность взаимодействия. Таким образом, мы возьмем созданный ранее набор agg_df.\n",
    "\n",
    "Alternating Least Squares называют \"попеременные наименьшие квадраты\", так как алгоритм итеративно обучает матрицы U и I:\n",
    "* сначала фиксирует I, обучает U (по методу наименьших квадратов),\n",
    "* потом фиксирует U, обучает I,\n",
    "* и так по очереди, пока всё не сойдётся (или до истечения количества итерации).\n",
    "\n",
    "U - матрица пользователей (users × latent factors(скрытые характеристики)), I - матрица товаров (items × latent factors): $R = U×I$"
   ]
  },
  {
   "cell_type": "code",
   "execution_count": 20,
   "id": "29fff887",
   "metadata": {},
   "outputs": [
    {
     "data": {
      "text/html": [
       "<div>\n",
       "<style scoped>\n",
       "    .dataframe tbody tr th:only-of-type {\n",
       "        vertical-align: middle;\n",
       "    }\n",
       "\n",
       "    .dataframe tbody tr th {\n",
       "        vertical-align: top;\n",
       "    }\n",
       "\n",
       "    .dataframe thead th {\n",
       "        text-align: right;\n",
       "    }\n",
       "</style>\n",
       "<table border=\"1\" class=\"dataframe\">\n",
       "  <thead>\n",
       "    <tr style=\"text-align: right;\">\n",
       "      <th></th>\n",
       "      <th>visitorid</th>\n",
       "      <th>itemid</th>\n",
       "      <th>item_rating</th>\n",
       "    </tr>\n",
       "  </thead>\n",
       "  <tbody>\n",
       "    <tr>\n",
       "      <th>0</th>\n",
       "      <td>2</td>\n",
       "      <td>216305</td>\n",
       "      <td>0.539520</td>\n",
       "    </tr>\n",
       "    <tr>\n",
       "      <th>1</th>\n",
       "      <td>2</td>\n",
       "      <td>259884</td>\n",
       "      <td>0.433547</td>\n",
       "    </tr>\n",
       "    <tr>\n",
       "      <th>2</th>\n",
       "      <td>2</td>\n",
       "      <td>325215</td>\n",
       "      <td>0.427089</td>\n",
       "    </tr>\n",
       "    <tr>\n",
       "      <th>3</th>\n",
       "      <td>2</td>\n",
       "      <td>342816</td>\n",
       "      <td>0.386463</td>\n",
       "    </tr>\n",
       "    <tr>\n",
       "      <th>4</th>\n",
       "      <td>51</td>\n",
       "      <td>49967</td>\n",
       "      <td>0.329132</td>\n",
       "    </tr>\n",
       "  </tbody>\n",
       "</table>\n",
       "</div>"
      ],
      "text/plain": [
       "   visitorid  itemid  item_rating\n",
       "0          2  216305     0.539520\n",
       "1          2  259884     0.433547\n",
       "2          2  325215     0.427089\n",
       "3          2  342816     0.386463\n",
       "4         51   49967     0.329132"
      ]
     },
     "execution_count": 20,
     "metadata": {},
     "output_type": "execute_result"
    }
   ],
   "source": [
    "agg_df.head()"
   ]
  },
  {
   "cell_type": "code",
   "execution_count": 21,
   "id": "3804d3ee",
   "metadata": {},
   "outputs": [
    {
     "data": {
      "application/vnd.jupyter.widget-view+json": {
       "model_id": "0fe54e1f306041508a855b8c7787edb4",
       "version_major": 2,
       "version_minor": 0
      },
      "text/plain": [
       "  0%|          | 0/300 [00:00<?, ?it/s]"
      ]
     },
     "metadata": {},
     "output_type": "display_data"
    }
   ],
   "source": [
    "# кодируем ID пользователей и товаров\n",
    "user_encoder = LabelEncoder()\n",
    "item_encoder = LabelEncoder()\n",
    "\n",
    "agg_df['user_idx'] = user_encoder.fit_transform(agg_df['visitorid'])\n",
    "agg_df['item_idx'] = item_encoder.fit_transform(agg_df['itemid'])\n",
    "\n",
    "# создаём разреженную матрицу user-item\n",
    "user_item_matrix = csr_matrix((\n",
    "    agg_df['item_rating'].astype(float),\n",
    "    (agg_df['user_idx'], agg_df['item_idx'])\n",
    "))\n",
    "\n",
    "# инициализация и обучение ALS модели\n",
    "als_model = als.AlternatingLeastSquares(\n",
    "    factors=300,                # размерность скрытого пространства\n",
    "    regularization=0.15,\n",
    "    alpha=15,                   # вес неявных взаимодействий (implicit feedback)\n",
    "    iterations=300,\n",
    "    random_state=42\n",
    ")\n",
    "als_model.fit(user_item_matrix)"
   ]
  },
  {
   "cell_type": "markdown",
   "id": "e8b9ed69",
   "metadata": {},
   "source": [
    "**Функция для расчета Precision@3**"
   ]
  },
  {
   "cell_type": "code",
   "execution_count": 22,
   "id": "3428cbf1",
   "metadata": {},
   "outputs": [],
   "source": [
    "def precision_at_3_als(user_id, model, user_item_matrix, user_encoder, item_encoder, user_item_dict):\n",
    "    \"\"\"\n",
    "    Делает top-3 рекомендации с помощью ALS модели и вычисляет precision@3,\n",
    "    сравнивая с реальными взаимодействиями пользователя.\n",
    "    Параметры:\n",
    "    - user_id: идентификатор пользователя, для которого делается предсказание.\n",
    "    - model: обученная модель ALS.\n",
    "    - user_item_matrix: матрица взаимодействий пользователей и товаров.\n",
    "    - user_encoder: кодировщик пользователей, который преобразует user_id в числовой индекс.\n",
    "    - item_encoder: кодировщик товаров, который преобразует индексы товаров обратно в itemid.\n",
    "    - user_item_dict: словарь, где ключ - visitorid, значение - множество товаров, с которыми пользователь взаимодействовал.\n",
    "    Возвращает:\n",
    "    - precision@3: доля рекомендованных товаров, которые совпали с истинными.\n",
    "    \"\"\"\n",
    "    # Преобразуем user_id в числовой индекс для модели\n",
    "    user_idx = user_encoder.transform([user_id])[0]\n",
    "\n",
    "    # Получаем top-3 рекомендации для пользователя\n",
    "    # В модели ALS каждая рекомендация возвращает пару (item_id, score, additional_info)\n",
    "    recommended = model.recommend(user_idx, user_item_matrix, N=3, filter_already_liked_items=False)\n",
    "    \n",
    "    # Извлекаем индексы товаров из рекомендаций\n",
    "    top_3 = [int(item_idx) for item_idx in recommended[0]]  # преобразуем индексы в целые числа\n",
    "    \n",
    "    # Преобразуем индексы товаров обратно в itemid с помощью item_encoder\n",
    "    try:\n",
    "        top_3_item_ids = item_encoder.inverse_transform(top_3)\n",
    "    except ValueError as e:\n",
    "        print(f\"Ошибка при преобразовании индексов товаров: {e}\")\n",
    "        return None\n",
    "    \n",
    "    # Извлекаем товары, с которыми пользователь взаимодействовал\n",
    "    true_items = user_item_dict.get(user_id, set())\n",
    "\n",
    "    # Считаем количество совпадений\n",
    "    hits = sum([1 for item in top_3_item_ids if item in true_items])\n",
    "\n",
    "    # Вычисляем precision@3 (доля совпавших товаров из 3)\n",
    "    precision = hits / 3\n",
    "    return precision"
   ]
  },
  {
   "cell_type": "markdown",
   "id": "88851d0b",
   "metadata": {},
   "source": [
    "Протестируем функцию на случайной подвыборке."
   ]
  },
  {
   "cell_type": "code",
   "execution_count": 23,
   "id": "7ecfb371",
   "metadata": {},
   "outputs": [
    {
     "name": "stderr",
     "output_type": "stream",
     "text": [
      "100%|██████████| 10000/10000 [02:22<00:00, 70.10it/s]"
     ]
    },
    {
     "name": "stdout",
     "output_type": "stream",
     "text": [
      "Средний Precision@3 ALS по 10000 пользователям: 0.3557\n"
     ]
    },
    {
     "name": "stderr",
     "output_type": "stream",
     "text": [
      "\n"
     ]
    }
   ],
   "source": [
    "random_users = random.sample(list(user_item_dict.keys()), 10000)\n",
    "\n",
    "precisions_als = []\n",
    "for user_id in tqdm(random_users):\n",
    "    precision = precision_at_3_als(user_id, als_model, user_item_matrix, user_encoder, item_encoder, user_item_dict)\n",
    "    if precision is not None:\n",
    "        precisions_als.append(precision)\n",
    "print(f\"Средний Precision@3 ALS по {len(precisions_als)} пользователям: {np.mean(precisions_als):.4f}\")"
   ]
  },
  {
   "cell_type": "markdown",
   "id": "387cc6e3",
   "metadata": {},
   "source": [
    "Неплохо: 35% из топ-3 рекомендованных товаров для пользователей действительно являются товарами, с которыми они взаимодействовали ранее. ALS модель научилась предсказывать предпочтения пользователей даже с ограниченным списком рекомендаций.\n",
    "\n",
    "Функция для получения рекомендаций."
   ]
  },
  {
   "cell_type": "code",
   "execution_count": 24,
   "id": "32b13e9c",
   "metadata": {},
   "outputs": [],
   "source": [
    "def get_als_recommendations(user_id, als_model, user_item_matrix, user_encoder, item_encoder):\n",
    "    \"\"\"\n",
    "    Возвращает top-3 рекомендации для одного пользователя, исключая уже взаимодействовавшие товары.\n",
    "    Параметры:\n",
    "    - user_id: ID пользователя в исходных данных.\n",
    "    - model: обученная ALS модель.\n",
    "    - user_item_matrix: разреженная матрица взаимодействий user-item.\n",
    "    - user_encoder: LabelEncoder, обученный на visitorid.\n",
    "    - item_encoder: LabelEncoder, обученный на itemid.\n",
    "    Возвращает:\n",
    "    - Список из трех itemid (товаров), рекомендованных пользователю.\n",
    "    \"\"\"\n",
    "    try:\n",
    "        # Преобразуем user_id в индекс модели\n",
    "        user_idx = user_encoder.transform([user_id])[0]\n",
    "\n",
    "        # Извлекаем строку из user_item_matrix для этого пользователя\n",
    "        user_item_single = csr_matrix(user_item_matrix[user_idx:user_idx + 1, :])\n",
    "\n",
    "        # Получаем top-3 рекомендации, исключая товары, уже знакомые пользователю\n",
    "        recommended = als_model.recommend(\n",
    "            user_idx,\n",
    "            user_item_single,\n",
    "            N=3,\n",
    "            filter_already_liked_items=True  # Фильтруем товары, с которыми пользователь уже взаимодействовал\n",
    "        )\n",
    "\n",
    "        # Извлекаем индексы товаров\n",
    "        recommended_item_idxs = [int(item_idx) for item_idx in recommended[0]]  # преобразуем индексы в целые числа\n",
    "        \n",
    "        # Переводим индексы товаров обратно в itemid\n",
    "        recommended_item_ids = item_encoder.inverse_transform(recommended_item_idxs)\n",
    "        \n",
    "        return list(recommended_item_ids)\n",
    "\n",
    "    except ValueError:\n",
    "        # Если пользователь не был в обучающей выборке\n",
    "        print(f\"Пользователь {user_id} не был найден в обучающей выборке.\")\n",
    "        return []"
   ]
  },
  {
   "cell_type": "code",
   "execution_count": 25,
   "id": "ad7b025f",
   "metadata": {},
   "outputs": [
    {
     "name": "stdout",
     "output_type": "stream",
     "text": [
      "Рекомендации  ALS для пользователя 712701: [257070, 259357, 132347]\n"
     ]
    }
   ],
   "source": [
    "# Пример использования\n",
    "user_id = random.sample(list(user_item_dict.keys()), 1)[0] \n",
    "top3 = get_als_recommendations(user_id, als_model, user_item_matrix, user_encoder, item_encoder)\n",
    "print(f\"Рекомендации  ALS для пользователя {user_id}: {top3}\")"
   ]
  },
  {
   "cell_type": "markdown",
   "id": "1208ea75",
   "metadata": {},
   "source": [
    "Однозначно, матричная факторизация ALS предпочтительнее для нашей рекомендательной системы, чем SVD.\\\n",
    "Нашей целью была максимально персонализированная система, чтобы она ориентировалась на интересы каждого пользователя. Мы знаем, что для user-item матрицы важна плотность, поэтому с помощью фильтрации мы \"отсеяли\" пользователей и товары менее 5 активностей. А также мы постарались учесть различные факторы для создания рейтинга взаимодействия (можно проверить разные веса для сравнения).\n",
    "\n",
    "Чтобы наша система была полноценной нам необходимо ее дополнить рекомендациями для \"новичков\" и пассивных пользователей с малым количеством взаимодействий + добавить разнообразие товаров (чтобы система подбирала похожие товары по категориям и включала новые/редкие).\\\n",
    "Для этого мы можем совместить нашу ALS с рекомендации от item-based модели, то есть использовать наиболее популярный подход - гибридную систему.\n",
    "\n",
    "## Подход 3. Гибридная система\n",
    "Такие системы позволяют делать рекомендации для новых товаров (cold start) и повышать качество рекомендаций для новых пользователей или пользователей с малым количеством взаимодействий.\n",
    "\n",
    "**Контентная item-based модель.**"
   ]
  },
  {
   "cell_type": "code",
   "execution_count": 26,
   "id": "f3b78448",
   "metadata": {},
   "outputs": [
    {
     "name": "stdout",
     "output_type": "stream",
     "text": [
      "Количество объектов в датасете с товарами:  20275902\n",
      "Размерность после удаления дубликатов:  12003814\n"
     ]
    }
   ],
   "source": [
    "print('Количество объектов в датасете с товарами: ', items.shape[0])\n",
    "# удалим дубликаты по товарам и категориям\n",
    "items = items.drop_duplicates(subset=['itemid', 'property'])\n",
    "print('Размерность после удаления дубликатов: ', items.shape[0])"
   ]
  },
  {
   "cell_type": "markdown",
   "id": "0d6130d1",
   "metadata": {},
   "source": [
    "Признак *value* содержит какие-то идентификаторы, это могут быть id транзакций или id пользователей или что иное, информацией мы не обладаем."
   ]
  },
  {
   "cell_type": "code",
   "execution_count": 27,
   "id": "060e0656",
   "metadata": {},
   "outputs": [
    {
     "data": {
      "text/plain": [
       "['628374 827388 738621 628374 372324 703408 1182824 372324 892975 48.000 1322464 237874 914255 727274 1273256 110652 1086985 1010780 145048 834282 827388 550504 780028 85384 303286 1094068 808508 976593 210086 1297039 197566',\n",
       " '769',\n",
       " '24480.000',\n",
       " '1249027 212349 129268 726702',\n",
       " '927727',\n",
       " '1200.000 1029109',\n",
       " '1097813',\n",
       " '164766',\n",
       " '1441',\n",
       " '113745',\n",
       " '125018 1137617 424149 358393 566381 3600.000']"
      ]
     },
     "execution_count": 27,
     "metadata": {},
     "output_type": "execute_result"
    }
   ],
   "source": [
    "items['value'].unique().tolist()[9:20]"
   ]
  },
  {
   "cell_type": "markdown",
   "id": "482a4f6a",
   "metadata": {},
   "source": [
    "Предлагаю посчитать количество этих идентификаторов для каждого товара."
   ]
  },
  {
   "cell_type": "code",
   "execution_count": 28,
   "id": "0c484370",
   "metadata": {},
   "outputs": [],
   "source": [
    "# Преобразуем колонку 'value' в строку (прежде 'category')\n",
    "items['value'] = items['value'].apply(lambda x: str(x))\n",
    "# разделяем с помощью split и берем длину списка\n",
    "items['value_length'] = items['value'].apply(lambda x: len(x.split()))"
   ]
  },
  {
   "cell_type": "markdown",
   "id": "d54d95c6",
   "metadata": {},
   "source": [
    "Группируем данные по идентификатору товара itemid."
   ]
  },
  {
   "cell_type": "code",
   "execution_count": null,
   "id": "e4e92d4d",
   "metadata": {},
   "outputs": [
    {
     "name": "stdout",
     "output_type": "stream",
     "text": [
      "Количество уникальных товаров:  417053\n"
     ]
    },
    {
     "data": {
      "text/html": [
       "<div>\n",
       "<style scoped>\n",
       "    .dataframe tbody tr th:only-of-type {\n",
       "        vertical-align: middle;\n",
       "    }\n",
       "\n",
       "    .dataframe tbody tr th {\n",
       "        vertical-align: top;\n",
       "    }\n",
       "\n",
       "    .dataframe thead th {\n",
       "        text-align: right;\n",
       "    }\n",
       "</style>\n",
       "<table border=\"1\" class=\"dataframe\">\n",
       "  <thead>\n",
       "    <tr style=\"text-align: right;\">\n",
       "      <th></th>\n",
       "      <th>itemid</th>\n",
       "      <th>property</th>\n",
       "      <th>value_length</th>\n",
       "      <th>depth</th>\n",
       "    </tr>\n",
       "  </thead>\n",
       "  <tbody>\n",
       "    <tr>\n",
       "      <th>0</th>\n",
       "      <td>0</td>\n",
       "      <td>6 776 139 11 1036 917 790 283 159 1056 678 42 ...</td>\n",
       "      <td>40</td>\n",
       "      <td>3.0</td>\n",
       "    </tr>\n",
       "    <tr>\n",
       "      <th>1</th>\n",
       "      <td>1</td>\n",
       "      <td>768 0 6 776 1036 917 790 664 280 283 284 159 3...</td>\n",
       "      <td>71</td>\n",
       "      <td>3.0</td>\n",
       "    </tr>\n",
       "    <tr>\n",
       "      <th>2</th>\n",
       "      <td>2</td>\n",
       "      <td>641 776 778 917 790 282 283 159 678 1063 698 4...</td>\n",
       "      <td>79</td>\n",
       "      <td>3.5</td>\n",
       "    </tr>\n",
       "    <tr>\n",
       "      <th>3</th>\n",
       "      <td>3</td>\n",
       "      <td>1025 6 776 658 917 790 283 30 159 33 678 689 5...</td>\n",
       "      <td>36</td>\n",
       "      <td>3.0</td>\n",
       "    </tr>\n",
       "    <tr>\n",
       "      <th>4</th>\n",
       "      <td>4</td>\n",
       "      <td>897 6 776 917 790 283 28 159 33 678 689 698 83...</td>\n",
       "      <td>42</td>\n",
       "      <td>3.0</td>\n",
       "    </tr>\n",
       "  </tbody>\n",
       "</table>\n",
       "</div>"
      ],
      "text/plain": [
       "   itemid                                           property  value_length  \\\n",
       "0       0  6 776 139 11 1036 917 790 283 159 1056 678 42 ...            40   \n",
       "1       1  768 0 6 776 1036 917 790 664 280 283 284 159 3...            71   \n",
       "2       2  641 776 778 917 790 282 283 159 678 1063 698 4...            79   \n",
       "3       3  1025 6 776 658 917 790 283 30 159 33 678 689 5...            36   \n",
       "4       4  897 6 776 917 790 283 28 159 33 678 689 698 83...            42   \n",
       "\n",
       "   depth  \n",
       "0    3.0  \n",
       "1    3.0  \n",
       "2    3.5  \n",
       "3    3.0  \n",
       "4    3.0  "
      ]
     },
     "execution_count": 29,
     "metadata": {},
     "output_type": "execute_result"
    }
   ],
   "source": [
    "grouped_items = items.groupby('itemid').agg({\n",
    "    'property': lambda x: ' '.join(str(p) for p in set(x)),  # множество уникальных категорий\n",
    "    'value_length': 'sum',                                   # суммируем количество идентификаторов value для товара\n",
    "    'depth': 'median'                                        # медиана вложенности категории в дерево\n",
    "}).reset_index()\n",
    "print('Количество уникальных товаров: ', grouped_items.shape[0])\n",
    "grouped_items.head()"
   ]
  },
  {
   "cell_type": "code",
   "execution_count": 30,
   "id": "179f0820",
   "metadata": {},
   "outputs": [],
   "source": [
    "# сохраним подготовленный датасет, мы сможем его использовать для поиска товаров \n",
    "grouped_items.to_parquet('data/items.parquet')  "
   ]
  },
  {
   "cell_type": "markdown",
   "id": "8e27adfc",
   "metadata": {},
   "source": [
    "Так как у нас довольно много уникальных категорий для каждого товара, мы можем использовать технику TF-IDF для преобразования данного признака в числовое пространство и вычисления сходства между товарами."
   ]
  },
  {
   "cell_type": "code",
   "execution_count": 31,
   "id": "e1e797a0",
   "metadata": {},
   "outputs": [],
   "source": [
    "# Масштабируем числовые признаки\n",
    "scaler = MinMaxScaler()\n",
    "grouped_items[['value_length', 'depth']] = scaler.fit_transform(grouped_items[['value_length', 'depth']])\n",
    "\n",
    "# Преобразуем числовые признаки в разреженный формат\n",
    "numeric_features = csr_matrix(grouped_items[['value_length', 'depth']].values)\n",
    "\n",
    "# TF-IDF векторизация property\n",
    "tfidf_vectorizer = TfidfVectorizer(max_features=600)         # мы помним, что уникальных категорий 1104\n",
    "property_tfidf = tfidf_vectorizer.fit_transform(grouped_items['property'])\n",
    "# Нормализуем матрицу TF-IDF\n",
    "property_tfidf = normalize(property_tfidf)\n",
    "\n",
    "# Объединяем разреженные матрицы (TF-IDF и числовые признаки)\n",
    "item_features_combined = hstack([property_tfidf, numeric_features])"
   ]
  },
  {
   "cell_type": "markdown",
   "id": "8a11b66f",
   "metadata": {},
   "source": [
    "Annoy — библиотека от Spotify, оптимизированная для поиска ближайших соседей в больших наборах данных. Вместо точного поиска ближайших (что долго), она делает приближённый поиск, но многократно ускоряет вычисления.\n",
    "\n",
    "Итак, c помощью AnnoyIndex построим индекс ближайших соседей по векторам, используем метрику angular — эквивалент косинусного расстояния."
   ]
  },
  {
   "cell_type": "code",
   "execution_count": 32,
   "id": "5677a04c",
   "metadata": {},
   "outputs": [
    {
     "data": {
      "text/plain": [
       "602"
      ]
     },
     "execution_count": 32,
     "metadata": {},
     "output_type": "execute_result"
    }
   ],
   "source": [
    "item_features_combined.shape[1] # длина вектора"
   ]
  },
  {
   "cell_type": "code",
   "execution_count": 33,
   "id": "f8ebe50b",
   "metadata": {},
   "outputs": [
    {
     "data": {
      "text/plain": [
       "True"
      ]
     },
     "execution_count": 33,
     "metadata": {},
     "output_type": "execute_result"
    }
   ],
   "source": [
    "# размерность векторов\n",
    "vector_size = item_features_combined.shape[1]\n",
    "# Построение индекса Annoy\n",
    "annoy_index = AnnoyIndex(vector_size, metric='angular')\n",
    "\n",
    "for i in range(item_features_combined.shape[0]):\n",
    "    vector = item_features_combined[i].toarray().flatten().astype(np.float32)\n",
    "    annoy_index.add_item(i, vector)\n",
    "\n",
    "# Строим и сохраняем\n",
    "annoy_index.build(n_trees=20)\n",
    "annoy_index.save(\"item_index.ann\") # сохраняем"
   ]
  },
  {
   "cell_type": "markdown",
   "id": "8ad52f95",
   "metadata": {},
   "source": [
    "**Функция, которая будет возвращать наиболее похожие товары для заданного товара**"
   ]
  },
  {
   "cell_type": "code",
   "execution_count": 34,
   "id": "ad9987e0",
   "metadata": {},
   "outputs": [
    {
     "name": "stdout",
     "output_type": "stream",
     "text": [
      "Похожие товары для item 126785: [102614, 240472, 262481]\n"
     ]
    }
   ],
   "source": [
    "# Сопоставим itemid&индекс в annoy\n",
    "itemid_to_index = dict(zip(grouped_items['itemid'], grouped_items.index)) # для быстрого поиска индекса в Annoy по itemid\n",
    "index_to_itemid = dict(zip(grouped_items.index, grouped_items['itemid'])) # и наоборот — получение itemid по индексу из Annoy\n",
    "\n",
    "# Функция поиска похожих товаров\n",
    "def get_similar_items(itemid, top_n=3):\n",
    "    if itemid not in itemid_to_index:\n",
    "        return []\n",
    "    item_index = itemid_to_index[itemid]\n",
    "    indices = annoy_index.get_nns_by_item(item_index, top_n + 1)[1:]  # исключаем сам товар\n",
    "    return [index_to_itemid[i] for i in indices] # извлекаем itemid по индексу\n",
    "\n",
    "# Пример: похожие товары для какого-нибудь itemid\n",
    "sample_item= random.sample(grouped_items['itemid'].unique().tolist(), 1)[0]\n",
    "similar_items = get_similar_items(sample_item, top_n=3)\n",
    "print(f\"Похожие товары для item {sample_item}: {similar_items}\")"
   ]
  },
  {
   "cell_type": "markdown",
   "id": "105ca241",
   "metadata": {},
   "source": [
    "**Функция отображения похожих товаров со всеми характеристиками и проверки пересечения категорий заданного товара и рекомендованных.**"
   ]
  },
  {
   "cell_type": "code",
   "execution_count": 35,
   "id": "c81e72ce",
   "metadata": {},
   "outputs": [],
   "source": [
    "def get_similar_items_pretty(itemid, top_n=3):\n",
    "    \"\"\"\n",
    "    Находит похожие товары и оценивает пересечение категорий.\n",
    "    Параметры:\n",
    "    - itemid: идентификатор товара, для которого ищем аналоги.\n",
    "    - top_n: количество похожих товаров, которые нужно вернуть.\n",
    "    Возвращает:\n",
    "    - DataFrame с колонками: ['similar_to', 'itemid', 'property', 'value_length', 'depth'],\n",
    "      где 'similar_to' — исходный товар, 'itemid' — похожий товар.\n",
    "    Также выводит в консоль количество пересечений категорий между исходным и каждым похожим товаром.\n",
    "    \"\"\"\n",
    "    # Получаем список itemid похожих товаров (без исходного)\n",
    "    similar_ids = get_similar_items(itemid, top_n)\n",
    "    # Извлекаем информацию о найденных товарах из агрегированного датафрейма\n",
    "    result_df = grouped_items[grouped_items['itemid'].isin(similar_ids)].copy()\n",
    "    # Добавляем колонку с ID исходного товара\n",
    "    result_df['similar_to'] = itemid\n",
    "    # Получаем категории (property) исходного товара как множество\n",
    "    source_categories = set(\n",
    "        grouped_items[grouped_items['itemid'] == itemid]['property'].iloc[0].split()\n",
    "    )\n",
    "    # Пересечения категорий с каждым из похожих товаров\n",
    "    for sid in similar_ids:\n",
    "        # Получаем категории похожего товара\n",
    "        target_categories = set(\n",
    "            grouped_items[grouped_items['itemid'] == sid]['property'].iloc[0].split()\n",
    "        )\n",
    "        # Вычисляем пересечение\n",
    "        overlap = len(source_categories & target_categories)\n",
    "\n",
    "        # Выводим количество общих категорий\n",
    "        print(f\"Пересечение категорий с item {sid}: {overlap} категорий\")\n",
    "\n",
    "    # Возвращаем отформатированный результат\n",
    "    return result_df[['similar_to', 'itemid', 'property', 'value_length', 'depth']]"
   ]
  },
  {
   "cell_type": "code",
   "execution_count": 36,
   "id": "0021f812",
   "metadata": {},
   "outputs": [
    {
     "name": "stdout",
     "output_type": "stream",
     "text": [
      "Пересечение категорий с item 102614: 30 категорий\n",
      "Пересечение категорий с item 240472: 30 категорий\n",
      "Пересечение категорий с item 262481: 30 категорий\n"
     ]
    },
    {
     "data": {
      "text/html": [
       "<div>\n",
       "<style scoped>\n",
       "    .dataframe tbody tr th:only-of-type {\n",
       "        vertical-align: middle;\n",
       "    }\n",
       "\n",
       "    .dataframe tbody tr th {\n",
       "        vertical-align: top;\n",
       "    }\n",
       "\n",
       "    .dataframe thead th {\n",
       "        text-align: right;\n",
       "    }\n",
       "</style>\n",
       "<table border=\"1\" class=\"dataframe\">\n",
       "  <thead>\n",
       "    <tr style=\"text-align: right;\">\n",
       "      <th></th>\n",
       "      <th>similar_to</th>\n",
       "      <th>itemid</th>\n",
       "      <th>property</th>\n",
       "      <th>value_length</th>\n",
       "      <th>depth</th>\n",
       "    </tr>\n",
       "  </thead>\n",
       "  <tbody>\n",
       "    <tr>\n",
       "      <th>91714</th>\n",
       "      <td>126785</td>\n",
       "      <td>102614</td>\n",
       "      <td>6 8 9 776 784 917 790 281 283 28 159 33 546 67...</td>\n",
       "      <td>0.329545</td>\n",
       "      <td>0.0</td>\n",
       "    </tr>\n",
       "    <tr>\n",
       "      <th>214894</th>\n",
       "      <td>126785</td>\n",
       "      <td>240472</td>\n",
       "      <td>6 776 9 8 784 917 790 281 283 28 159 33 546 67...</td>\n",
       "      <td>0.329545</td>\n",
       "      <td>0.0</td>\n",
       "    </tr>\n",
       "    <tr>\n",
       "      <th>234521</th>\n",
       "      <td>126785</td>\n",
       "      <td>262481</td>\n",
       "      <td>6 776 8 9 784 917 790 281 283 28 159 33 546 67...</td>\n",
       "      <td>0.329545</td>\n",
       "      <td>0.0</td>\n",
       "    </tr>\n",
       "  </tbody>\n",
       "</table>\n",
       "</div>"
      ],
      "text/plain": [
       "        similar_to  itemid                                           property  \\\n",
       "91714       126785  102614  6 8 9 776 784 917 790 281 283 28 159 33 546 67...   \n",
       "214894      126785  240472  6 776 9 8 784 917 790 281 283 28 159 33 546 67...   \n",
       "234521      126785  262481  6 776 8 9 784 917 790 281 283 28 159 33 546 67...   \n",
       "\n",
       "        value_length  depth  \n",
       "91714       0.329545    0.0  \n",
       "214894      0.329545    0.0  \n",
       "234521      0.329545    0.0  "
      ]
     },
     "execution_count": 36,
     "metadata": {},
     "output_type": "execute_result"
    }
   ],
   "source": [
    "# пример использования\n",
    "get_similar_items_pretty(sample_item)"
   ]
  },
  {
   "cell_type": "markdown",
   "id": "8e6853f8",
   "metadata": {},
   "source": [
    "**Функция подбора похожих товаров для нового товара**"
   ]
  },
  {
   "cell_type": "code",
   "execution_count": 37,
   "id": "c8efc9db",
   "metadata": {},
   "outputs": [],
   "source": [
    "def find_similar_items_for_new_item(new_property, new_value_length, new_depth, top_n=3):\n",
    "    \"\"\"\n",
    "    Ищет похожие товары для нового товара на основе property, value_length и depth.\n",
    "    Параметры:\n",
    "    - new_property: строка с категориями\n",
    "    - new_value_length: числовое значение\n",
    "    - new_depth: числовое значение\n",
    "    - top_n: количество похожих товаров для возврата\n",
    "    Возвращает:\n",
    "    - список itemid похожих товаров\n",
    "    \"\"\"\n",
    "    # Преобразуем property (TF-IDF)\n",
    "    tfidf_vector = tfidf_vectorizer.transform([new_property])\n",
    "    tfidf_vector = normalize(tfidf_vector)\n",
    "\n",
    "    # Масштабируем числовые признаки\n",
    "    numeric_vector = scaler.transform([[new_value_length, new_depth]])\n",
    "    numeric_vector = csr_matrix(numeric_vector)\n",
    "\n",
    "    # Объединяем вектор\n",
    "    combined_vector = hstack([tfidf_vector, numeric_vector])\n",
    "    combined_vector = combined_vector.toarray().flatten().astype(np.float32)\n",
    "\n",
    "    # Ищем ближайших соседей через Annoy\n",
    "    indices = annoy_index.get_nns_by_vector(combined_vector, top_n)\n",
    "    similar_itemids = [index_to_itemid[i] for i in indices]\n",
    "\n",
    "    return similar_itemids"
   ]
  },
  {
   "cell_type": "code",
   "execution_count": 38,
   "id": "abc81c2e",
   "metadata": {},
   "outputs": [
    {
     "name": "stdout",
     "output_type": "stream",
     "text": [
      "Похожие товары: [431054, 115126, 15297]\n"
     ]
    }
   ],
   "source": [
    "# пример применения find_similar_items_for_new_item\n",
    "sample_item_property = \"888 235 65\"\n",
    "sample_item_value_length = 3\n",
    "sample_item_depth = 3.0\n",
    "\n",
    "similar_items = find_similar_items_for_new_item(\n",
    "    new_property=sample_item_property,\n",
    "    new_value_length=sample_item_value_length,\n",
    "    new_depth=sample_item_depth,\n",
    "    top_n=3\n",
    ")\n",
    "print(f\"Похожие товары: {similar_items}\")"
   ]
  },
  {
   "cell_type": "markdown",
   "id": "e0a47971",
   "metadata": {},
   "source": [
    "### Объединение item-based подхода и модели ALS в гибридную систему.\n",
    "**Описание работы гибридной рекомендательной системы:**\n",
    "1. Новые пользователи (cold start), нет взаимодействий с товарами:\n",
    "* Система рекомендует 2 самых популярных товара и 1 товар, похожий на самый популярный (найденный через item-based модель).\n",
    "2. Пассивные пользователи (1–3 товара):\n",
    "* Система выбирается случайный товар из тех, с которыми пользователь взаимодействовал.\n",
    "* Для данного товара подбираются 2 похожих товара (item-based модель).\n",
    "* Добавляется к списку рекомендаций 1 из топ популярных товаров.\n",
    "3. Активные пользователи (4+ товара):\n",
    "* Система используем модель коллаборативной фильтрации (ALS) для получения топ-3 рекомендации.\n",
    "* Для каждого рекомендованного товара подбираются похожие (через item-based).\n",
    "* Оба источника рекомендаций объединяются, ранжируются с учётом веса alpha (вес можно настраивать).\n",
    "* Система возвращаются топ-3 товара с наибольшим итоговым весом."
   ]
  },
  {
   "cell_type": "code",
   "execution_count": 39,
   "id": "79df59ba",
   "metadata": {},
   "outputs": [
    {
     "name": "stdout",
     "output_type": "stream",
     "text": [
      "Количество пользователей с менее 4 уникальными товарами:  1344286\n"
     ]
    }
   ],
   "source": [
    "# Подсчитаем количество уникальных товаров, с которыми взаимодействовал каждый пользователь\n",
    "all_users = df.groupby('visitorid')['itemid'].nunique()\n",
    "# Оставим только пользователей с менее чем 4 уникальных товаров\n",
    "min_unique_items = 4\n",
    "# пассивные пользователи\n",
    "passive_users = set(all_users[all_users < min_unique_items].index.tolist())\n",
    "print('Количество пользователей с менее 4 уникальными товарами: ', len(passive_users))\n",
    "\n",
    "# Словарь для пассивных пользователей: ключ - пользователь, значение - множество товаров, с которыми взаимодействовал пользователь\n",
    "user_item_for_passive = df[df['visitorid'].isin(passive_users)].groupby('visitorid')['itemid'].apply(set).to_dict()"
   ]
  },
  {
   "cell_type": "code",
   "execution_count": 40,
   "id": "c40727d8",
   "metadata": {},
   "outputs": [],
   "source": [
    "def get_hybrid_recommendations(user_id, user_item_dict, user_item_for_passive, annoy_index, top_n=3, alpha=0.7):\n",
    "    \n",
    "    # Получаем топ-2 популярных товара\n",
    "    top_popular_items = agg_df['itemid'].value_counts().head(2).index.tolist()\n",
    "\n",
    "    # Получаем один товар, похожий на самый популярный\n",
    "    similar_item_for_popular = get_similar_items(top_popular_items[0], top_n=1)\n",
    "    if not isinstance(similar_item_for_popular, list):\n",
    "        similar_item_for_popular = list(similar_item_for_popular)\n",
    "    \n",
    "    # рекомендации для пассивных пользователей (с 1-3 товарами)\n",
    "    if user_id in user_item_for_passive:\n",
    "        items = user_item_for_passive.get(user_id, set())\n",
    "        items = list(items)\n",
    "        if len(items) > 0:\n",
    "            random_item = random.sample(items, 1)[0]\n",
    "            sim_items = get_similar_items(random_item, top_n=2)\n",
    "            if not isinstance(sim_items, list):\n",
    "                sim_items = list(sim_items)\n",
    "            recommendations_for_passive_user = sim_items + [top_popular_items[0]]\n",
    "            return recommendations_for_passive_user\n",
    "        else:\n",
    "            # пользователь в списке пассивных, но без взаимодействий\n",
    "            return top_popular_items + similar_item_for_popular\n",
    "    \n",
    "    # Если пользователя нет в базе, рекомендуем топовые товары + похожие товары для популярных\n",
    "    if user_id not in user_item_for_passive and user_id not in user_item_dict:\n",
    "        recommendations_new = top_popular_items + similar_item_for_popular\n",
    "        return recommendations_new\n",
    "    \n",
    "    # рекомендации для активных пользователей (4+ товара)\n",
    "    if user_id in user_item_dict:\n",
    "        als_recommendations = get_als_recommendations(user_id, als_model, user_item_matrix, user_encoder, item_encoder)\n",
    "\n",
    "        content_recommendations = []\n",
    "        for recommend in als_recommendations:\n",
    "            similar_items = get_similar_items(recommend, top_n=2)\n",
    "            if not isinstance(similar_items, list):\n",
    "                similar_items = list(similar_items)\n",
    "            content_recommendations.extend(similar_items)\n",
    "        \n",
    "        # добавляем веса\n",
    "        weighted_scores = Counter()\n",
    "        for i, item in enumerate(als_recommendations):\n",
    "            weighted_scores[item] += alpha * (top_n - i)\n",
    "        for i, item in enumerate(content_recommendations):\n",
    "            weighted_scores[item] += (1 - alpha) * (top_n - i)\n",
    "\n",
    "        ranked_items = [item for item, _ in weighted_scores.most_common()]\n",
    "        final_recommendations = ranked_items[:top_n]\n",
    "        return final_recommendations"
   ]
  },
  {
   "cell_type": "code",
   "execution_count": 41,
   "id": "68d360c9",
   "metadata": {},
   "outputs": [
    {
     "name": "stdout",
     "output_type": "stream",
     "text": [
      "Гибридные рекомендации для пользователя 76706: [8436, 14188, 257040]\n"
     ]
    }
   ],
   "source": [
    "# Пример использования\n",
    "user_id_example = random.sample(users['visitorid'].unique().tolist(), 1)[0]\n",
    "hybrid_recommend = get_hybrid_recommendations(user_id_example, user_item_dict, user_item_for_passive, annoy_index, top_n=3, alpha=0.7)\n",
    "print(f\"Гибридные рекомендации для пользователя {user_id_example}: {hybrid_recommend}\")"
   ]
  },
  {
   "cell_type": "markdown",
   "id": "d8cd491c",
   "metadata": {},
   "source": [
    "Функция расчета precision@3 для гибридной системы, но мы ее применим для нашей активной базы пользователей.\\\n",
    "Мы получили хорошее качество от ALS для них и хотим проверить, насколько оно отклонится с подключением item-based модели для добавления разнообразия новыми товарами."
   ]
  },
  {
   "cell_type": "code",
   "execution_count": 42,
   "id": "fcbbd859",
   "metadata": {},
   "outputs": [],
   "source": [
    "def hybrid_precision_for_active_users(user_id, als_model, user_item_dict, user_item_matrix, \n",
    "                                      user_encoder, item_encoder, annoy_index, top_n=3, alpha=0.7):\n",
    "    \"\"\"\n",
    "    Оценивает Precision@3 для гибридной рекомендательной системы только на активных пользователях.\n",
    "    Параметры:\n",
    "    - user_id: id пользователя\n",
    "    - user_item_dict: словарь {visitorid: set(itemid)}, товары, с которыми взаимодействовал пользователь\n",
    "    - user_item_matrix: разреженная матрица взаимодействий user-item\n",
    "    - user_encoder, item_encoder: кодировщики\n",
    "    - annoy_index: индекс Annoy для поиска похожих товаров\n",
    "    - top_n: количество рекомендаций\n",
    "    - alpha: вес рекомендаций от ALS (0.0–1.0)\n",
    "    Возвращает:\n",
    "    - средний precision@3 по всем пользователям\n",
    "    \"\"\"\n",
    "    # Преобразуем user_id в числовой индекс для модели\n",
    "    user_idx = user_encoder.transform([user_id])[0]\n",
    "\n",
    "    # Получаем top-3 рекомендации для пользователя от ALS \n",
    "    recommended = als_model.recommend(user_idx, user_item_matrix, N=3, filter_already_liked_items=False) # включаем все товары\n",
    "    \n",
    "    # Извлекаем индексы товаров из рекомендаций\n",
    "    top_3_als = [int(item_idx) for item_idx in recommended[0]]  # преобразуем индексы в целые числа\n",
    "    \n",
    "    # Преобразуем индексы товаров обратно в itemid с помощью item_encoder\n",
    "    try:\n",
    "        top_3_item_ids = item_encoder.inverse_transform(top_3_als)\n",
    "    except ValueError as e:\n",
    "        print(f\"Ошибка при преобразовании индексов товаров: {e}\")\n",
    "        return None\n",
    "    \n",
    "    # добавляем контентные рекомендации\n",
    "    content_recommendations = []\n",
    "    for recommend in top_3_item_ids:\n",
    "        similar_items = get_similar_items(recommend, top_n=2)\n",
    "        if not isinstance(similar_items, list):\n",
    "            similar_items = list(similar_items)\n",
    "        content_recommendations.extend(similar_items)\n",
    "\n",
    "    weighted_scores = Counter()\n",
    "    for i, item in enumerate(top_3_item_ids):\n",
    "        weighted_scores[item] += alpha * (top_n - i)\n",
    "    for i, item in enumerate(content_recommendations):\n",
    "        weighted_scores[item] += (1 - alpha) * (top_n - i)\n",
    "    \n",
    "    # ранжируем\n",
    "    ranked_items = list(dict.fromkeys([item for item, _ in weighted_scores.most_common()]))\n",
    "    top_items = ranked_items[:top_n]\n",
    "\n",
    "    # Извлекаем товары, с которыми пользователь взаимодействовал\n",
    "    true_items = user_item_dict.get(user_id, set())\n",
    "    \n",
    "    # Считаем количество совпадений\n",
    "    hits = sum([1 for item in top_items if item in true_items])\n",
    "\n",
    "    # Вычисляем precision@3 (доля совпавших товаров из 3)\n",
    "    precision = hits / 3\n",
    "    \n",
    "    return precision"
   ]
  },
  {
   "cell_type": "code",
   "execution_count": 43,
   "id": "93f08ef7",
   "metadata": {},
   "outputs": [
    {
     "name": "stderr",
     "output_type": "stream",
     "text": [
      "100%|██████████| 10000/10000 [12:05<00:00, 13.79it/s]"
     ]
    },
    {
     "name": "stdout",
     "output_type": "stream",
     "text": [
      "Средний Precision@3 Hybrid System по 10000 пользователям: 0.3517\n"
     ]
    },
    {
     "name": "stderr",
     "output_type": "stream",
     "text": [
      "\n"
     ]
    }
   ],
   "source": [
    "precisions_hybrid = []\n",
    "for user_id in tqdm(random_users): # та же выборка, что тестировалась для модели ALS\n",
    "    precision = hybrid_precision_for_active_users(user_id, als_model, user_item_dict, user_item_matrix, \n",
    "                                      user_encoder, item_encoder, annoy_index, top_n=3, alpha=0.8)\n",
    "    if precision is not None:\n",
    "        precisions_hybrid.append(precision)\n",
    "print(f\"Средний Precision@3 Hybrid System по {len(precisions_hybrid)} пользователям: {np.mean(precisions_hybrid):.4f}\")"
   ]
  },
  {
   "cell_type": "markdown",
   "id": "0c1b8633",
   "metadata": {},
   "source": [
    "Гибридная рекомендательная система направлена на разнообразие рекомендаций и учитывает следующие ключевые аргументы:\n",
    "1) Охват всех пользователей и товаров: это позволяет системе быть универсальной и давать рекомендации не только для активных пользователей, но и для тех, кто только начинает взаимодействовать с платформой.\n",
    "2) Учет популярности товаров: популярные товары, которые активно просматриваются или покупаются, получают более высокие приоритеты в рекомендациях, что помогает предложить пользователям наиболее востребованные товары.\n",
    "3) Учет активности клиентов: для новых пользователей, а также тех, кто редко взаимодействует с системой, могут быть рекомендованы товары на основе общей популярности, а не исторических предпочтений.\n",
    "4) Включение разнообразия в товарах: рекомендации товаров из похожих категорий.\n",
    "Таким образом, гибридная система не только повышает точность рекомендаций, но и помогает эффективно работать с разнообразными сегментами пользователей, включая тех, кто только начинает использовать систему."
   ]
  },
  {
   "cell_type": "markdown",
   "id": "6a283e1f",
   "metadata": {},
   "source": [
    "## Подход 4. Ранжирование CatBoostRanker \n",
    "CatBoostRanker решает задачу ранжирования, где для каждой группы объектов (в нашем случае, для каждого пользователя) необходимо определить порядок объектов (товары), основываясь на их характеристиках."
   ]
  },
  {
   "cell_type": "code",
   "execution_count": 44,
   "id": "ecd8ea0d",
   "metadata": {},
   "outputs": [],
   "source": [
    "# мы возьмем отфильтрованные данные (пользователи с 4+ товарами) для обучения модели\n",
    "data = filtered_df.copy()"
   ]
  },
  {
   "cell_type": "code",
   "execution_count": 45,
   "id": "06ccb6b0",
   "metadata": {},
   "outputs": [
    {
     "data": {
      "text/html": [
       "<div>\n",
       "<style scoped>\n",
       "    .dataframe tbody tr th:only-of-type {\n",
       "        vertical-align: middle;\n",
       "    }\n",
       "\n",
       "    .dataframe tbody tr th {\n",
       "        vertical-align: top;\n",
       "    }\n",
       "\n",
       "    .dataframe thead th {\n",
       "        text-align: right;\n",
       "    }\n",
       "</style>\n",
       "<table border=\"1\" class=\"dataframe\">\n",
       "  <thead>\n",
       "    <tr style=\"text-align: right;\">\n",
       "      <th></th>\n",
       "      <th>visitorid</th>\n",
       "      <th>itemid</th>\n",
       "      <th>dayofweek</th>\n",
       "      <th>is_weekend</th>\n",
       "      <th>is_holiday</th>\n",
       "      <th>hour</th>\n",
       "      <th>view_count</th>\n",
       "      <th>addtocart_count</th>\n",
       "      <th>purchase_count</th>\n",
       "      <th>conversion</th>\n",
       "      <th>avg_time_view</th>\n",
       "      <th>avg_time_addtocart</th>\n",
       "      <th>avg_time_transaction</th>\n",
       "      <th>total_events</th>\n",
       "      <th>items_count</th>\n",
       "      <th>purchases</th>\n",
       "      <th>session</th>\n",
       "      <th>itemevents_by_visitor</th>\n",
       "      <th>itemviews_before_purchase</th>\n",
       "      <th>time_to_purchase</th>\n",
       "      <th>label</th>\n",
       "    </tr>\n",
       "  </thead>\n",
       "  <tbody>\n",
       "    <tr>\n",
       "      <th>11</th>\n",
       "      <td>1399056</td>\n",
       "      <td>197200</td>\n",
       "      <td>6</td>\n",
       "      <td>True</td>\n",
       "      <td>False</td>\n",
       "      <td>3</td>\n",
       "      <td>32</td>\n",
       "      <td>32</td>\n",
       "      <td>0</td>\n",
       "      <td>0.000000</td>\n",
       "      <td>102.62500</td>\n",
       "      <td>0.000000</td>\n",
       "      <td>0.0</td>\n",
       "      <td>6</td>\n",
       "      <td>5</td>\n",
       "      <td>0</td>\n",
       "      <td>0.029999</td>\n",
       "      <td>2</td>\n",
       "      <td>2.0</td>\n",
       "      <td>0.0</td>\n",
       "      <td>0</td>\n",
       "    </tr>\n",
       "    <tr>\n",
       "      <th>17</th>\n",
       "      <td>990356</td>\n",
       "      <td>161722</td>\n",
       "      <td>6</td>\n",
       "      <td>True</td>\n",
       "      <td>False</td>\n",
       "      <td>3</td>\n",
       "      <td>9</td>\n",
       "      <td>9</td>\n",
       "      <td>0</td>\n",
       "      <td>0.000000</td>\n",
       "      <td>386.50000</td>\n",
       "      <td>0.000000</td>\n",
       "      <td>0.0</td>\n",
       "      <td>14</td>\n",
       "      <td>12</td>\n",
       "      <td>0</td>\n",
       "      <td>195.375000</td>\n",
       "      <td>1</td>\n",
       "      <td>1.0</td>\n",
       "      <td>0.0</td>\n",
       "      <td>0</td>\n",
       "    </tr>\n",
       "    <tr>\n",
       "      <th>24</th>\n",
       "      <td>90447</td>\n",
       "      <td>242145</td>\n",
       "      <td>6</td>\n",
       "      <td>True</td>\n",
       "      <td>False</td>\n",
       "      <td>3</td>\n",
       "      <td>59</td>\n",
       "      <td>59</td>\n",
       "      <td>0</td>\n",
       "      <td>0.000000</td>\n",
       "      <td>56.75000</td>\n",
       "      <td>0.000000</td>\n",
       "      <td>0.0</td>\n",
       "      <td>7</td>\n",
       "      <td>6</td>\n",
       "      <td>0</td>\n",
       "      <td>372.250000</td>\n",
       "      <td>1</td>\n",
       "      <td>1.0</td>\n",
       "      <td>0.0</td>\n",
       "      <td>0</td>\n",
       "    </tr>\n",
       "    <tr>\n",
       "      <th>26</th>\n",
       "      <td>979664</td>\n",
       "      <td>338222</td>\n",
       "      <td>6</td>\n",
       "      <td>True</td>\n",
       "      <td>False</td>\n",
       "      <td>3</td>\n",
       "      <td>53</td>\n",
       "      <td>53</td>\n",
       "      <td>0</td>\n",
       "      <td>0.000000</td>\n",
       "      <td>52.09375</td>\n",
       "      <td>1.870117</td>\n",
       "      <td>0.0</td>\n",
       "      <td>11</td>\n",
       "      <td>9</td>\n",
       "      <td>0</td>\n",
       "      <td>67.500000</td>\n",
       "      <td>2</td>\n",
       "      <td>1.0</td>\n",
       "      <td>0.0</td>\n",
       "      <td>1</td>\n",
       "    </tr>\n",
       "    <tr>\n",
       "      <th>29</th>\n",
       "      <td>1399056</td>\n",
       "      <td>48743</td>\n",
       "      <td>6</td>\n",
       "      <td>True</td>\n",
       "      <td>False</td>\n",
       "      <td>3</td>\n",
       "      <td>174</td>\n",
       "      <td>174</td>\n",
       "      <td>1</td>\n",
       "      <td>0.005749</td>\n",
       "      <td>16.06250</td>\n",
       "      <td>166.750000</td>\n",
       "      <td>0.0</td>\n",
       "      <td>6</td>\n",
       "      <td>5</td>\n",
       "      <td>0</td>\n",
       "      <td>0.029999</td>\n",
       "      <td>1</td>\n",
       "      <td>1.0</td>\n",
       "      <td>0.0</td>\n",
       "      <td>0</td>\n",
       "    </tr>\n",
       "  </tbody>\n",
       "</table>\n",
       "</div>"
      ],
      "text/plain": [
       "   visitorid  itemid dayofweek is_weekend is_holiday hour  view_count  \\\n",
       "11   1399056  197200         6       True      False    3          32   \n",
       "17    990356  161722         6       True      False    3           9   \n",
       "24     90447  242145         6       True      False    3          59   \n",
       "26    979664  338222         6       True      False    3          53   \n",
       "29   1399056   48743         6       True      False    3         174   \n",
       "\n",
       "    addtocart_count  purchase_count  conversion  avg_time_view  \\\n",
       "11               32               0    0.000000      102.62500   \n",
       "17                9               0    0.000000      386.50000   \n",
       "24               59               0    0.000000       56.75000   \n",
       "26               53               0    0.000000       52.09375   \n",
       "29              174               1    0.005749       16.06250   \n",
       "\n",
       "    avg_time_addtocart  avg_time_transaction  total_events  items_count  \\\n",
       "11            0.000000                   0.0             6            5   \n",
       "17            0.000000                   0.0            14           12   \n",
       "24            0.000000                   0.0             7            6   \n",
       "26            1.870117                   0.0            11            9   \n",
       "29          166.750000                   0.0             6            5   \n",
       "\n",
       "    purchases     session  itemevents_by_visitor  itemviews_before_purchase  \\\n",
       "11          0    0.029999                      2                        2.0   \n",
       "17          0  195.375000                      1                        1.0   \n",
       "24          0  372.250000                      1                        1.0   \n",
       "26          0   67.500000                      2                        1.0   \n",
       "29          0    0.029999                      1                        1.0   \n",
       "\n",
       "    time_to_purchase label  \n",
       "11               0.0     0  \n",
       "17               0.0     0  \n",
       "24               0.0     0  \n",
       "26               0.0     1  \n",
       "29               0.0     0  "
      ]
     },
     "execution_count": 45,
     "metadata": {},
     "output_type": "execute_result"
    }
   ],
   "source": [
    "# Создание целевой переменной для ранжирования\n",
    "event_priority = {'view': 0, 'addtocart': 1, 'transaction': 2}   # чем выше значение, тем выше \"ценность\" события\n",
    "data['label'] = data['event'].map(event_priority)\n",
    "\n",
    "# Удаление ненужных признаков \n",
    "data = data.drop(columns=['first_seen', 'last_seen', 'event'])\n",
    "\n",
    "# Создание списка категориальных признаков \n",
    "cat_features = ['visitorid', 'itemid', 'dayofweek', 'is_weekend', 'is_holiday', 'hour']\n",
    "for col in cat_features:\n",
    "    data[col] = data[col].astype('category') \n",
    "\n",
    "# Сортировка по времени\n",
    "data = data.sort_values('timestamp')\n",
    "data = data.drop(columns=['timestamp'])  # timestamp больше не нужен\n",
    "\n",
    "# Определение списка признаков\n",
    "features = [col for col in data.columns if col not in ['label']]\n",
    "data.to_parquet('data/df_ranker.parquet') # сохраняем данные к том виде, как будем подавать для модели в рекомендательной системе\n",
    "\n",
    "# Разделение данных: 90% - обучение, 10% - тест\n",
    "train_df, test_df = train_test_split(data, test_size=0.1, shuffle=False) # сохраняем последовательность данных\n",
    "train_df.head()"
   ]
  },
  {
   "cell_type": "code",
   "execution_count": 46,
   "id": "2fbdf222",
   "metadata": {},
   "outputs": [],
   "source": [
    "# Сортировка по пользователю перед ранжированием \n",
    "train_df = train_df.sort_values(by='visitorid') # CatBoost требует, чтобы объекты одной группы (visitorid) шли подряд\n",
    "test_df = test_df.sort_values(by='visitorid')\n",
    "\n",
    "# Подготовка пулов для CatBoostRanker\n",
    "train_pool = Pool(\n",
    "    data=train_df[features],\n",
    "    label=train_df['label'],\n",
    "    group_id=train_df['visitorid'],\n",
    "    cat_features=cat_features\n",
    ")\n",
    "test_pool = Pool(\n",
    "    data=test_df[features],\n",
    "    label=test_df['label'],\n",
    "    group_id=test_df['visitorid'],\n",
    "    cat_features=cat_features\n",
    ")"
   ]
  },
  {
   "cell_type": "markdown",
   "id": "4ab9c7ba",
   "metadata": {},
   "source": [
    "Для поиска оптимальных параметров для модели мы не будем использовать все данные, это очень затратно по ресурсам.\n",
    "Мы сделаем мини-наборы, подберем гиперпараметры, а затем обучим итогую модель на них."
   ]
  },
  {
   "cell_type": "code",
   "execution_count": 47,
   "id": "b7c2a1a8",
   "metadata": {},
   "outputs": [
    {
     "name": "stdout",
     "output_type": "stream",
     "text": [
      "(106614, 21) (26653, 21)\n"
     ]
    }
   ],
   "source": [
    "# Используем первые 15% данных из train_df для обучения\n",
    "train_size = int(0.15*len(train_df))  \n",
    "train_df_sampled = train_df.iloc[:train_size]  # первые 15% данных по порядку\n",
    "\n",
    "# Для валидации берём следующие данные в 4 раза меньше по размеру\n",
    "valid_size = train_size // 4\n",
    "valid_df_sampled = train_df.iloc[train_size:train_size+valid_size]\n",
    "\n",
    "print(train_df_sampled.shape, valid_df_sampled.shape)\n",
    "\n",
    "train_pool_sampled = Pool(\n",
    "    data=train_df_sampled[features],\n",
    "    label=train_df_sampled['label'],\n",
    "    group_id=train_df_sampled['visitorid'],\n",
    "    cat_features=cat_features\n",
    ")\n",
    "valid_pool_sampled = Pool(\n",
    "    data=valid_df_sampled[features],\n",
    "    label=valid_df_sampled['label'],\n",
    "    group_id=valid_df_sampled['visitorid'],\n",
    "    cat_features=cat_features\n",
    ")"
   ]
  },
  {
   "cell_type": "markdown",
   "id": "e523bb7d",
   "metadata": {},
   "source": [
    "Для подбора гиперпараметров обратимся к оптимизатору optuna."
   ]
  },
  {
   "cell_type": "code",
   "execution_count": 48,
   "id": "681007c4",
   "metadata": {},
   "outputs": [
    {
     "name": "stderr",
     "output_type": "stream",
     "text": [
      "[I 2025-04-14 16:37:09,405] A new study created in memory with name: no-name-5bb8a13f-c6a0-4048-ba3a-2f12e76460b6\n",
      "[I 2025-04-14 16:40:04,224] Trial 0 finished with value: 0.9401404663054221 and parameters: {'iterations': 500, 'learning_rate': 0.05091573520439335, 'depth': 9, 'l2_leaf_reg': 6}. Best is trial 0 with value: 0.9401404663054221.\n",
      "[I 2025-04-14 16:43:30,402] Trial 1 finished with value: 0.9406198411358683 and parameters: {'iterations': 600, 'learning_rate': 0.08589047171684033, 'depth': 8, 'l2_leaf_reg': 2}. Best is trial 1 with value: 0.9406198411358683.\n",
      "[I 2025-04-14 16:47:30,632] Trial 2 finished with value: 0.9398285902061356 and parameters: {'iterations': 500, 'learning_rate': 0.06799327450427634, 'depth': 10, 'l2_leaf_reg': 6}. Best is trial 1 with value: 0.9406198411358683.\n",
      "[I 2025-04-14 16:51:40,877] Trial 3 finished with value: 0.9411173982244087 and parameters: {'iterations': 600, 'learning_rate': 0.07088652441295533, 'depth': 11, 'l2_leaf_reg': 5}. Best is trial 3 with value: 0.9411173982244087.\n",
      "[I 2025-04-14 16:54:55,029] Trial 4 finished with value: 0.9404668967649068 and parameters: {'iterations': 600, 'learning_rate': 0.09752605482080091, 'depth': 7, 'l2_leaf_reg': 5}. Best is trial 3 with value: 0.9411173982244087.\n",
      "[I 2025-04-14 16:58:41,718] Trial 5 finished with value: 0.9405565864194312 and parameters: {'iterations': 500, 'learning_rate': 0.05450264076716852, 'depth': 11, 'l2_leaf_reg': 4}. Best is trial 3 with value: 0.9411173982244087.\n",
      "[I 2025-04-14 17:03:27,124] Trial 6 finished with value: 0.9406099320069785 and parameters: {'iterations': 600, 'learning_rate': 0.09712104423547932, 'depth': 11, 'l2_leaf_reg': 5}. Best is trial 3 with value: 0.9411173982244087.\n",
      "[I 2025-04-14 17:07:11,147] Trial 7 finished with value: 0.9398299313016412 and parameters: {'iterations': 600, 'learning_rate': 0.053943847009941516, 'depth': 10, 'l2_leaf_reg': 5}. Best is trial 3 with value: 0.9411173982244087.\n",
      "[I 2025-04-14 17:10:22,834] Trial 8 finished with value: 0.9410369390399561 and parameters: {'iterations': 500, 'learning_rate': 0.07599699612932302, 'depth': 7, 'l2_leaf_reg': 5}. Best is trial 3 with value: 0.9411173982244087.\n",
      "[I 2025-04-14 17:14:13,187] Trial 9 finished with value: 0.9410596112838473 and parameters: {'iterations': 500, 'learning_rate': 0.06936992451915976, 'depth': 11, 'l2_leaf_reg': 3}. Best is trial 3 with value: 0.9411173982244087.\n"
     ]
    },
    {
     "name": "stdout",
     "output_type": "stream",
     "text": [
      "Наилучшие гиперпараметры: {'iterations': 600, 'learning_rate': 0.07088652441295533, 'depth': 11, 'l2_leaf_reg': 5}\n"
     ]
    }
   ],
   "source": [
    "# Функция для оптимизации гиперпараметров\n",
    "def objective(trial):\n",
    "    # Определяем гиперпараметры для оптимизации\n",
    "    params = {\n",
    "        'iterations': trial.suggest_categorical('iterations', [400, 500, 600]),  # Количество итераций\n",
    "        'learning_rate': trial.suggest_loguniform('learning_rate', 0.05, 0.1),  # Скорость обучения\n",
    "        'depth': trial.suggest_int('depth', 7, 11),  # Глубина деревьев\n",
    "        'l2_leaf_reg': trial.suggest_int('l2_leaf_reg', 2, 6),  # Регуляризация\n",
    "        'loss_function': 'YetiRank',  # Функция потерь\n",
    "        'eval_metric': 'NDCG',  # Метрика для оценки\n",
    "        'verbose': 0,\n",
    "        'random_seed': 42,\n",
    "        'task_type': 'CPU',\n",
    "        'thread_count': 4,\n",
    "        'use_best_model': True\n",
    "    }\n",
    "        \n",
    "    # Инициализация модели с подобранными параметрами\n",
    "    ranker = CatBoostRanker(**params)\n",
    "    ranker.fit(train_pool_sampled, eval_set=valid_pool_sampled)\n",
    "\n",
    "    # Получаем все метрики с помощью get_evals_result\n",
    "    evals_result = ranker.get_evals_result()\n",
    "        \n",
    "    # Извлекаем последнее значение NDCG для валидационной выборки\n",
    "    ndcg_score = evals_result['validation']['NDCG:type=Base'][-1]\n",
    "        \n",
    "    # Очистка памяти\n",
    "    del ranker\n",
    "    gc.collect()\n",
    "\n",
    "    # Возвращаем NDCG\n",
    "    return ndcg_score\n",
    "\n",
    "# Инициализация и запуск оптимизации гиперпараметров\n",
    "study = optuna.create_study(direction='maximize')  # максимизируем NDCG\n",
    "study.optimize(objective, n_trials=10)  # число проб для подбора гиперпараметров, чем больше, тем лучше\n",
    "\n",
    "# Результаты оптимизации\n",
    "print(f\"Наилучшие гиперпараметры: {study.best_trial.params}\")"
   ]
  },
  {
   "cell_type": "code",
   "execution_count": 49,
   "id": "57eafcf8",
   "metadata": {},
   "outputs": [
    {
     "data": {
      "text/plain": [
       "<catboost.core.CatBoostRanker at 0x182907d1a50>"
      ]
     },
     "execution_count": 49,
     "metadata": {},
     "output_type": "execute_result"
    }
   ],
   "source": [
    "opt_params = study.best_trial.params\n",
    "# Создание модели с подобранными гиперпараметрами и обучение\n",
    "ranker = CatBoostRanker(\n",
    "    iterations=opt_params['iterations'],\n",
    "    learning_rate=opt_params['learning_rate'],\n",
    "    depth=opt_params['depth'],\n",
    "    l2_leaf_reg=opt_params['l2_leaf_reg'],\n",
    "    loss_function='YetiRank',   # функция потерь для ранжирования\n",
    "    eval_metric='NDCG',\n",
    "    verbose=0,\n",
    "    random_seed=42,\n",
    "    use_best_model=True,\n",
    "    thread_count = 4,\n",
    "    task_type='CPU'  # если есть возможность, лучше сменить на 'GPU'\n",
    ")\n",
    "ranker.fit(train_pool, eval_set=test_pool)"
   ]
  },
  {
   "cell_type": "code",
   "execution_count": 50,
   "id": "bc2f9bcf",
   "metadata": {},
   "outputs": [
    {
     "data": {
      "text/html": [
       "<div>\n",
       "<style scoped>\n",
       "    .dataframe tbody tr th:only-of-type {\n",
       "        vertical-align: middle;\n",
       "    }\n",
       "\n",
       "    .dataframe tbody tr th {\n",
       "        vertical-align: top;\n",
       "    }\n",
       "\n",
       "    .dataframe thead th {\n",
       "        text-align: right;\n",
       "    }\n",
       "</style>\n",
       "<table border=\"1\" class=\"dataframe\">\n",
       "  <thead>\n",
       "    <tr style=\"text-align: right;\">\n",
       "      <th></th>\n",
       "      <th>visitorid</th>\n",
       "      <th>itemid</th>\n",
       "      <th>preds</th>\n",
       "    </tr>\n",
       "  </thead>\n",
       "  <tbody>\n",
       "    <tr>\n",
       "      <th>2537211</th>\n",
       "      <td>51</td>\n",
       "      <td>358388</td>\n",
       "      <td>-1.754923</td>\n",
       "    </tr>\n",
       "    <tr>\n",
       "      <th>2537225</th>\n",
       "      <td>51</td>\n",
       "      <td>198762</td>\n",
       "      <td>-1.439822</td>\n",
       "    </tr>\n",
       "    <tr>\n",
       "      <th>2537260</th>\n",
       "      <td>51</td>\n",
       "      <td>429304</td>\n",
       "      <td>-1.510127</td>\n",
       "    </tr>\n",
       "    <tr>\n",
       "      <th>2537319</th>\n",
       "      <td>51</td>\n",
       "      <td>198762</td>\n",
       "      <td>-1.439822</td>\n",
       "    </tr>\n",
       "    <tr>\n",
       "      <th>2537341</th>\n",
       "      <td>51</td>\n",
       "      <td>49967</td>\n",
       "      <td>-1.710541</td>\n",
       "    </tr>\n",
       "    <tr>\n",
       "      <th>2537357</th>\n",
       "      <td>51</td>\n",
       "      <td>279059</td>\n",
       "      <td>-2.007947</td>\n",
       "    </tr>\n",
       "    <tr>\n",
       "      <th>2724929</th>\n",
       "      <td>54</td>\n",
       "      <td>283115</td>\n",
       "      <td>-1.162743</td>\n",
       "    </tr>\n",
       "    <tr>\n",
       "      <th>2724797</th>\n",
       "      <td>54</td>\n",
       "      <td>38965</td>\n",
       "      <td>-1.157952</td>\n",
       "    </tr>\n",
       "    <tr>\n",
       "      <th>2724839</th>\n",
       "      <td>54</td>\n",
       "      <td>319680</td>\n",
       "      <td>-1.144212</td>\n",
       "    </tr>\n",
       "    <tr>\n",
       "      <th>2738657</th>\n",
       "      <td>54</td>\n",
       "      <td>249114</td>\n",
       "      <td>-1.928771</td>\n",
       "    </tr>\n",
       "  </tbody>\n",
       "</table>\n",
       "</div>"
      ],
      "text/plain": [
       "        visitorid  itemid     preds\n",
       "2537211        51  358388 -1.754923\n",
       "2537225        51  198762 -1.439822\n",
       "2537260        51  429304 -1.510127\n",
       "2537319        51  198762 -1.439822\n",
       "2537341        51   49967 -1.710541\n",
       "2537357        51  279059 -2.007947\n",
       "2724929        54  283115 -1.162743\n",
       "2724797        54   38965 -1.157952\n",
       "2724839        54  319680 -1.144212\n",
       "2738657        54  249114 -1.928771"
      ]
     },
     "execution_count": 50,
     "metadata": {},
     "output_type": "execute_result"
    }
   ],
   "source": [
    "# Предсказания\n",
    "train_df['preds'] = ranker.predict(train_pool)\n",
    "test_df['preds'] = ranker.predict(test_pool)\n",
    "test_df[['visitorid', 'itemid', 'preds']].head(10)"
   ]
  },
  {
   "cell_type": "markdown",
   "id": "0e12915c",
   "metadata": {},
   "source": [
    "Посмотрим Precision сначала на тренировочном наборе."
   ]
  },
  {
   "cell_type": "code",
   "execution_count": 51,
   "id": "435d6696",
   "metadata": {},
   "outputs": [
    {
     "name": "stderr",
     "output_type": "stream",
     "text": [
      "100%|██████████| 58724/58724 [00:00<00:00, 83909.26it/s]"
     ]
    },
    {
     "name": "stdout",
     "output_type": "stream",
     "text": [
      "Количество пользователей в precision_scores_train:  58724\n",
      "Precision@3 от CatBoostRanker на обучающей выборке : 0.9900\n"
     ]
    },
    {
     "name": "stderr",
     "output_type": "stream",
     "text": [
      "\n"
     ]
    }
   ],
   "source": [
    "# Группируем пользователей в train_df\n",
    "true_items_train = train_df.groupby('visitorid')['itemid'].apply(set)\n",
    "\n",
    "# Фильтруем train_df для пользователей, которые есть в true_items_train\n",
    "train_df_filtered = train_df[train_df['visitorid'].isin(true_items_train.index)]\n",
    "\n",
    "# Топ-3 предсказанных товаров на основе ranker для train_df\n",
    "top_n = 3\n",
    "top_preds_train = (\n",
    "    train_df_filtered.sort_values(by=['visitorid', 'preds'], ascending=[True, False])\n",
    "    .groupby('visitorid').head(top_n)\n",
    "    .groupby('visitorid')['itemid'].apply(list)\n",
    ")\n",
    "\n",
    "# Подсчёт precision@3 для train_df\n",
    "precision_scores_train = []\n",
    "for user_id in tqdm(train_df_filtered['visitorid'].unique()):  # Используем уникальные visitorid\n",
    "    pred_items = top_preds_train.get(user_id, [])  # Получаем предсказанные товары для пользователя\n",
    "    actual_items = true_items_train.get(user_id, set())  # Получаем реальные товары для пользователя\n",
    "    hits = sum([1 for item in pred_items if item in actual_items])  # Подсчёт совпадений\n",
    "    precision_scores_train.append(hits / top_n)\n",
    "\n",
    "# Проверим размер\n",
    "print(\"Количество пользователей в precision_scores_train: \", len(precision_scores_train))\n",
    "\n",
    "# Средний precision@3 для train_df\n",
    "precision_at_3_catboost_train = sum(precision_scores_train) / len(precision_scores_train)\n",
    "print(f\"Precision@3 от CatBoostRanker на обучающей выборке : {precision_at_3_catboost_train:.4f}\")"
   ]
  },
  {
   "cell_type": "markdown",
   "id": "93173f62",
   "metadata": {},
   "source": [
    "Давайте сравним результат с Precision на тестовой выборке."
   ]
  },
  {
   "cell_type": "code",
   "execution_count": 52,
   "id": "c0d9dfa6",
   "metadata": {},
   "outputs": [
    {
     "name": "stderr",
     "output_type": "stream",
     "text": [
      "100%|██████████| 10394/10394 [00:00<00:00, 89483.21it/s]"
     ]
    },
    {
     "name": "stdout",
     "output_type": "stream",
     "text": [
      "Количество пользователей в precision_scores_test:  10394\n",
      "Precision@3 от CatBoostRanker на тестовой выборке : 0.8311\n"
     ]
    },
    {
     "name": "stderr",
     "output_type": "stream",
     "text": [
      "\n"
     ]
    }
   ],
   "source": [
    "# Словарь товаров для каждого пользователя, с которыми он взаимодействовался в test_df\n",
    "true_items_test = test_df.groupby('visitorid')['itemid'].apply(set)\n",
    "test_df_filtered = test_df[test_df['visitorid'].isin(true_items_test.index)]\n",
    "\n",
    "# Топ-3 предсказанных товаров на основе модели\n",
    "top_n = 3\n",
    "top_preds_test = (\n",
    "    test_df_filtered.sort_values(by=['visitorid', 'preds'], ascending=[True, False])\n",
    "    .groupby('visitorid').head(top_n)\n",
    "    .groupby('visitorid')['itemid'].apply(list)\n",
    ")\n",
    "\n",
    "# Подсчёт precision@3\n",
    "precision_scores_test = []\n",
    "for user_id in tqdm(test_df_filtered['visitorid'].unique()):  # Используем уникальные visitorid\n",
    "    pred_items = top_preds_test.get(user_id, [])  # Получаем предсказанные товары для пользователя\n",
    "    actual_items = true_items_test.get(user_id, set())  # Получаем реальные товары для пользователя\n",
    "    hits = sum([1 for item in pred_items if item in actual_items])  # Подсчёт совпадений\n",
    "    precision_scores_test.append(hits / top_n)\n",
    "\n",
    "# Проверим размер\n",
    "print(\"Количество пользователей в precision_scores_test: \", len(precision_scores_test))\n",
    "\n",
    "\n",
    "# Средний precision@3\n",
    "precision_at_3_catboost_test = sum(precision_scores_test) / len(precision_scores_test)\n",
    "print(f\"Precision@3 от CatBoostRanker на тестовой выборке : {precision_at_3_catboost_test:.4f}\")"
   ]
  },
  {
   "cell_type": "code",
   "execution_count": 53,
   "id": "da545f85",
   "metadata": {},
   "outputs": [
    {
     "name": "stdout",
     "output_type": "stream",
     "text": [
      "Top-3 рекомендации от CatBoostRanker для пользователя 972387: [461686, 461686, 461686]\n"
     ]
    }
   ],
   "source": [
    "# Выбор одного пользователя из тестового набора\n",
    "sample_id = random.choice(test_df['visitorid'].unique().tolist())\n",
    "sample_user= test_df[test_df['visitorid'] == sample_id]\n",
    "\n",
    "# Предсказание для выбранного пользователя\n",
    "sample_user['score'] = ranker.predict(sample_user[features])\n",
    "\n",
    "# Сортировка по предсказанным оценкам и выбор top-3 товаров\n",
    "top_items = sample_user.sort_values('score', ascending=False)['itemid'].head(3).tolist()\n",
    "print(f\"Top-3 рекомендации от CatBoostRanker для пользователя {sample_id}: {top_items}\")"
   ]
  },
  {
   "cell_type": "code",
   "execution_count": 54,
   "id": "feacc61b",
   "metadata": {},
   "outputs": [
    {
     "data": {
      "application/vnd.plotly.v1+json": {
       "config": {
        "plotlyServerURL": "https://plot.ly"
       },
       "data": [
        {
         "marker": {
          "color": [
           "blue",
           "green"
          ]
         },
         "type": "bar",
         "x": [
          "ALS",
          "CatBoostRanker"
         ],
         "y": [
          0.35566666666666663,
          0.8310884484638487
         ]
        }
       ],
       "layout": {
        "autosize": true,
        "height": 400,
        "margin": {
         "b": 30,
         "l": 30,
         "r": 10,
         "t": 40
        },
        "template": {
         "data": {
          "bar": [
           {
            "error_x": {
             "color": "#2a3f5f"
            },
            "error_y": {
             "color": "#2a3f5f"
            },
            "marker": {
             "line": {
              "color": "#E5ECF6",
              "width": 0.5
             },
             "pattern": {
              "fillmode": "overlay",
              "size": 10,
              "solidity": 0.2
             }
            },
            "type": "bar"
           }
          ],
          "barpolar": [
           {
            "marker": {
             "line": {
              "color": "#E5ECF6",
              "width": 0.5
             },
             "pattern": {
              "fillmode": "overlay",
              "size": 10,
              "solidity": 0.2
             }
            },
            "type": "barpolar"
           }
          ],
          "carpet": [
           {
            "aaxis": {
             "endlinecolor": "#2a3f5f",
             "gridcolor": "white",
             "linecolor": "white",
             "minorgridcolor": "white",
             "startlinecolor": "#2a3f5f"
            },
            "baxis": {
             "endlinecolor": "#2a3f5f",
             "gridcolor": "white",
             "linecolor": "white",
             "minorgridcolor": "white",
             "startlinecolor": "#2a3f5f"
            },
            "type": "carpet"
           }
          ],
          "choropleth": [
           {
            "colorbar": {
             "outlinewidth": 0,
             "ticks": ""
            },
            "type": "choropleth"
           }
          ],
          "contour": [
           {
            "colorbar": {
             "outlinewidth": 0,
             "ticks": ""
            },
            "colorscale": [
             [
              0,
              "#0d0887"
             ],
             [
              0.1111111111111111,
              "#46039f"
             ],
             [
              0.2222222222222222,
              "#7201a8"
             ],
             [
              0.3333333333333333,
              "#9c179e"
             ],
             [
              0.4444444444444444,
              "#bd3786"
             ],
             [
              0.5555555555555556,
              "#d8576b"
             ],
             [
              0.6666666666666666,
              "#ed7953"
             ],
             [
              0.7777777777777778,
              "#fb9f3a"
             ],
             [
              0.8888888888888888,
              "#fdca26"
             ],
             [
              1,
              "#f0f921"
             ]
            ],
            "type": "contour"
           }
          ],
          "contourcarpet": [
           {
            "colorbar": {
             "outlinewidth": 0,
             "ticks": ""
            },
            "type": "contourcarpet"
           }
          ],
          "heatmap": [
           {
            "colorbar": {
             "outlinewidth": 0,
             "ticks": ""
            },
            "colorscale": [
             [
              0,
              "#0d0887"
             ],
             [
              0.1111111111111111,
              "#46039f"
             ],
             [
              0.2222222222222222,
              "#7201a8"
             ],
             [
              0.3333333333333333,
              "#9c179e"
             ],
             [
              0.4444444444444444,
              "#bd3786"
             ],
             [
              0.5555555555555556,
              "#d8576b"
             ],
             [
              0.6666666666666666,
              "#ed7953"
             ],
             [
              0.7777777777777778,
              "#fb9f3a"
             ],
             [
              0.8888888888888888,
              "#fdca26"
             ],
             [
              1,
              "#f0f921"
             ]
            ],
            "type": "heatmap"
           }
          ],
          "heatmapgl": [
           {
            "colorbar": {
             "outlinewidth": 0,
             "ticks": ""
            },
            "colorscale": [
             [
              0,
              "#0d0887"
             ],
             [
              0.1111111111111111,
              "#46039f"
             ],
             [
              0.2222222222222222,
              "#7201a8"
             ],
             [
              0.3333333333333333,
              "#9c179e"
             ],
             [
              0.4444444444444444,
              "#bd3786"
             ],
             [
              0.5555555555555556,
              "#d8576b"
             ],
             [
              0.6666666666666666,
              "#ed7953"
             ],
             [
              0.7777777777777778,
              "#fb9f3a"
             ],
             [
              0.8888888888888888,
              "#fdca26"
             ],
             [
              1,
              "#f0f921"
             ]
            ],
            "type": "heatmapgl"
           }
          ],
          "histogram": [
           {
            "marker": {
             "pattern": {
              "fillmode": "overlay",
              "size": 10,
              "solidity": 0.2
             }
            },
            "type": "histogram"
           }
          ],
          "histogram2d": [
           {
            "colorbar": {
             "outlinewidth": 0,
             "ticks": ""
            },
            "colorscale": [
             [
              0,
              "#0d0887"
             ],
             [
              0.1111111111111111,
              "#46039f"
             ],
             [
              0.2222222222222222,
              "#7201a8"
             ],
             [
              0.3333333333333333,
              "#9c179e"
             ],
             [
              0.4444444444444444,
              "#bd3786"
             ],
             [
              0.5555555555555556,
              "#d8576b"
             ],
             [
              0.6666666666666666,
              "#ed7953"
             ],
             [
              0.7777777777777778,
              "#fb9f3a"
             ],
             [
              0.8888888888888888,
              "#fdca26"
             ],
             [
              1,
              "#f0f921"
             ]
            ],
            "type": "histogram2d"
           }
          ],
          "histogram2dcontour": [
           {
            "colorbar": {
             "outlinewidth": 0,
             "ticks": ""
            },
            "colorscale": [
             [
              0,
              "#0d0887"
             ],
             [
              0.1111111111111111,
              "#46039f"
             ],
             [
              0.2222222222222222,
              "#7201a8"
             ],
             [
              0.3333333333333333,
              "#9c179e"
             ],
             [
              0.4444444444444444,
              "#bd3786"
             ],
             [
              0.5555555555555556,
              "#d8576b"
             ],
             [
              0.6666666666666666,
              "#ed7953"
             ],
             [
              0.7777777777777778,
              "#fb9f3a"
             ],
             [
              0.8888888888888888,
              "#fdca26"
             ],
             [
              1,
              "#f0f921"
             ]
            ],
            "type": "histogram2dcontour"
           }
          ],
          "mesh3d": [
           {
            "colorbar": {
             "outlinewidth": 0,
             "ticks": ""
            },
            "type": "mesh3d"
           }
          ],
          "parcoords": [
           {
            "line": {
             "colorbar": {
              "outlinewidth": 0,
              "ticks": ""
             }
            },
            "type": "parcoords"
           }
          ],
          "pie": [
           {
            "automargin": true,
            "type": "pie"
           }
          ],
          "scatter": [
           {
            "fillpattern": {
             "fillmode": "overlay",
             "size": 10,
             "solidity": 0.2
            },
            "type": "scatter"
           }
          ],
          "scatter3d": [
           {
            "line": {
             "colorbar": {
              "outlinewidth": 0,
              "ticks": ""
             }
            },
            "marker": {
             "colorbar": {
              "outlinewidth": 0,
              "ticks": ""
             }
            },
            "type": "scatter3d"
           }
          ],
          "scattercarpet": [
           {
            "marker": {
             "colorbar": {
              "outlinewidth": 0,
              "ticks": ""
             }
            },
            "type": "scattercarpet"
           }
          ],
          "scattergeo": [
           {
            "marker": {
             "colorbar": {
              "outlinewidth": 0,
              "ticks": ""
             }
            },
            "type": "scattergeo"
           }
          ],
          "scattergl": [
           {
            "marker": {
             "colorbar": {
              "outlinewidth": 0,
              "ticks": ""
             }
            },
            "type": "scattergl"
           }
          ],
          "scattermapbox": [
           {
            "marker": {
             "colorbar": {
              "outlinewidth": 0,
              "ticks": ""
             }
            },
            "type": "scattermapbox"
           }
          ],
          "scatterpolar": [
           {
            "marker": {
             "colorbar": {
              "outlinewidth": 0,
              "ticks": ""
             }
            },
            "type": "scatterpolar"
           }
          ],
          "scatterpolargl": [
           {
            "marker": {
             "colorbar": {
              "outlinewidth": 0,
              "ticks": ""
             }
            },
            "type": "scatterpolargl"
           }
          ],
          "scatterternary": [
           {
            "marker": {
             "colorbar": {
              "outlinewidth": 0,
              "ticks": ""
             }
            },
            "type": "scatterternary"
           }
          ],
          "surface": [
           {
            "colorbar": {
             "outlinewidth": 0,
             "ticks": ""
            },
            "colorscale": [
             [
              0,
              "#0d0887"
             ],
             [
              0.1111111111111111,
              "#46039f"
             ],
             [
              0.2222222222222222,
              "#7201a8"
             ],
             [
              0.3333333333333333,
              "#9c179e"
             ],
             [
              0.4444444444444444,
              "#bd3786"
             ],
             [
              0.5555555555555556,
              "#d8576b"
             ],
             [
              0.6666666666666666,
              "#ed7953"
             ],
             [
              0.7777777777777778,
              "#fb9f3a"
             ],
             [
              0.8888888888888888,
              "#fdca26"
             ],
             [
              1,
              "#f0f921"
             ]
            ],
            "type": "surface"
           }
          ],
          "table": [
           {
            "cells": {
             "fill": {
              "color": "#EBF0F8"
             },
             "line": {
              "color": "white"
             }
            },
            "header": {
             "fill": {
              "color": "#C8D4E3"
             },
             "line": {
              "color": "white"
             }
            },
            "type": "table"
           }
          ]
         },
         "layout": {
          "annotationdefaults": {
           "arrowcolor": "#2a3f5f",
           "arrowhead": 0,
           "arrowwidth": 1
          },
          "autotypenumbers": "strict",
          "coloraxis": {
           "colorbar": {
            "outlinewidth": 0,
            "ticks": ""
           }
          },
          "colorscale": {
           "diverging": [
            [
             0,
             "#8e0152"
            ],
            [
             0.1,
             "#c51b7d"
            ],
            [
             0.2,
             "#de77ae"
            ],
            [
             0.3,
             "#f1b6da"
            ],
            [
             0.4,
             "#fde0ef"
            ],
            [
             0.5,
             "#f7f7f7"
            ],
            [
             0.6,
             "#e6f5d0"
            ],
            [
             0.7,
             "#b8e186"
            ],
            [
             0.8,
             "#7fbc41"
            ],
            [
             0.9,
             "#4d9221"
            ],
            [
             1,
             "#276419"
            ]
           ],
           "sequential": [
            [
             0,
             "#0d0887"
            ],
            [
             0.1111111111111111,
             "#46039f"
            ],
            [
             0.2222222222222222,
             "#7201a8"
            ],
            [
             0.3333333333333333,
             "#9c179e"
            ],
            [
             0.4444444444444444,
             "#bd3786"
            ],
            [
             0.5555555555555556,
             "#d8576b"
            ],
            [
             0.6666666666666666,
             "#ed7953"
            ],
            [
             0.7777777777777778,
             "#fb9f3a"
            ],
            [
             0.8888888888888888,
             "#fdca26"
            ],
            [
             1,
             "#f0f921"
            ]
           ],
           "sequentialminus": [
            [
             0,
             "#0d0887"
            ],
            [
             0.1111111111111111,
             "#46039f"
            ],
            [
             0.2222222222222222,
             "#7201a8"
            ],
            [
             0.3333333333333333,
             "#9c179e"
            ],
            [
             0.4444444444444444,
             "#bd3786"
            ],
            [
             0.5555555555555556,
             "#d8576b"
            ],
            [
             0.6666666666666666,
             "#ed7953"
            ],
            [
             0.7777777777777778,
             "#fb9f3a"
            ],
            [
             0.8888888888888888,
             "#fdca26"
            ],
            [
             1,
             "#f0f921"
            ]
           ]
          },
          "colorway": [
           "#636efa",
           "#EF553B",
           "#00cc96",
           "#ab63fa",
           "#FFA15A",
           "#19d3f3",
           "#FF6692",
           "#B6E880",
           "#FF97FF",
           "#FECB52"
          ],
          "font": {
           "color": "#2a3f5f"
          },
          "geo": {
           "bgcolor": "white",
           "lakecolor": "white",
           "landcolor": "#E5ECF6",
           "showlakes": true,
           "showland": true,
           "subunitcolor": "white"
          },
          "hoverlabel": {
           "align": "left"
          },
          "hovermode": "closest",
          "mapbox": {
           "style": "light"
          },
          "paper_bgcolor": "white",
          "plot_bgcolor": "#E5ECF6",
          "polar": {
           "angularaxis": {
            "gridcolor": "white",
            "linecolor": "white",
            "ticks": ""
           },
           "bgcolor": "#E5ECF6",
           "radialaxis": {
            "gridcolor": "white",
            "linecolor": "white",
            "ticks": ""
           }
          },
          "scene": {
           "xaxis": {
            "backgroundcolor": "#E5ECF6",
            "gridcolor": "white",
            "gridwidth": 2,
            "linecolor": "white",
            "showbackground": true,
            "ticks": "",
            "zerolinecolor": "white"
           },
           "yaxis": {
            "backgroundcolor": "#E5ECF6",
            "gridcolor": "white",
            "gridwidth": 2,
            "linecolor": "white",
            "showbackground": true,
            "ticks": "",
            "zerolinecolor": "white"
           },
           "zaxis": {
            "backgroundcolor": "#E5ECF6",
            "gridcolor": "white",
            "gridwidth": 2,
            "linecolor": "white",
            "showbackground": true,
            "ticks": "",
            "zerolinecolor": "white"
           }
          },
          "shapedefaults": {
           "line": {
            "color": "#2a3f5f"
           }
          },
          "ternary": {
           "aaxis": {
            "gridcolor": "white",
            "linecolor": "white",
            "ticks": ""
           },
           "baxis": {
            "gridcolor": "white",
            "linecolor": "white",
            "ticks": ""
           },
           "bgcolor": "#E5ECF6",
           "caxis": {
            "gridcolor": "white",
            "linecolor": "white",
            "ticks": ""
           }
          },
          "title": {
           "x": 0.05
          },
          "xaxis": {
           "automargin": true,
           "gridcolor": "white",
           "linecolor": "white",
           "ticks": "",
           "title": {
            "standoff": 15
           },
           "zerolinecolor": "white",
           "zerolinewidth": 2
          },
          "yaxis": {
           "automargin": true,
           "gridcolor": "white",
           "linecolor": "white",
           "ticks": "",
           "title": {
            "standoff": 15
           },
           "zerolinecolor": "white",
           "zerolinewidth": 2
          }
         }
        },
        "title": {
         "text": "Сравнение моделей по Precision@3"
        },
        "width": 400,
        "xaxis": {
         "title": {
          "text": "Модель"
         }
        },
        "yaxis": {
         "title": {
          "text": "Precision@3"
         }
        }
       }
      }
     },
     "metadata": {},
     "output_type": "display_data"
    }
   ],
   "source": [
    "# отобразим на графике значения метрики precision двух лучших подходов\n",
    "models = ['ALS', 'CatBoostRanker']\n",
    "scores = [np.mean(precisions_als), precision_at_3_catboost_test]\n",
    "\n",
    "fig = go.Figure([\n",
    "    go.Bar(x=models, y=scores, marker_color=['blue', 'green'])\n",
    "])\n",
    "fig.update_layout(\n",
    "    title='Сравнение моделей по Precision@3',\n",
    "    yaxis=dict(title='Precision@3'),\n",
    "    xaxis=dict(title='Модель'),\n",
    "    template='plotly',\n",
    "    autosize=True, margin=dict(t=40, b=30, l=30, r=10),\n",
    "    width=400, height=400\n",
    ")\n",
    "fig.show()"
   ]
  },
  {
   "cell_type": "code",
   "execution_count": 55,
   "id": "d9c87b41",
   "metadata": {},
   "outputs": [],
   "source": [
    "# сохраним модель\n",
    "ranker.save_model('catboost_ranker.bin')"
   ]
  },
  {
   "cell_type": "markdown",
   "id": "64d1bc89",
   "metadata": {},
   "source": [
    "### <center>Заключение</center>\n",
    "Самым лучшим алгоритмом для формирования рекомендаций для активной аудитории пользователей (63294 человека), история которых начинается от 4 действий на платформе, оказался CatBoostRanker, его рекомендации на тестовой выборке совпали примерно на 83% с товарами, которые пользователь выбрал сам. \n",
    "\n",
    "Но в текущей базе данных имеется 1,407,580 пользователей, а значит, рекомендательной системой, которая будет учитывать как активную часть, так и пассивную (что является абсолютным большинством 1,344,286) или новых пользователей лучше выбрать гибридную, которая будет включать как рекомендации от ранжировщика catboost, так и рекомендации самых популярных товаров для \"новичков\", а также подбор похожих товаров по категориям для пассивных пользователей с небольшой историей (1-3 действия).\n",
    "\n",
    "Мы строили и тестировали модели с ориентиром на любые действия от пользователей, а не только на покупки, потому что доля транзакций составляет менее 1% от всех событий, поэтому было важно учитывать просмотры, но с меньшим весом.\n",
    "\n",
    "Следующим шагом будет создание веб-сервиса гибридной рекомендательной системы. Настройка сбора метрик и мониторинга за системой.\n"
   ]
  }
 ],
 "metadata": {
  "kernelspec": {
   "display_name": "Python 3",
   "language": "python",
   "name": "python3"
  },
  "language_info": {
   "codemirror_mode": {
    "name": "ipython",
    "version": 3
   },
   "file_extension": ".py",
   "mimetype": "text/x-python",
   "name": "python",
   "nbconvert_exporter": "python",
   "pygments_lexer": "ipython3",
   "version": "3.11.11"
  }
 },
 "nbformat": 4,
 "nbformat_minor": 5
}
