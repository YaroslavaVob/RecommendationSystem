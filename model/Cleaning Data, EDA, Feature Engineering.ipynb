{
 "cells": [
  {
   "cell_type": "code",
   "execution_count": 1,
   "metadata": {
    "colab": {
     "base_uri": "https://localhost:8080/"
    },
    "executionInfo": {
     "elapsed": 32319,
     "status": "ok",
     "timestamp": 1743660947039,
     "user": {
      "displayName": "Yaroslava Vobsharkyan",
      "userId": "00357389548322361796"
     },
     "user_tz": -180
    },
    "id": "n7i3fjnrGSCb",
    "outputId": "ad072e51-e7bc-4039-cf49-7f097e910a94"
   },
   "outputs": [],
   "source": [
    "# from google.colab import drive\n",
    "# drive.mount('/content/drive/', force_remount=True)"
   ]
  },
  {
   "cell_type": "code",
   "execution_count": 2,
   "metadata": {},
   "outputs": [],
   "source": [
    "# import sys\n",
    "# sys.path.append('/content/drive/MyDrive/DIPLOMA')"
   ]
  },
  {
   "cell_type": "markdown",
   "metadata": {
    "id": "yEYnZ4QlFwE0"
   },
   "source": [
    "# Этап подготовки данных к моделированию.\n",
    "**Цель проекта:**\n",
    "создание рекомендательной системы товаров для ритейл компании.\n",
    "\n",
    "**Задачи первого этапа**:\n",
    "1) Подгрузка данных\n",
    "2) Очистка\n",
    "3) Разведывательный анализ с визуализацией \n",
    "4) Генерация факторов"
   ]
  },
  {
   "cell_type": "code",
   "execution_count": null,
   "metadata": {
    "colab": {
     "base_uri": "https://localhost:8080/",
     "height": 17
    },
    "executionInfo": {
     "elapsed": 7322,
     "status": "ok",
     "timestamp": 1743660954371,
     "user": {
      "displayName": "Yaroslava Vobsharkyan",
      "userId": "00357389548322361796"
     },
     "user_tz": -180
    },
    "id": "dEVIXqHsFwE4",
    "outputId": "70bdac00-03d6-49d7-fbea-851bc348c12a"
   },
   "outputs": [
    {
     "data": {
      "text/html": [
       "        <script type=\"text/javascript\">\n",
       "        window.PlotlyConfig = {MathJaxConfig: 'local'};\n",
       "        if (window.MathJax && window.MathJax.Hub && window.MathJax.Hub.Config) {window.MathJax.Hub.Config({SVG: {font: \"STIX-Web\"}});}\n",
       "        if (typeof require !== 'undefined') {\n",
       "        require.undef(\"plotly\");\n",
       "        requirejs.config({\n",
       "            paths: {\n",
       "                'plotly': ['https://cdn.plot.ly/plotly-2.35.2.min']\n",
       "            }\n",
       "        });\n",
       "        require(['plotly'], function(Plotly) {\n",
       "            window._Plotly = Plotly;\n",
       "        });\n",
       "        }\n",
       "        </script>\n",
       "        "
      ]
     },
     "metadata": {},
     "output_type": "display_data"
    }
   ],
   "source": [
    "import pandas as pd\n",
    "import numpy as np\n",
    "import matplotlib.pyplot as plt\n",
    "import seaborn as sns\n",
    "import plotly.express as px                                # интерактивная визуализации данных\n",
    "import plotly.graph_objects as go                          # для создания многоуровневых графиков                   \n",
    "from plotly.subplots import make_subplots                  \n",
    "\n",
    "import dask.dataframe as dd                                # библиотека для работы с большими данными\n",
    "\n",
    "from optimize_memory_usage import optimize_memory_usage    # функция оптимизации использования памяти\n",
    "from time_features import generate_time_features           # функция генерации временных признаков из даты\n",
    "\n",
    "# отображение графиков в режиме оффлайн\n",
    "from plotly.offline import plot, iplot, init_notebook_mode\n",
    "init_notebook_mode(connected=True)\n",
    "import plotly.io as pio\n",
    "pio.renderers.default = \"notebook_connected\"\n",
    "# pio.renderers.default = \"colab\"\n",
    "\n",
    "import holidays                                            # пакет с праздничными днями\n",
    "import warnings\n",
    "warnings.filterwarnings('ignore')"
   ]
  },
  {
   "cell_type": "markdown",
   "metadata": {
    "id": "VnGocj3rFwE6"
   },
   "source": [
    "## 1.Этап знакомства с данными.\n",
    "Прежде чем мы будем загружать данные, желательно посмотреть, насколько они большие."
   ]
  },
  {
   "cell_type": "code",
   "execution_count": 4,
   "metadata": {
    "colab": {
     "base_uri": "https://localhost:8080/"
    },
    "executionInfo": {
     "elapsed": 21734,
     "status": "ok",
     "timestamp": 1743660976109,
     "user": {
      "displayName": "Yaroslava Vobsharkyan",
      "userId": "00357389548322361796"
     },
     "user_tz": -180
    },
    "id": "VlGcHM6LFwE6",
    "outputId": "75ced0d9-dd2c-40d0-9b99-59efc87a16b6"
   },
   "outputs": [
    {
     "name": "stdout",
     "output_type": "stream",
     "text": [
      "Всего строк в файле data/category_tree.csv: 1,670\n",
      "Всего строк в файле data/events.csv: 2,756,102\n",
      "Всего строк в файле data/item_properties_part1.csv: 11,000,000\n",
      "Всего строк в файле data/item_properties_part2.csv: 9,275,904\n"
     ]
    }
   ],
   "source": [
    "# path = '/content/drive/MyDrive/DIPLOMA'\n",
    "files = [\"data/category_tree.csv\", \"data/events.csv\", \n",
    "         \"data/item_properties_part1.csv\", \"data/item_properties_part2.csv\"] # список файловых данных\n",
    "\n",
    "for file in files:\n",
    "    # file_path = f\"{path}/{file}\"  # Формируем полный путь к файлу\n",
    "    # Посчитаем количество строк в файле\n",
    "    with open(file, 'r') as f:\n",
    "        rows = sum(1 for line in f)\n",
    "        print(f\"Всего строк в файле {file}: {rows:,}\")"
   ]
  },
  {
   "cell_type": "markdown",
   "metadata": {
    "id": "APbp_5aEFwE7"
   },
   "source": [
    "### 1.1 Events\n",
    "Файл *events* достаточно большой, но гораздо уступает последним двум, начнем с него."
   ]
  },
  {
   "cell_type": "code",
   "execution_count": 5,
   "metadata": {
    "colab": {
     "base_uri": "https://localhost:8080/",
     "height": 206
    },
    "executionInfo": {
     "elapsed": 1437,
     "status": "ok",
     "timestamp": 1743660977549,
     "user": {
      "displayName": "Yaroslava Vobsharkyan",
      "userId": "00357389548322361796"
     },
     "user_tz": -180
    },
    "id": "xnjmKQ-pFwE7",
    "outputId": "4c48abe1-954a-465a-a654-d522444ba68c"
   },
   "outputs": [
    {
     "data": {
      "text/html": [
       "<div>\n",
       "<style scoped>\n",
       "    .dataframe tbody tr th:only-of-type {\n",
       "        vertical-align: middle;\n",
       "    }\n",
       "\n",
       "    .dataframe tbody tr th {\n",
       "        vertical-align: top;\n",
       "    }\n",
       "\n",
       "    .dataframe thead th {\n",
       "        text-align: right;\n",
       "    }\n",
       "</style>\n",
       "<table border=\"1\" class=\"dataframe\">\n",
       "  <thead>\n",
       "    <tr style=\"text-align: right;\">\n",
       "      <th></th>\n",
       "      <th>timestamp</th>\n",
       "      <th>visitorid</th>\n",
       "      <th>event</th>\n",
       "      <th>itemid</th>\n",
       "      <th>transactionid</th>\n",
       "    </tr>\n",
       "  </thead>\n",
       "  <tbody>\n",
       "    <tr>\n",
       "      <th>0</th>\n",
       "      <td>1433221332117</td>\n",
       "      <td>257597</td>\n",
       "      <td>view</td>\n",
       "      <td>355908</td>\n",
       "      <td>NaN</td>\n",
       "    </tr>\n",
       "    <tr>\n",
       "      <th>1</th>\n",
       "      <td>1433224214164</td>\n",
       "      <td>992329</td>\n",
       "      <td>view</td>\n",
       "      <td>248676</td>\n",
       "      <td>NaN</td>\n",
       "    </tr>\n",
       "    <tr>\n",
       "      <th>2</th>\n",
       "      <td>1433221999827</td>\n",
       "      <td>111016</td>\n",
       "      <td>view</td>\n",
       "      <td>318965</td>\n",
       "      <td>NaN</td>\n",
       "    </tr>\n",
       "    <tr>\n",
       "      <th>3</th>\n",
       "      <td>1433221955914</td>\n",
       "      <td>483717</td>\n",
       "      <td>view</td>\n",
       "      <td>253185</td>\n",
       "      <td>NaN</td>\n",
       "    </tr>\n",
       "    <tr>\n",
       "      <th>4</th>\n",
       "      <td>1433221337106</td>\n",
       "      <td>951259</td>\n",
       "      <td>view</td>\n",
       "      <td>367447</td>\n",
       "      <td>NaN</td>\n",
       "    </tr>\n",
       "  </tbody>\n",
       "</table>\n",
       "</div>"
      ],
      "text/plain": [
       "       timestamp  visitorid event  itemid  transactionid\n",
       "0  1433221332117     257597  view  355908            NaN\n",
       "1  1433224214164     992329  view  248676            NaN\n",
       "2  1433221999827     111016  view  318965            NaN\n",
       "3  1433221955914     483717  view  253185            NaN\n",
       "4  1433221337106     951259  view  367447            NaN"
      ]
     },
     "execution_count": 5,
     "metadata": {},
     "output_type": "execute_result"
    }
   ],
   "source": [
    "with open('data/events.csv', 'r') as f:    # with open(path+'/events.csv', 'r') as f:\n",
    "    events = pd.read_csv(f)\n",
    "events.head()"
   ]
  },
  {
   "cell_type": "code",
   "execution_count": 6,
   "metadata": {
    "colab": {
     "base_uri": "https://localhost:8080/"
    },
    "executionInfo": {
     "elapsed": 482,
     "status": "ok",
     "timestamp": 1743660978046,
     "user": {
      "displayName": "Yaroslava Vobsharkyan",
      "userId": "00357389548322361796"
     },
     "user_tz": -180
    },
    "id": "dOEHpjKvFwE7",
    "outputId": "b742b3a3-4492-4fc4-8f5f-bb81c82c97fc"
   },
   "outputs": [
    {
     "name": "stdout",
     "output_type": "stream",
     "text": [
      "<class 'pandas.core.frame.DataFrame'>\n",
      "RangeIndex: 2756101 entries, 0 to 2756100\n",
      "Data columns (total 5 columns):\n",
      " #   Column         Dtype  \n",
      "---  ------         -----  \n",
      " 0   timestamp      int64  \n",
      " 1   visitorid      int64  \n",
      " 2   event          object \n",
      " 3   itemid         int64  \n",
      " 4   transactionid  float64\n",
      "dtypes: float64(1), int64(3), object(1)\n",
      "memory usage: 105.1+ MB\n"
     ]
    }
   ],
   "source": [
    "# взглянем на типы данных и занимаемый размер памяти\n",
    "events.info()"
   ]
  },
  {
   "cell_type": "markdown",
   "metadata": {
    "id": "thRILqCYFwE8"
   },
   "source": [
    "Мы видим достаточно большой используемый размер памяти, поэтому будем сразу изменять типы данных, чтобы при обработке потреблялось меньше ресурсов.\\\n",
    "Применим функцию для оптимизации использования памяти."
   ]
  },
  {
   "cell_type": "code",
   "execution_count": 7,
   "metadata": {
    "colab": {
     "base_uri": "https://localhost:8080/"
    },
    "executionInfo": {
     "elapsed": 222,
     "status": "ok",
     "timestamp": 1743660978272,
     "user": {
      "displayName": "Yaroslava Vobsharkyan",
      "userId": "00357389548322361796"
     },
     "user_tz": -180
    },
    "id": "MRsF5LNiFwE8",
    "outputId": "52ded5eb-7221-4c1f-a5f6-9e7c3e53f91a"
   },
   "outputs": [
    {
     "name": "stdout",
     "output_type": "stream",
     "text": [
      "Начальный размер памяти: 244.92 MB\n",
      "Конечный размер памяти: 49.94 MB\n",
      "Экономия памяти: 194.98 MB\n"
     ]
    }
   ],
   "source": [
    "events = optimize_memory_usage(events)"
   ]
  },
  {
   "cell_type": "markdown",
   "metadata": {
    "id": "z58QJogfFwE8"
   },
   "source": [
    "Преобразовываем признак *timestamp*.\\\n",
    "Даты представлены в формате Unix timestamp (в миллисекундах). Преобразуем их в формат datetime, указав параметром unit='ms'."
   ]
  },
  {
   "cell_type": "code",
   "execution_count": 8,
   "metadata": {
    "colab": {
     "base_uri": "https://localhost:8080/"
    },
    "executionInfo": {
     "elapsed": 281,
     "status": "ok",
     "timestamp": 1743660978564,
     "user": {
      "displayName": "Yaroslava Vobsharkyan",
      "userId": "00357389548322361796"
     },
     "user_tz": -180
    },
    "id": "yHr3ZaxTFwE9",
    "outputId": "ecfdc069-3fdd-43a0-93f6-b243184c0fb5"
   },
   "outputs": [
    {
     "name": "stdout",
     "output_type": "stream",
     "text": [
      "<class 'pandas.core.frame.DataFrame'>\n",
      "RangeIndex: 2756101 entries, 0 to 2756100\n",
      "Data columns (total 5 columns):\n",
      " #   Column         Dtype         \n",
      "---  ------         -----         \n",
      " 0   timestamp      datetime64[ns]\n",
      " 1   visitorid      uint32        \n",
      " 2   event          category      \n",
      " 3   itemid         uint32        \n",
      " 4   transactionid  float16       \n",
      "dtypes: category(1), datetime64[ns](1), float16(1), uint32(2)\n",
      "memory usage: 49.9 MB\n"
     ]
    }
   ],
   "source": [
    "events['timestamp'] = pd.to_datetime(events['timestamp'], unit='ms')\n",
    "events.info()"
   ]
  },
  {
   "cell_type": "markdown",
   "metadata": {
    "id": "ihsKPiaOFwE9"
   },
   "source": [
    "### 1.2 Properties\n",
    "Перейдем к загрузке данных о товарах и их свойствах.\\\n",
    "Файлы *item_properties_part1.csv*, *item_properties_part2.csv* имеют большое количество объектов, выведем первые несколько строк, посмотрим на типы и при загрузке поменяем тип данных, а потом оптимизируем итоговый датасет."
   ]
  },
  {
   "cell_type": "code",
   "execution_count": 9,
   "metadata": {
    "colab": {
     "base_uri": "https://localhost:8080/"
    },
    "executionInfo": {
     "elapsed": 15,
     "status": "ok",
     "timestamp": 1743660978582,
     "user": {
      "displayName": "Yaroslava Vobsharkyan",
      "userId": "00357389548322361796"
     },
     "user_tz": -180
    },
    "id": "RiIAjfQ6FwE9",
    "outputId": "8bd346da-4c37-414c-a80d-6a0fea0ef109"
   },
   "outputs": [
    {
     "name": "stdout",
     "output_type": "stream",
     "text": [
      "<class 'pandas.core.frame.DataFrame'>\n",
      "RangeIndex: 1000 entries, 0 to 999\n",
      "Data columns (total 4 columns):\n",
      " #   Column     Non-Null Count  Dtype \n",
      "---  ------     --------------  ----- \n",
      " 0   timestamp  1000 non-null   int64 \n",
      " 1   itemid     1000 non-null   int64 \n",
      " 2   property   1000 non-null   object\n",
      " 3   value      1000 non-null   object\n",
      "dtypes: int64(2), object(2)\n",
      "memory usage: 31.4+ KB\n"
     ]
    }
   ],
   "source": [
    "with open('data/item_properties_part1.csv', 'r') as f:   # with open(path+'/item_properties_part1.csv', 'r') as f:\n",
    "    sample = pd.read_csv(f, nrows=1000)\n",
    "sample.info()"
   ]
  },
  {
   "cell_type": "code",
   "execution_count": 10,
   "metadata": {
    "colab": {
     "base_uri": "https://localhost:8080/"
    },
    "executionInfo": {
     "elapsed": 42388,
     "status": "ok",
     "timestamp": 1743661020976,
     "user": {
      "displayName": "Yaroslava Vobsharkyan",
      "userId": "00357389548322361796"
     },
     "user_tz": -180
    },
    "id": "9zQUpb2BFwE9",
    "outputId": "99ea6e3f-f7cd-4bd3-d218-b33cbdd841f8"
   },
   "outputs": [
    {
     "name": "stdout",
     "output_type": "stream",
     "text": [
      "Начальный размер памяти: 2848.15 MB\n",
      "Конечный размер памяти: 593.43 MB\n",
      "Экономия памяти: 2254.72 MB\n",
      "<class 'pandas.core.frame.DataFrame'>\n",
      "RangeIndex: 20275902 entries, 0 to 20275901\n",
      "Data columns (total 4 columns):\n",
      " #   Column     Dtype   \n",
      "---  ------     -----   \n",
      " 0   timestamp  uint64  \n",
      " 1   itemid     uint32  \n",
      " 2   property   category\n",
      " 3   value      category\n",
      "dtypes: category(2), uint32(1), uint64(1)\n",
      "memory usage: 427.6 MB\n"
     ]
    }
   ],
   "source": [
    "# Определяем типы данных для оптимизации памяти\n",
    "dtypes = {\n",
    "    \"timestamp\": \"uint64\",\n",
    "    \"itemid\": \"uint32\"\n",
    "}\n",
    "# Загружаем файлы с указанием типов\n",
    "with open(\"data/item_properties_part1.csv\", 'r') as f:    # with open(path+\"/item_properties_part1.csv\", 'r') as f:\n",
    "    properties1 = pd.read_csv(f, dtype=dtypes)\n",
    "\n",
    "with open(\"data/item_properties_part2.csv\", 'r') as f:    # with open(path+\"/item_properties_part2.csv\", 'r') as f:\n",
    "    properties2 = pd.read_csv(f, dtype=dtypes)\n",
    "\n",
    "# Объединяем данные\n",
    "properties = pd.concat([properties1, properties2], axis=0, ignore_index=True)\n",
    "# Применяем функцию оптимизации использования памяти\n",
    "properties = optimize_memory_usage(properties)\n",
    "\n",
    "properties.info()"
   ]
  },
  {
   "cell_type": "markdown",
   "metadata": {
    "id": "G5_HcygUFwE9"
   },
   "source": [
    "Переводим, как и ранее, признак *timestamp* в нужный формат datetime."
   ]
  },
  {
   "cell_type": "code",
   "execution_count": 11,
   "metadata": {
    "colab": {
     "base_uri": "https://localhost:8080/",
     "height": 206
    },
    "executionInfo": {
     "elapsed": 636,
     "status": "ok",
     "timestamp": 1743661021614,
     "user": {
      "displayName": "Yaroslava Vobsharkyan",
      "userId": "00357389548322361796"
     },
     "user_tz": -180
    },
    "id": "228j0wKIFwE-",
    "outputId": "c90efaa9-fdd7-4f45-b12f-1d87c11a281a"
   },
   "outputs": [
    {
     "data": {
      "text/html": [
       "<div>\n",
       "<style scoped>\n",
       "    .dataframe tbody tr th:only-of-type {\n",
       "        vertical-align: middle;\n",
       "    }\n",
       "\n",
       "    .dataframe tbody tr th {\n",
       "        vertical-align: top;\n",
       "    }\n",
       "\n",
       "    .dataframe thead th {\n",
       "        text-align: right;\n",
       "    }\n",
       "</style>\n",
       "<table border=\"1\" class=\"dataframe\">\n",
       "  <thead>\n",
       "    <tr style=\"text-align: right;\">\n",
       "      <th></th>\n",
       "      <th>timestamp</th>\n",
       "      <th>itemid</th>\n",
       "      <th>property</th>\n",
       "      <th>value</th>\n",
       "    </tr>\n",
       "  </thead>\n",
       "  <tbody>\n",
       "    <tr>\n",
       "      <th>0</th>\n",
       "      <td>2015-06-28 03:00:00</td>\n",
       "      <td>460429</td>\n",
       "      <td>categoryid</td>\n",
       "      <td>1338</td>\n",
       "    </tr>\n",
       "    <tr>\n",
       "      <th>1</th>\n",
       "      <td>2015-09-06 03:00:00</td>\n",
       "      <td>206783</td>\n",
       "      <td>888</td>\n",
       "      <td>1116713 960601 n277.200</td>\n",
       "    </tr>\n",
       "    <tr>\n",
       "      <th>2</th>\n",
       "      <td>2015-08-09 03:00:00</td>\n",
       "      <td>395014</td>\n",
       "      <td>400</td>\n",
       "      <td>n552.000 639502 n720.000 424566</td>\n",
       "    </tr>\n",
       "    <tr>\n",
       "      <th>3</th>\n",
       "      <td>2015-05-10 03:00:00</td>\n",
       "      <td>59481</td>\n",
       "      <td>790</td>\n",
       "      <td>n15360.000</td>\n",
       "    </tr>\n",
       "    <tr>\n",
       "      <th>4</th>\n",
       "      <td>2015-05-17 03:00:00</td>\n",
       "      <td>156781</td>\n",
       "      <td>917</td>\n",
       "      <td>828513</td>\n",
       "    </tr>\n",
       "  </tbody>\n",
       "</table>\n",
       "</div>"
      ],
      "text/plain": [
       "            timestamp  itemid    property                            value\n",
       "0 2015-06-28 03:00:00  460429  categoryid                             1338\n",
       "1 2015-09-06 03:00:00  206783         888          1116713 960601 n277.200\n",
       "2 2015-08-09 03:00:00  395014         400  n552.000 639502 n720.000 424566\n",
       "3 2015-05-10 03:00:00   59481         790                       n15360.000\n",
       "4 2015-05-17 03:00:00  156781         917                           828513"
      ]
     },
     "execution_count": 11,
     "metadata": {},
     "output_type": "execute_result"
    }
   ],
   "source": [
    "properties[\"timestamp\"] = pd.to_datetime(properties[\"timestamp\"], unit=\"ms\")\n",
    "properties.head()"
   ]
  },
  {
   "cell_type": "markdown",
   "metadata": {
    "id": "mm2268pKFwE-"
   },
   "source": [
    "### 1.3 Category_tree"
   ]
  },
  {
   "cell_type": "code",
   "execution_count": 12,
   "metadata": {
    "colab": {
     "base_uri": "https://localhost:8080/"
    },
    "executionInfo": {
     "elapsed": 8,
     "status": "ok",
     "timestamp": 1743661021627,
     "user": {
      "displayName": "Yaroslava Vobsharkyan",
      "userId": "00357389548322361796"
     },
     "user_tz": -180
    },
    "id": "O7uXBv9ZFwE-",
    "outputId": "e173a923-072b-4374-8bd4-91d957e989c4"
   },
   "outputs": [
    {
     "name": "stdout",
     "output_type": "stream",
     "text": [
      "<class 'pandas.core.frame.DataFrame'>\n",
      "RangeIndex: 1669 entries, 0 to 1668\n",
      "Data columns (total 2 columns):\n",
      " #   Column      Non-Null Count  Dtype  \n",
      "---  ------      --------------  -----  \n",
      " 0   categoryid  1669 non-null   int64  \n",
      " 1   parentid    1644 non-null   float64\n",
      "dtypes: float64(1), int64(1)\n",
      "memory usage: 26.2 KB\n"
     ]
    }
   ],
   "source": [
    "with open(\"data/category_tree.csv\", 'r') as f:      # with open(path+\"/category_tree.csv\", 'r') as f:\n",
    "    tree = pd.read_csv(f)\n",
    "tree.info()"
   ]
  },
  {
   "cell_type": "markdown",
   "metadata": {
    "id": "Z2WTUHDVFwE-"
   },
   "source": [
    "#### Описание данных:\n",
    "1) events — датасет событий:\n",
    "* timestamp — время события,\n",
    "* visitorid — идентификатор пользователя,\n",
    "* event — тип события,\n",
    "* itemid — идентификатор объекта,\n",
    "* transactionid — идентификатор транзакции, если она проходила.\n",
    "\n",
    "2) tree — датасет с деревом категорий:\n",
    "* category_id — идентификатор категорий,\n",
    "* parent_id — идентификатор родительской категории.\n",
    "\n",
    "3) properties — датасет со свойствами товаров:\n",
    "* timestamp — момент записи значения свойства,\n",
    "* itemid — идентификатор объекта,\n",
    "* property — свойства-категории (зашифрованы в числовые значения),\n",
    "* value — значение также зашифровано (перечисление каких-то id)."
   ]
  },
  {
   "cell_type": "markdown",
   "metadata": {
    "id": "O_667Ar9FwE-"
   },
   "source": [
    "## 2. Очистка от пропусков и дубликатов\n",
    "### 2.1 Датасет events"
   ]
  },
  {
   "cell_type": "code",
   "execution_count": 13,
   "metadata": {
    "colab": {
     "base_uri": "https://localhost:8080/"
    },
    "executionInfo": {
     "elapsed": 7,
     "status": "ok",
     "timestamp": 1743661021637,
     "user": {
      "displayName": "Yaroslava Vobsharkyan",
      "userId": "00357389548322361796"
     },
     "user_tz": -180
    },
    "id": "fgl3Xwh_FwE-",
    "outputId": "c3935f44-18e8-4c08-cd88-7c1873c3a446"
   },
   "outputs": [
    {
     "name": "stdout",
     "output_type": "stream",
     "text": [
      "Пропуски в данных о событиях: \n",
      "timestamp              0\n",
      "visitorid              0\n",
      "event                  0\n",
      "itemid                 0\n",
      "transactionid    2733644\n",
      "dtype: int64\n"
     ]
    }
   ],
   "source": [
    "print('Пропуски в данных о событиях: ', events.isnull().sum(), sep='\\n')"
   ]
  },
  {
   "cell_type": "code",
   "execution_count": 14,
   "metadata": {
    "colab": {
     "base_uri": "https://localhost:8080/"
    },
    "executionInfo": {
     "elapsed": 8,
     "status": "ok",
     "timestamp": 1743661021647,
     "user": {
      "displayName": "Yaroslava Vobsharkyan",
      "userId": "00357389548322361796"
     },
     "user_tz": -180
    },
    "id": "k3q7p5T7FwE_",
    "outputId": "fcb6811c-4fbe-4852-b6d8-a2c6bd3a6e4e"
   },
   "outputs": [
    {
     "name": "stdout",
     "output_type": "stream",
     "text": [
      "[   nan  4000. 11120.  5444. 13552.  7244.  8800.  5216. 11712.  2416.\n",
      " 15912. 14928. 11616. 11952.  3052. 11416.  1343. 11136.  1798. 16608.]\n"
     ]
    }
   ],
   "source": [
    "# как вообще выглядят значения признака transactionid\n",
    "print(events['transactionid'].unique()[:20])"
   ]
  },
  {
   "cell_type": "markdown",
   "metadata": {
    "id": "quw27SbZFwE_"
   },
   "source": [
    "Логично, что огромное количество пропусков в признаке идентификатора транзакции, мы видили, что тип события-транзакция встречается очень мало по сравнению с большинством событий типа view (просмотры). То есть если событие *event* типа транзакция, то в признаке *transactionid* имеется id транзакции, в остальных значениях - пропуск NaN.\n",
    "\n",
    "Преобразуем признак в *transaction*: 1 - если состоялось событие ⇒ транзакция, 0 - иное событие."
   ]
  },
  {
   "cell_type": "code",
   "execution_count": 15,
   "metadata": {
    "colab": {
     "base_uri": "https://localhost:8080/",
     "height": 178
    },
    "executionInfo": {
     "elapsed": 1566,
     "status": "ok",
     "timestamp": 1743661023215,
     "user": {
      "displayName": "Yaroslava Vobsharkyan",
      "userId": "00357389548322361796"
     },
     "user_tz": -180
    },
    "id": "fBzSs6FJFwE_",
    "outputId": "81e051cd-6b81-4e87-bf65-5b4f96793721"
   },
   "outputs": [
    {
     "data": {
      "text/plain": [
       "transaction\n",
       "0    2733644\n",
       "1      22457\n",
       "Name: count, dtype: int64"
      ]
     },
     "execution_count": 15,
     "metadata": {},
     "output_type": "execute_result"
    }
   ],
   "source": [
    "# Переименование столбца 'transactionid' в 'transaction'\n",
    "events.rename(columns={'transactionid': 'transaction'}, inplace=True)\n",
    "# преобразование в бинарный признак\n",
    "events['transaction'] = events['transaction'].apply(lambda x: 0 if pd.isna(x) else 1).astype('uint8')\n",
    "events['transaction'].value_counts()"
   ]
  },
  {
   "cell_type": "markdown",
   "metadata": {
    "id": "Nq4Y4HeCFwE_"
   },
   "source": [
    "Удалим дубликаты, если они имеются."
   ]
  },
  {
   "cell_type": "code",
   "execution_count": 16,
   "metadata": {
    "colab": {
     "base_uri": "https://localhost:8080/"
    },
    "executionInfo": {
     "elapsed": 2137,
     "status": "ok",
     "timestamp": 1743661025359,
     "user": {
      "displayName": "Yaroslava Vobsharkyan",
      "userId": "00357389548322361796"
     },
     "user_tz": -180
    },
    "id": "gRWyfIDnFwE_",
    "outputId": "27f4bd5c-c67d-4dfa-c69b-7c343bfb301c"
   },
   "outputs": [
    {
     "name": "stdout",
     "output_type": "stream",
     "text": [
      "Количество дубликатов в наборе о событиях: 460\n"
     ]
    }
   ],
   "source": [
    "duplicates = events.duplicated()\n",
    "# Подсчет количества дубликатов\n",
    "num_duplicates = duplicates.sum()\n",
    "print(f\"Количество дубликатов в наборе о событиях: {num_duplicates}\")\n",
    "# удалим дубликаты\n",
    "events.drop_duplicates(inplace=True)"
   ]
  },
  {
   "cell_type": "markdown",
   "metadata": {
    "id": "88l26eGOFwE_"
   },
   "source": [
    "Отсортируем данные о событиях по датам и посмотрим, за какой период мы имеет данные."
   ]
  },
  {
   "cell_type": "code",
   "execution_count": 17,
   "metadata": {
    "colab": {
     "base_uri": "https://localhost:8080/"
    },
    "executionInfo": {
     "elapsed": 304,
     "status": "ok",
     "timestamp": 1743661025665,
     "user": {
      "displayName": "Yaroslava Vobsharkyan",
      "userId": "00357389548322361796"
     },
     "user_tz": -180
    },
    "id": "HWwMT4RyFwE_",
    "outputId": "157d6581-1b61-43cb-bb15-852319d57a8c"
   },
   "outputs": [
    {
     "name": "stdout",
     "output_type": "stream",
     "text": [
      "Период собранных данных для набора событий: с 2015-05-03 по 2015-09-18\n"
     ]
    }
   ],
   "source": [
    "events = events.sort_values(by='timestamp').reset_index(drop=True)\n",
    "print(f\"Период собранных данных для набора событий: с {events['timestamp'].min().date()} по {events['timestamp'].max().date()}\")"
   ]
  },
  {
   "cell_type": "markdown",
   "metadata": {
    "id": "mCjdKC2RFwE_"
   },
   "source": [
    "C 3 мая по 18 сентября 2015 года - данные за 4,5 месяца.\n",
    "\n",
    "### 2.2 Датасет tree"
   ]
  },
  {
   "cell_type": "code",
   "execution_count": 18,
   "metadata": {
    "colab": {
     "base_uri": "https://localhost:8080/"
    },
    "executionInfo": {
     "elapsed": 7,
     "status": "ok",
     "timestamp": 1743661025673,
     "user": {
      "displayName": "Yaroslava Vobsharkyan",
      "userId": "00357389548322361796"
     },
     "user_tz": -180
    },
    "id": "ei7DxDQ4FwE_",
    "outputId": "edc36c34-584f-449c-d3d2-ecbbd82171d0"
   },
   "outputs": [
    {
     "name": "stdout",
     "output_type": "stream",
     "text": [
      "Пропуски в дереве категорий: \n",
      "categoryid     0\n",
      "parentid      25\n",
      "dtype: int64\n"
     ]
    }
   ],
   "source": [
    "print('Пропуски в дереве категорий: ', tree.isnull().sum(), sep='\\n')"
   ]
  },
  {
   "cell_type": "markdown",
   "metadata": {},
   "source": [
    "**Воссоздание дерева категорий**:\n",
    "1) Создаем словарь связей (categoryid → parentid).\n",
    "2) Рекурсивно вычисляем глубину каждой категории, начиная с корневых узлов."
   ]
  },
  {
   "cell_type": "code",
   "execution_count": 19,
   "metadata": {
    "colab": {
     "base_uri": "https://localhost:8080/"
    },
    "executionInfo": {
     "elapsed": 97,
     "status": "ok",
     "timestamp": 1743661025771,
     "user": {
      "displayName": "Yaroslava Vobsharkyan",
      "userId": "00357389548322361796"
     },
     "user_tz": -180
    },
    "id": "gxFPyyPFFwFA",
    "outputId": "fb59825a-2014-4b23-e730-036a18ce9586"
   },
   "outputs": [
    {
     "name": "stdout",
     "output_type": "stream",
     "text": [
      "      categoryid  parentid  depth\n",
      "1624         395        -1      1\n",
      "1616        1482        -1      1\n",
      "1476        1452        -1      1\n",
      "1142         378        -1      1\n",
      "1329        1057        -1      1\n"
     ]
    }
   ],
   "source": [
    "tree['parentid'] = tree['parentid'].fillna(-1).astype(int)  # Заменяем NaN на -1\n",
    "\n",
    "# Создаем словарь parent-child\n",
    "category_dict = dict(zip(tree['categoryid'], tree['parentid']))\n",
    "\n",
    "# Функция для вычисления глубины узла\n",
    "def get_depth(category_id, depth_cache={}):\n",
    "    if category_id in depth_cache:\n",
    "        return depth_cache[category_id]\n",
    "    if category_id == -1:\n",
    "        return 0\n",
    "    parent_id = category_dict.get(category_id, -1)\n",
    "    depth_cache[category_id] = 1 + get_depth(parent_id, depth_cache)\n",
    "    return depth_cache[category_id]\n",
    "\n",
    "# Вычисляем глубину для всех категорий\n",
    "tree['depth'] = tree['categoryid'].map(lambda x: get_depth(x))\n",
    "\n",
    "# Выводим дерево с глубиной вложенности\n",
    "print(tree.sort_values('depth').head())"
   ]
  },
  {
   "cell_type": "markdown",
   "metadata": {},
   "source": [
    "Теперь мы можем проанализировать структуры дерева: понять, какие категории являются основными, а какие вложенными.\n",
    "\n",
    "Если в датасете properties признак property соответствует categoryid, то можно связать свойства с уровнями вложенности и анализировать закономерности. Тем самым мы можем анализировать путь пользователя по категориям и улучшать персонализацию для рекомендательных систем."
   ]
  },
  {
   "cell_type": "markdown",
   "metadata": {
    "id": "eTtXXrYzFwFA"
   },
   "source": [
    "### 2.3 Датасет properties"
   ]
  },
  {
   "cell_type": "code",
   "execution_count": 20,
   "metadata": {
    "colab": {
     "base_uri": "https://localhost:8080/",
     "height": 209
    },
    "executionInfo": {
     "elapsed": 95,
     "status": "ok",
     "timestamp": 1743661025877,
     "user": {
      "displayName": "Yaroslava Vobsharkyan",
      "userId": "00357389548322361796"
     },
     "user_tz": -180
    },
    "id": "5V8XYsoRFwFA",
    "outputId": "81da6bc2-012a-487f-9b28-0edb8322aff3"
   },
   "outputs": [
    {
     "data": {
      "text/plain": [
       "timestamp    0\n",
       "itemid       0\n",
       "property     0\n",
       "value        0\n",
       "dtype: int64"
      ]
     },
     "execution_count": 20,
     "metadata": {},
     "output_type": "execute_result"
    }
   ],
   "source": [
    "# проверка пропусков\n",
    "properties.isnull().sum()"
   ]
  },
  {
   "cell_type": "code",
   "execution_count": 21,
   "metadata": {
    "colab": {
     "base_uri": "https://localhost:8080/"
    },
    "executionInfo": {
     "elapsed": 4838,
     "status": "ok",
     "timestamp": 1743661030718,
     "user": {
      "displayName": "Yaroslava Vobsharkyan",
      "userId": "00357389548322361796"
     },
     "user_tz": -180
    },
    "id": "AQWPOe-uFwFA",
    "outputId": "842aa01f-b250-4bee-98b4-de40aec0baca"
   },
   "outputs": [
    {
     "name": "stdout",
     "output_type": "stream",
     "text": [
      "Количество дубликатов в датасете о товарах: 0\n"
     ]
    }
   ],
   "source": [
    "# проверка дубликатов\n",
    "duplicates = properties.duplicated()\n",
    "# подсчет количества дубликатов\n",
    "num_duplicates = duplicates.sum()\n",
    "print(f\"Количество дубликатов в датасете о товарах: {num_duplicates}\")"
   ]
  },
  {
   "cell_type": "markdown",
   "metadata": {
    "id": "5MvJgC5ZFwFA"
   },
   "source": [
    "Данный датасет содержит интересный фактор - property: зафишрованное свойство товара. Давайте посмотрим его."
   ]
  },
  {
   "cell_type": "code",
   "execution_count": 22,
   "metadata": {
    "colab": {
     "base_uri": "https://localhost:8080/"
    },
    "executionInfo": {
     "elapsed": 180,
     "status": "ok",
     "timestamp": 1743661030901,
     "user": {
      "displayName": "Yaroslava Vobsharkyan",
      "userId": "00357389548322361796"
     },
     "user_tz": -180
    },
    "id": "STx80rWqFwFB",
    "outputId": "15d23060-b89e-4690-d434-87dc11defa24"
   },
   "outputs": [
    {
     "data": {
      "text/plain": [
       "1104"
      ]
     },
     "execution_count": 22,
     "metadata": {},
     "output_type": "execute_result"
    }
   ],
   "source": [
    "# сколько уникальных значений у признака property\n",
    "properties.property.nunique()"
   ]
  },
  {
   "cell_type": "code",
   "execution_count": 23,
   "metadata": {
    "colab": {
     "base_uri": "https://localhost:8080/"
    },
    "executionInfo": {
     "elapsed": 292,
     "status": "ok",
     "timestamp": 1743661031197,
     "user": {
      "displayName": "Yaroslava Vobsharkyan",
      "userId": "00357389548322361796"
     },
     "user_tz": -180
    },
    "id": "BqAEHQsnFwFB",
    "outputId": "1f24e94b-58e1-41d8-a53d-5cd6089f74ca"
   },
   "outputs": [
    {
     "name": "stdout",
     "output_type": "stream",
     "text": [
      "Уникальные значения, состоящие не только из цифр: {'categoryid', 'available'}\n"
     ]
    }
   ],
   "source": [
    "# Фильтруем значения в признаке property, которые содержат не только цифры\n",
    "words_property = set(properties['property'][~properties['property'].str.isdigit()])\n",
    "# Выводим результат\n",
    "print(f\"Уникальные значения, состоящие не только из цифр: {words_property}\")"
   ]
  },
  {
   "cell_type": "markdown",
   "metadata": {
    "id": "-TzxGwwtFwFF"
   },
   "source": [
    "Наблюдаем всего два буквенных свойства property, можем перевести их в числовые и преобразовать тип данного признака в числовой."
   ]
  },
  {
   "cell_type": "code",
   "execution_count": 24,
   "metadata": {
    "colab": {
     "base_uri": "https://localhost:8080/"
    },
    "executionInfo": {
     "elapsed": 11569,
     "status": "ok",
     "timestamp": 1743661042769,
     "user": {
      "displayName": "Yaroslava Vobsharkyan",
      "userId": "00357389548322361796"
     },
     "user_tz": -180
    },
    "id": "OdHPb_JXFwFF",
    "outputId": "fead91ad-2a61-4255-e7e5-e579f3a7756b"
   },
   "outputs": [
    {
     "data": {
      "text/plain": [
       "[946, 474, 226]"
      ]
     },
     "execution_count": 24,
     "metadata": {},
     "output_type": "execute_result"
    }
   ],
   "source": [
    "# Преобразуем все значения в столбце 'property', которые являются числами, в список чисел\n",
    "# Это исключит текстовые значения\n",
    "numeric_values = pd.to_numeric(properties['property'], errors='coerce').dropna().astype(int).unique()\n",
    "\n",
    "# Находим минимальное и максимальное число в текущем списке числовых значений\n",
    "min_value = numeric_values.min()\n",
    "max_value = numeric_values.max()\n",
    "\n",
    "# Создаем список чисел, которые не присутствуют в текущем наборе\n",
    "all_numbers = set(range(min_value, max_value + 1))\n",
    "missing_numbers = list(all_numbers - set(numeric_values))\n",
    "missing_numbers"
   ]
  },
  {
   "cell_type": "markdown",
   "metadata": {
    "id": "HIyWTgyVFwFF"
   },
   "source": [
    "Итак, для значения *categoryid* мы присвоем число 226, для значения *available* - 474."
   ]
  },
  {
   "cell_type": "code",
   "execution_count": 25,
   "metadata": {
    "colab": {
     "base_uri": "https://localhost:8080/"
    },
    "executionInfo": {
     "elapsed": 186,
     "status": "ok",
     "timestamp": 1743661042957,
     "user": {
      "displayName": "Yaroslava Vobsharkyan",
      "userId": "00357389548322361796"
     },
     "user_tz": -180
    },
    "id": "2Qvr7-qMFwFF",
    "outputId": "688d6493-6235-475c-f7be-81395a619349"
   },
   "outputs": [
    {
     "data": {
      "text/plain": [
       "1104"
      ]
     },
     "execution_count": 25,
     "metadata": {},
     "output_type": "execute_result"
    }
   ],
   "source": [
    "replace_values = {'categoryid': missing_numbers[2], 'available': missing_numbers[1]}\n",
    "# Заменяем текстовые значения на выбранные числа\n",
    "properties['property'] = properties['property'].replace(replace_values)\n",
    "properties.property.nunique()"
   ]
  },
  {
   "cell_type": "code",
   "execution_count": 26,
   "metadata": {
    "colab": {
     "base_uri": "https://localhost:8080/"
    },
    "executionInfo": {
     "elapsed": 169,
     "status": "ok",
     "timestamp": 1743661043127,
     "user": {
      "displayName": "Yaroslava Vobsharkyan",
      "userId": "00357389548322361796"
     },
     "user_tz": -180
    },
    "id": "6l2kBv5rFwFG",
    "outputId": "4d839885-b861-484c-b9a6-ab0249d385d9"
   },
   "outputs": [
    {
     "name": "stdout",
     "output_type": "stream",
     "text": [
      "<class 'pandas.core.frame.DataFrame'>\n",
      "RangeIndex: 20275902 entries, 0 to 20275901\n",
      "Data columns (total 4 columns):\n",
      " #   Column     Dtype         \n",
      "---  ------     -----         \n",
      " 0   timestamp  datetime64[ns]\n",
      " 1   itemid     uint32        \n",
      " 2   property   uint16        \n",
      " 3   value      category      \n",
      "dtypes: category(1), datetime64[ns](1), uint16(1), uint32(1)\n",
      "memory usage: 427.6 MB\n"
     ]
    }
   ],
   "source": [
    "# не забываем оптимизировать\n",
    "properties['property'] = properties['property'].astype('uint16') # [0, 65535]\n",
    "properties.info()"
   ]
  },
  {
   "cell_type": "markdown",
   "metadata": {
    "id": "HOnOhYJJFwFG"
   },
   "source": [
    "Отобразим топ-20 значений в признаке *property* на столбчатой диаграмме."
   ]
  },
  {
   "cell_type": "code",
   "execution_count": 27,
   "metadata": {
    "colab": {
     "base_uri": "https://localhost:8080/",
     "height": 417
    },
    "executionInfo": {
     "elapsed": 8872,
     "status": "ok",
     "timestamp": 1743661052556,
     "user": {
      "displayName": "Yaroslava Vobsharkyan",
      "userId": "00357389548322361796"
     },
     "user_tz": -180
    },
    "id": "-XLYYES-FwFG",
    "outputId": "6a2bc1b5-9395-4548-a19c-c1715f9fded9"
   },
   "outputs": [
    {
     "data": {
      "text/html": [
       "        <script type=\"text/javascript\">\n",
       "        window.PlotlyConfig = {MathJaxConfig: 'local'};\n",
       "        if (window.MathJax && window.MathJax.Hub && window.MathJax.Hub.Config) {window.MathJax.Hub.Config({SVG: {font: \"STIX-Web\"}});}\n",
       "        if (typeof require !== 'undefined') {\n",
       "        require.undef(\"plotly\");\n",
       "        requirejs.config({\n",
       "            paths: {\n",
       "                'plotly': ['https://cdn.plot.ly/plotly-2.35.2.min']\n",
       "            }\n",
       "        });\n",
       "        require(['plotly'], function(Plotly) {\n",
       "            window._Plotly = Plotly;\n",
       "        });\n",
       "        }\n",
       "        </script>\n",
       "        "
      ]
     },
     "metadata": {},
     "output_type": "display_data"
    },
    {
     "data": {
      "text/html": [
       "<div>                            <div id=\"9f377fe3-27a7-4324-b1ee-97c4397af038\" class=\"plotly-graph-div\" style=\"height:400px; width:800px;\"></div>            <script type=\"text/javascript\">                require([\"plotly\"], function(Plotly) {                    window.PLOTLYENV=window.PLOTLYENV || {};                                    if (document.getElementById(\"9f377fe3-27a7-4324-b1ee-97c4397af038\")) {                    Plotly.newPlot(                        \"9f377fe3-27a7-4324-b1ee-97c4397af038\",                        [{\"alignmentgroup\":\"True\",\"hovertemplate\":\"property=%{x}\\u003cbr\\u003ecount=%{y}\\u003cextra\\u003e\\u003c\\u002fextra\\u003e\",\"legendgroup\":\"\",\"marker\":{\"color\":\"rgb(141,211,199)\",\"pattern\":{\"shape\":\"\"}},\"name\":\"\",\"offsetgroup\":\"\",\"orientation\":\"v\",\"showlegend\":false,\"textposition\":\"auto\",\"x\":[\"888\",\"790\",\"474\",\"226\",\"6\",\"283\",\"776\",\"678\",\"364\",\"202\",\"839\",\"917\",\"112\",\"764\",\"159\",\"227\",\"698\",\"451\",\"663\",\"962\"],\"xaxis\":\"x\",\"y\":[3000398,1790516,1503639,788214,631471,597419,574220,481966,476486,448938,417239,417227,417053,417053,417053,347492,289849,264416,240813,239372],\"yaxis\":\"y\",\"type\":\"bar\"}],                        {\"autosize\":false,\"barmode\":\"relative\",\"height\":400,\"legend\":{\"tracegroupgap\":0},\"margin\":{\"b\":30,\"l\":30,\"r\":10,\"t\":30},\"template\":{\"data\":{\"barpolar\":[{\"marker\":{\"line\":{\"color\":\"#E5ECF6\",\"width\":0.5},\"pattern\":{\"fillmode\":\"overlay\",\"size\":10,\"solidity\":0.2}},\"type\":\"barpolar\"}],\"bar\":[{\"error_x\":{\"color\":\"#2a3f5f\"},\"error_y\":{\"color\":\"#2a3f5f\"},\"marker\":{\"line\":{\"color\":\"#E5ECF6\",\"width\":0.5},\"pattern\":{\"fillmode\":\"overlay\",\"size\":10,\"solidity\":0.2}},\"type\":\"bar\"}],\"carpet\":[{\"aaxis\":{\"endlinecolor\":\"#2a3f5f\",\"gridcolor\":\"white\",\"linecolor\":\"white\",\"minorgridcolor\":\"white\",\"startlinecolor\":\"#2a3f5f\"},\"baxis\":{\"endlinecolor\":\"#2a3f5f\",\"gridcolor\":\"white\",\"linecolor\":\"white\",\"minorgridcolor\":\"white\",\"startlinecolor\":\"#2a3f5f\"},\"type\":\"carpet\"}],\"choropleth\":[{\"colorbar\":{\"outlinewidth\":0,\"ticks\":\"\"},\"type\":\"choropleth\"}],\"contourcarpet\":[{\"colorbar\":{\"outlinewidth\":0,\"ticks\":\"\"},\"type\":\"contourcarpet\"}],\"contour\":[{\"colorbar\":{\"outlinewidth\":0,\"ticks\":\"\"},\"colorscale\":[[0.0,\"#0d0887\"],[0.1111111111111111,\"#46039f\"],[0.2222222222222222,\"#7201a8\"],[0.3333333333333333,\"#9c179e\"],[0.4444444444444444,\"#bd3786\"],[0.5555555555555556,\"#d8576b\"],[0.6666666666666666,\"#ed7953\"],[0.7777777777777778,\"#fb9f3a\"],[0.8888888888888888,\"#fdca26\"],[1.0,\"#f0f921\"]],\"type\":\"contour\"}],\"heatmapgl\":[{\"colorbar\":{\"outlinewidth\":0,\"ticks\":\"\"},\"colorscale\":[[0.0,\"#0d0887\"],[0.1111111111111111,\"#46039f\"],[0.2222222222222222,\"#7201a8\"],[0.3333333333333333,\"#9c179e\"],[0.4444444444444444,\"#bd3786\"],[0.5555555555555556,\"#d8576b\"],[0.6666666666666666,\"#ed7953\"],[0.7777777777777778,\"#fb9f3a\"],[0.8888888888888888,\"#fdca26\"],[1.0,\"#f0f921\"]],\"type\":\"heatmapgl\"}],\"heatmap\":[{\"colorbar\":{\"outlinewidth\":0,\"ticks\":\"\"},\"colorscale\":[[0.0,\"#0d0887\"],[0.1111111111111111,\"#46039f\"],[0.2222222222222222,\"#7201a8\"],[0.3333333333333333,\"#9c179e\"],[0.4444444444444444,\"#bd3786\"],[0.5555555555555556,\"#d8576b\"],[0.6666666666666666,\"#ed7953\"],[0.7777777777777778,\"#fb9f3a\"],[0.8888888888888888,\"#fdca26\"],[1.0,\"#f0f921\"]],\"type\":\"heatmap\"}],\"histogram2dcontour\":[{\"colorbar\":{\"outlinewidth\":0,\"ticks\":\"\"},\"colorscale\":[[0.0,\"#0d0887\"],[0.1111111111111111,\"#46039f\"],[0.2222222222222222,\"#7201a8\"],[0.3333333333333333,\"#9c179e\"],[0.4444444444444444,\"#bd3786\"],[0.5555555555555556,\"#d8576b\"],[0.6666666666666666,\"#ed7953\"],[0.7777777777777778,\"#fb9f3a\"],[0.8888888888888888,\"#fdca26\"],[1.0,\"#f0f921\"]],\"type\":\"histogram2dcontour\"}],\"histogram2d\":[{\"colorbar\":{\"outlinewidth\":0,\"ticks\":\"\"},\"colorscale\":[[0.0,\"#0d0887\"],[0.1111111111111111,\"#46039f\"],[0.2222222222222222,\"#7201a8\"],[0.3333333333333333,\"#9c179e\"],[0.4444444444444444,\"#bd3786\"],[0.5555555555555556,\"#d8576b\"],[0.6666666666666666,\"#ed7953\"],[0.7777777777777778,\"#fb9f3a\"],[0.8888888888888888,\"#fdca26\"],[1.0,\"#f0f921\"]],\"type\":\"histogram2d\"}],\"histogram\":[{\"marker\":{\"pattern\":{\"fillmode\":\"overlay\",\"size\":10,\"solidity\":0.2}},\"type\":\"histogram\"}],\"mesh3d\":[{\"colorbar\":{\"outlinewidth\":0,\"ticks\":\"\"},\"type\":\"mesh3d\"}],\"parcoords\":[{\"line\":{\"colorbar\":{\"outlinewidth\":0,\"ticks\":\"\"}},\"type\":\"parcoords\"}],\"pie\":[{\"automargin\":true,\"type\":\"pie\"}],\"scatter3d\":[{\"line\":{\"colorbar\":{\"outlinewidth\":0,\"ticks\":\"\"}},\"marker\":{\"colorbar\":{\"outlinewidth\":0,\"ticks\":\"\"}},\"type\":\"scatter3d\"}],\"scattercarpet\":[{\"marker\":{\"colorbar\":{\"outlinewidth\":0,\"ticks\":\"\"}},\"type\":\"scattercarpet\"}],\"scattergeo\":[{\"marker\":{\"colorbar\":{\"outlinewidth\":0,\"ticks\":\"\"}},\"type\":\"scattergeo\"}],\"scattergl\":[{\"marker\":{\"colorbar\":{\"outlinewidth\":0,\"ticks\":\"\"}},\"type\":\"scattergl\"}],\"scattermapbox\":[{\"marker\":{\"colorbar\":{\"outlinewidth\":0,\"ticks\":\"\"}},\"type\":\"scattermapbox\"}],\"scatterpolargl\":[{\"marker\":{\"colorbar\":{\"outlinewidth\":0,\"ticks\":\"\"}},\"type\":\"scatterpolargl\"}],\"scatterpolar\":[{\"marker\":{\"colorbar\":{\"outlinewidth\":0,\"ticks\":\"\"}},\"type\":\"scatterpolar\"}],\"scatter\":[{\"fillpattern\":{\"fillmode\":\"overlay\",\"size\":10,\"solidity\":0.2},\"type\":\"scatter\"}],\"scatterternary\":[{\"marker\":{\"colorbar\":{\"outlinewidth\":0,\"ticks\":\"\"}},\"type\":\"scatterternary\"}],\"surface\":[{\"colorbar\":{\"outlinewidth\":0,\"ticks\":\"\"},\"colorscale\":[[0.0,\"#0d0887\"],[0.1111111111111111,\"#46039f\"],[0.2222222222222222,\"#7201a8\"],[0.3333333333333333,\"#9c179e\"],[0.4444444444444444,\"#bd3786\"],[0.5555555555555556,\"#d8576b\"],[0.6666666666666666,\"#ed7953\"],[0.7777777777777778,\"#fb9f3a\"],[0.8888888888888888,\"#fdca26\"],[1.0,\"#f0f921\"]],\"type\":\"surface\"}],\"table\":[{\"cells\":{\"fill\":{\"color\":\"#EBF0F8\"},\"line\":{\"color\":\"white\"}},\"header\":{\"fill\":{\"color\":\"#C8D4E3\"},\"line\":{\"color\":\"white\"}},\"type\":\"table\"}]},\"layout\":{\"annotationdefaults\":{\"arrowcolor\":\"#2a3f5f\",\"arrowhead\":0,\"arrowwidth\":1},\"autotypenumbers\":\"strict\",\"coloraxis\":{\"colorbar\":{\"outlinewidth\":0,\"ticks\":\"\"}},\"colorscale\":{\"diverging\":[[0,\"#8e0152\"],[0.1,\"#c51b7d\"],[0.2,\"#de77ae\"],[0.3,\"#f1b6da\"],[0.4,\"#fde0ef\"],[0.5,\"#f7f7f7\"],[0.6,\"#e6f5d0\"],[0.7,\"#b8e186\"],[0.8,\"#7fbc41\"],[0.9,\"#4d9221\"],[1,\"#276419\"]],\"sequential\":[[0.0,\"#0d0887\"],[0.1111111111111111,\"#46039f\"],[0.2222222222222222,\"#7201a8\"],[0.3333333333333333,\"#9c179e\"],[0.4444444444444444,\"#bd3786\"],[0.5555555555555556,\"#d8576b\"],[0.6666666666666666,\"#ed7953\"],[0.7777777777777778,\"#fb9f3a\"],[0.8888888888888888,\"#fdca26\"],[1.0,\"#f0f921\"]],\"sequentialminus\":[[0.0,\"#0d0887\"],[0.1111111111111111,\"#46039f\"],[0.2222222222222222,\"#7201a8\"],[0.3333333333333333,\"#9c179e\"],[0.4444444444444444,\"#bd3786\"],[0.5555555555555556,\"#d8576b\"],[0.6666666666666666,\"#ed7953\"],[0.7777777777777778,\"#fb9f3a\"],[0.8888888888888888,\"#fdca26\"],[1.0,\"#f0f921\"]]},\"colorway\":[\"#636efa\",\"#EF553B\",\"#00cc96\",\"#ab63fa\",\"#FFA15A\",\"#19d3f3\",\"#FF6692\",\"#B6E880\",\"#FF97FF\",\"#FECB52\"],\"font\":{\"color\":\"#2a3f5f\"},\"geo\":{\"bgcolor\":\"white\",\"lakecolor\":\"white\",\"landcolor\":\"#E5ECF6\",\"showlakes\":true,\"showland\":true,\"subunitcolor\":\"white\"},\"hoverlabel\":{\"align\":\"left\"},\"hovermode\":\"closest\",\"mapbox\":{\"style\":\"light\"},\"paper_bgcolor\":\"white\",\"plot_bgcolor\":\"#E5ECF6\",\"polar\":{\"angularaxis\":{\"gridcolor\":\"white\",\"linecolor\":\"white\",\"ticks\":\"\"},\"bgcolor\":\"#E5ECF6\",\"radialaxis\":{\"gridcolor\":\"white\",\"linecolor\":\"white\",\"ticks\":\"\"}},\"scene\":{\"xaxis\":{\"backgroundcolor\":\"#E5ECF6\",\"gridcolor\":\"white\",\"gridwidth\":2,\"linecolor\":\"white\",\"showbackground\":true,\"ticks\":\"\",\"zerolinecolor\":\"white\"},\"yaxis\":{\"backgroundcolor\":\"#E5ECF6\",\"gridcolor\":\"white\",\"gridwidth\":2,\"linecolor\":\"white\",\"showbackground\":true,\"ticks\":\"\",\"zerolinecolor\":\"white\"},\"zaxis\":{\"backgroundcolor\":\"#E5ECF6\",\"gridcolor\":\"white\",\"gridwidth\":2,\"linecolor\":\"white\",\"showbackground\":true,\"ticks\":\"\",\"zerolinecolor\":\"white\"}},\"shapedefaults\":{\"line\":{\"color\":\"#2a3f5f\"}},\"ternary\":{\"aaxis\":{\"gridcolor\":\"white\",\"linecolor\":\"white\",\"ticks\":\"\"},\"baxis\":{\"gridcolor\":\"white\",\"linecolor\":\"white\",\"ticks\":\"\"},\"bgcolor\":\"#E5ECF6\",\"caxis\":{\"gridcolor\":\"white\",\"linecolor\":\"white\",\"ticks\":\"\"}},\"title\":{\"x\":0.05},\"xaxis\":{\"automargin\":true,\"gridcolor\":\"white\",\"linecolor\":\"white\",\"ticks\":\"\",\"title\":{\"standoff\":15},\"zerolinecolor\":\"white\",\"zerolinewidth\":2},\"yaxis\":{\"automargin\":true,\"gridcolor\":\"white\",\"linecolor\":\"white\",\"ticks\":\"\",\"title\":{\"standoff\":15},\"zerolinecolor\":\"white\",\"zerolinewidth\":2}}},\"title\":{\"text\":\"\\u0422\\u043e\\u043f-20 property\",\"x\":0.5,\"xanchor\":\"center\",\"yanchor\":\"top\"},\"width\":800,\"xaxis\":{\"anchor\":\"y\",\"domain\":[0.0,1.0],\"title\":{\"text\":\"property\"}},\"yaxis\":{\"anchor\":\"x\",\"domain\":[0.0,1.0],\"title\":{\"text\":\"count\"}}},                        {\"responsive\": true}                    ).then(function(){\n",
       "                            \n",
       "var gd = document.getElementById('9f377fe3-27a7-4324-b1ee-97c4397af038');\n",
       "var x = new MutationObserver(function (mutations, observer) {{\n",
       "        var display = window.getComputedStyle(gd).display;\n",
       "        if (!display || display === 'none') {{\n",
       "            console.log([gd, 'removed!']);\n",
       "            Plotly.purge(gd);\n",
       "            observer.disconnect();\n",
       "        }}\n",
       "}});\n",
       "\n",
       "// Listen for the removal of the full notebook cells\n",
       "var notebookContainer = gd.closest('#notebook-container');\n",
       "if (notebookContainer) {{\n",
       "    x.observe(notebookContainer, {childList: true});\n",
       "}}\n",
       "\n",
       "// Listen for the clearing of the current output cell\n",
       "var outputEl = gd.closest('.output');\n",
       "if (outputEl) {{\n",
       "    x.observe(outputEl, {childList: true});\n",
       "}}\n",
       "\n",
       "                        })                };                });            </script>        </div>"
      ]
     },
     "metadata": {},
     "output_type": "display_data"
    }
   ],
   "source": [
    "top_properties = properties.property.astype('string').value_counts().reset_index()[:20]\n",
    "top_properties.columns = ['property', 'count']\n",
    "fig = px.bar(top_properties,\n",
    "             x='property',\n",
    "             y='count',\n",
    "             color_discrete_sequence=px.colors.qualitative.Set3)\n",
    "fig.update_layout(\n",
    "    title={'text': \"Топ-20 property\", 'x':0.5, 'xanchor':'center', 'yanchor':'top'},    # название графика и расположение\n",
    "    width=800, height=400,                                                              # размеры графика\n",
    "    autosize=False, margin=dict(t=30, b=30, l=30, r=10),                                # отступы от плоскости\n",
    "    template='plotly'                                                                   # стиль\n",
    ")\n",
    "fig.write_image(\"images/Топ-20 популярных категорий товаров.png\", engine='kaleido')\n",
    "iplot(fig)"
   ]
  },
  {
   "cell_type": "markdown",
   "metadata": {
    "id": "8BB6aZphFwFG"
   },
   "source": [
    "Наши буквенные свойства товаров (теперь 474 и 226) в лидерах по частоте.\n",
    "\n",
    "Также изучим значения признака value и произведем очистку-преобразование в случае необходимости."
   ]
  },
  {
   "cell_type": "code",
   "execution_count": 28,
   "metadata": {
    "colab": {
     "base_uri": "https://localhost:8080/"
    },
    "executionInfo": {
     "elapsed": 240,
     "status": "ok",
     "timestamp": 1743661052804,
     "user": {
      "displayName": "Yaroslava Vobsharkyan",
      "userId": "00357389548322361796"
     },
     "user_tz": -180
    },
    "id": "LsNiQwNTFwFG",
    "outputId": "89021e24-4fce-4f65-c415-0a802808c353"
   },
   "outputs": [
    {
     "data": {
      "text/plain": [
       "['1338',\n",
       " '1116713 960601 n277.200',\n",
       " 'n552.000 639502 n720.000 424566',\n",
       " 'n15360.000',\n",
       " '828513',\n",
       " '0',\n",
       " '1121373',\n",
       " '319724',\n",
       " '1330310',\n",
       " '1141052 n48.000',\n",
       " '1038400 45956 n504.000',\n",
       " '1283144 353870',\n",
       " '1026952 1162729',\n",
       " 'n21000.000',\n",
       " 'n5400.000',\n",
       " '1292080',\n",
       " 'n36.000 1186610 119932 717520 903287 98606 632686 1117759 504389 227411 768453 414047 1008741 561431 508431 621351 976840 260167 934278 388767 42948',\n",
       " '857891 593337',\n",
       " 'n480.000 639502 189174',\n",
       " '519769']"
      ]
     },
     "execution_count": 28,
     "metadata": {},
     "output_type": "execute_result"
    }
   ],
   "source": [
    "properties['value'].unique()[:20].tolist()"
   ]
  },
  {
   "cell_type": "markdown",
   "metadata": {
    "id": "l3wmGeI2FwFG"
   },
   "source": [
    "Давайте начнем с удаления всех 'n' из значений."
   ]
  },
  {
   "cell_type": "code",
   "execution_count": 29,
   "metadata": {
    "colab": {
     "base_uri": "https://localhost:8080/"
    },
    "executionInfo": {
     "elapsed": 6807,
     "status": "ok",
     "timestamp": 1743661059613,
     "user": {
      "displayName": "Yaroslava Vobsharkyan",
      "userId": "00357389548322361796"
     },
     "user_tz": -180
    },
    "id": "ntcnGUFEFwFG",
    "outputId": "38ffafd8-b7e7-4a1b-e4ab-0c9e6fb55e74"
   },
   "outputs": [
    {
     "data": {
      "text/plain": [
       "['1338',\n",
       " '1116713 960601 277.200',\n",
       " '552.000 639502 720.000 424566',\n",
       " '15360.000',\n",
       " '828513',\n",
       " '0',\n",
       " '1121373',\n",
       " '319724',\n",
       " '1330310',\n",
       " '1141052 48.000',\n",
       " '1038400 45956 504.000',\n",
       " '1283144 353870',\n",
       " '1026952 1162729',\n",
       " '21000.000',\n",
       " '5400.000',\n",
       " '1292080',\n",
       " '36.000 1186610 119932 717520 903287 98606 632686 1117759 504389 227411 768453 414047 1008741 561431 508431 621351 976840 260167 934278 388767 42948',\n",
       " '857891 593337',\n",
       " '480.000 639502 189174',\n",
       " '519769']"
      ]
     },
     "execution_count": 29,
     "metadata": {},
     "output_type": "execute_result"
    }
   ],
   "source": [
    "# Получаем оригинальные категории\n",
    "categories = properties['value'].cat.categories\n",
    "\n",
    "# Создаем словарь замен\n",
    "replace_dict = {cat: cat.replace('n', '') for cat in categories}\n",
    "\n",
    "# Применяем замену\n",
    "properties['value'] = properties['value'].map(replace_dict).astype('category')\n",
    "\n",
    "# Проверяем результат\n",
    "properties['value'].unique()[:20].tolist()"
   ]
  },
  {
   "cell_type": "code",
   "execution_count": 30,
   "metadata": {
    "colab": {
     "base_uri": "https://localhost:8080/"
    },
    "executionInfo": {
     "elapsed": 2053,
     "status": "ok",
     "timestamp": 1743661061816,
     "user": {
      "displayName": "Yaroslava Vobsharkyan",
      "userId": "00357389548322361796"
     },
     "user_tz": -180
    },
    "id": "h-XlATrwFwFG",
    "outputId": "271b112b-c781-45b0-c7ae-318d827a407b"
   },
   "outputs": [
    {
     "name": "stdout",
     "output_type": "stream",
     "text": [
      "Уникальные значения, содержащие слова: {'119194 1047879 1065616 688107 891317 Ifiity 1047879 1065616 688107 891317 Ifiity 1081419 1128577 901561 156.000 188678 1174704 1215254 615344 1260136 42114 653611 156682 145396 1101397 374631 1149392 193129 1235128 581854 416887 191835 1284004', '1328368 982487 1115724 12092 Ifiity', '1081259 Ifiity 88645', '1096229 982487 355347 54657 6960.000 946544 355347 Ifiity 54657 6960.000 985136 639502 1096229 982487 169962 951278 150169 642930 402228 857685 1128577 141646 384135 167931 30603 1320974 495242 1158829 21098 227411 5041 1135856 30603 325677 1128577 467612', 'Ifiity', '1328368 982487 1115724 42654 Ifiity', '956975 1065616 688107 358393 Ifiity', '1247872 Ifiity', '956975 1065616 688107 358393 Ifiity 1271814', '1247872 Ifiity 1318567', '12092 Ifiity', '1096229 1047879 1065616 688107 1081259 Ifiity', '891317 Ifiity', '1096229 982487 355347 724380 9360.000 355347 Ifiity 724380 206585 639502 1096229 982487 169962 951278 150169 642930 402228 857685 1128577 141646 384135 167931 30603 1320974 495242 1158829 21098 227411 5041 1135856 30603 325677 1128577 16718 48.000 1324705', '980836 430845 98427 688107 1247872 Ifiity', '358393 Ifiity', '956975 1065616 688107 358393 Ifiity 303220 636950 1090013', '891317 Ifiity 88645', '12092 Ifiity 1318567', '358393 Ifiity 1271814', '119194 1047879 1065616 688107 1081259 Ifiity', '1217057 633814 Ifiity', '42654 Ifiity', '1081259 Ifiity', '42654 Ifiity 1318567'}\n"
     ]
    }
   ],
   "source": [
    "# Проверяем, есть ли в столбце `value` текстовые значения\n",
    "mask = properties['value'].str.contains(r'[a-zA-Z]', regex=True, na=False)\n",
    "# оставляем уникальные значения\n",
    "words_value = set(properties.loc[mask, 'value'])\n",
    "\n",
    "# Выводим результат\n",
    "print(f\"Уникальные значения, содержащие слова: {words_value}\")"
   ]
  },
  {
   "cell_type": "markdown",
   "metadata": {
    "id": "0_jdsn1LZZv_"
   },
   "source": [
    "Итак, мы обнаружили еще одно непонятное значение, не являющееся числовым, давайте удалим его."
   ]
  },
  {
   "cell_type": "code",
   "execution_count": 31,
   "metadata": {},
   "outputs": [],
   "source": [
    "# Удаляем \"Ifiity\" из значений столбца `value`\n",
    "properties['value'] = properties['value'].str.replace(r'\\bIfiity\\b', '', regex=True).str.strip()\n",
    "properties['value'] = properties['value'].astype('category')"
   ]
  },
  {
   "cell_type": "markdown",
   "metadata": {},
   "source": [
    "Мы пока не знаем, что содержит данный признак, возможно это идентификаторы пользователей, которые купили соотвествующий товар, или что-то иное."
   ]
  },
  {
   "cell_type": "markdown",
   "metadata": {
    "id": "sg7OBxd9FwFH"
   },
   "source": [
    "Осталось произвести сортировку по датам и сделаем это с помощью dataframe dask, чтобы CPU справился с таким объемом."
   ]
  },
  {
   "cell_type": "code",
   "execution_count": 32,
   "metadata": {
    "colab": {
     "base_uri": "https://localhost:8080/"
    },
    "executionInfo": {
     "elapsed": 19153,
     "status": "ok",
     "timestamp": 1743661080971,
     "user": {
      "displayName": "Yaroslava Vobsharkyan",
      "userId": "00357389548322361796"
     },
     "user_tz": -180
    },
    "id": "AM6FIh3UFwFH",
    "outputId": "89ed3bb4-9659-48d9-ceb4-d62a88673d32"
   },
   "outputs": [
    {
     "name": "stdout",
     "output_type": "stream",
     "text": [
      "Период собранных данных о товаров: с 2015-05-10 по 2015-09-13\n"
     ]
    }
   ],
   "source": [
    "# Преобразуем pandas DataFrame в Dask DataFrame с 10 частями\n",
    "ddf = dd.from_pandas(properties, npartitions=10)\n",
    "\n",
    "# Сортируем данные по столбцу 'timestamp' в Dask, затем загружаем обратно в pandas\n",
    "properties = ddf.sort_values('timestamp').compute()\n",
    "\n",
    "# Проверяем результат\n",
    "print(f\"Период собранных данных о товаров: с {properties['timestamp'].dt.date.min()} по {properties['timestamp'].dt.date.max()}\")"
   ]
  },
  {
   "cell_type": "markdown",
   "metadata": {
    "id": "KOyILRkhFwFH"
   },
   "source": [
    "Период в датасете товаров немного отличается от дат набора событий, данные начинаются не с 3 мая, а с 10, заканчиваются не 18 сентября, а на 5 дней раньше."
   ]
  },
  {
   "cell_type": "markdown",
   "metadata": {
    "id": "6RpJs6X_FwFH"
   },
   "source": [
    "## 3. Exploratory Data Analysis\n",
    "### 3.1 Изучение типов событий в данных events."
   ]
  },
  {
   "cell_type": "code",
   "execution_count": 33,
   "metadata": {
    "colab": {
     "base_uri": "https://localhost:8080/",
     "height": 417
    },
    "executionInfo": {
     "elapsed": 104,
     "status": "ok",
     "timestamp": 1743661081126,
     "user": {
      "displayName": "Yaroslava Vobsharkyan",
      "userId": "00357389548322361796"
     },
     "user_tz": -180
    },
    "id": "sHx8sdMuFwFH",
    "outputId": "91baceb5-fdba-4a5c-bdcd-654ab1df6b76"
   },
   "outputs": [
    {
     "data": {
      "text/html": [
       "<div>                            <div id=\"1ecbfdc8-258e-43cc-ab9f-cb70d8348e91\" class=\"plotly-graph-div\" style=\"height:400px; width:600px;\"></div>            <script type=\"text/javascript\">                require([\"plotly\"], function(Plotly) {                    window.PLOTLYENV=window.PLOTLYENV || {};                                    if (document.getElementById(\"1ecbfdc8-258e-43cc-ab9f-cb70d8348e91\")) {                    Plotly.newPlot(                        \"1ecbfdc8-258e-43cc-ab9f-cb70d8348e91\",                        [{\"domain\":{\"x\":[0.0,1.0],\"y\":[0.0,1.0]},\"hovertemplate\":\"\\u003cb\\u003e%{hovertext}\\u003c\\u002fb\\u003e\\u003cbr\\u003e\\u003cbr\\u003eevent=%{label}\\u003cbr\\u003ecount=%{value}\\u003cextra\\u003e\\u003c\\u002fextra\\u003e\",\"hovertext\":[\"view\",\"addtocart\",\"transaction\"],\"labels\":[\"view\",\"addtocart\",\"transaction\"],\"legendgroup\":\"\",\"name\":\"\",\"showlegend\":true,\"textinfo\":\"percent+label\",\"values\":[2664218,68966,22457],\"type\":\"pie\"}],                        {\"autosize\":false,\"height\":400,\"legend\":{\"tracegroupgap\":0},\"margin\":{\"b\":30,\"l\":30,\"r\":10,\"t\":30},\"template\":{\"data\":{\"barpolar\":[{\"marker\":{\"line\":{\"color\":\"#E5ECF6\",\"width\":0.5},\"pattern\":{\"fillmode\":\"overlay\",\"size\":10,\"solidity\":0.2}},\"type\":\"barpolar\"}],\"bar\":[{\"error_x\":{\"color\":\"#2a3f5f\"},\"error_y\":{\"color\":\"#2a3f5f\"},\"marker\":{\"line\":{\"color\":\"#E5ECF6\",\"width\":0.5},\"pattern\":{\"fillmode\":\"overlay\",\"size\":10,\"solidity\":0.2}},\"type\":\"bar\"}],\"carpet\":[{\"aaxis\":{\"endlinecolor\":\"#2a3f5f\",\"gridcolor\":\"white\",\"linecolor\":\"white\",\"minorgridcolor\":\"white\",\"startlinecolor\":\"#2a3f5f\"},\"baxis\":{\"endlinecolor\":\"#2a3f5f\",\"gridcolor\":\"white\",\"linecolor\":\"white\",\"minorgridcolor\":\"white\",\"startlinecolor\":\"#2a3f5f\"},\"type\":\"carpet\"}],\"choropleth\":[{\"colorbar\":{\"outlinewidth\":0,\"ticks\":\"\"},\"type\":\"choropleth\"}],\"contourcarpet\":[{\"colorbar\":{\"outlinewidth\":0,\"ticks\":\"\"},\"type\":\"contourcarpet\"}],\"contour\":[{\"colorbar\":{\"outlinewidth\":0,\"ticks\":\"\"},\"colorscale\":[[0.0,\"#0d0887\"],[0.1111111111111111,\"#46039f\"],[0.2222222222222222,\"#7201a8\"],[0.3333333333333333,\"#9c179e\"],[0.4444444444444444,\"#bd3786\"],[0.5555555555555556,\"#d8576b\"],[0.6666666666666666,\"#ed7953\"],[0.7777777777777778,\"#fb9f3a\"],[0.8888888888888888,\"#fdca26\"],[1.0,\"#f0f921\"]],\"type\":\"contour\"}],\"heatmapgl\":[{\"colorbar\":{\"outlinewidth\":0,\"ticks\":\"\"},\"colorscale\":[[0.0,\"#0d0887\"],[0.1111111111111111,\"#46039f\"],[0.2222222222222222,\"#7201a8\"],[0.3333333333333333,\"#9c179e\"],[0.4444444444444444,\"#bd3786\"],[0.5555555555555556,\"#d8576b\"],[0.6666666666666666,\"#ed7953\"],[0.7777777777777778,\"#fb9f3a\"],[0.8888888888888888,\"#fdca26\"],[1.0,\"#f0f921\"]],\"type\":\"heatmapgl\"}],\"heatmap\":[{\"colorbar\":{\"outlinewidth\":0,\"ticks\":\"\"},\"colorscale\":[[0.0,\"#0d0887\"],[0.1111111111111111,\"#46039f\"],[0.2222222222222222,\"#7201a8\"],[0.3333333333333333,\"#9c179e\"],[0.4444444444444444,\"#bd3786\"],[0.5555555555555556,\"#d8576b\"],[0.6666666666666666,\"#ed7953\"],[0.7777777777777778,\"#fb9f3a\"],[0.8888888888888888,\"#fdca26\"],[1.0,\"#f0f921\"]],\"type\":\"heatmap\"}],\"histogram2dcontour\":[{\"colorbar\":{\"outlinewidth\":0,\"ticks\":\"\"},\"colorscale\":[[0.0,\"#0d0887\"],[0.1111111111111111,\"#46039f\"],[0.2222222222222222,\"#7201a8\"],[0.3333333333333333,\"#9c179e\"],[0.4444444444444444,\"#bd3786\"],[0.5555555555555556,\"#d8576b\"],[0.6666666666666666,\"#ed7953\"],[0.7777777777777778,\"#fb9f3a\"],[0.8888888888888888,\"#fdca26\"],[1.0,\"#f0f921\"]],\"type\":\"histogram2dcontour\"}],\"histogram2d\":[{\"colorbar\":{\"outlinewidth\":0,\"ticks\":\"\"},\"colorscale\":[[0.0,\"#0d0887\"],[0.1111111111111111,\"#46039f\"],[0.2222222222222222,\"#7201a8\"],[0.3333333333333333,\"#9c179e\"],[0.4444444444444444,\"#bd3786\"],[0.5555555555555556,\"#d8576b\"],[0.6666666666666666,\"#ed7953\"],[0.7777777777777778,\"#fb9f3a\"],[0.8888888888888888,\"#fdca26\"],[1.0,\"#f0f921\"]],\"type\":\"histogram2d\"}],\"histogram\":[{\"marker\":{\"pattern\":{\"fillmode\":\"overlay\",\"size\":10,\"solidity\":0.2}},\"type\":\"histogram\"}],\"mesh3d\":[{\"colorbar\":{\"outlinewidth\":0,\"ticks\":\"\"},\"type\":\"mesh3d\"}],\"parcoords\":[{\"line\":{\"colorbar\":{\"outlinewidth\":0,\"ticks\":\"\"}},\"type\":\"parcoords\"}],\"pie\":[{\"automargin\":true,\"type\":\"pie\"}],\"scatter3d\":[{\"line\":{\"colorbar\":{\"outlinewidth\":0,\"ticks\":\"\"}},\"marker\":{\"colorbar\":{\"outlinewidth\":0,\"ticks\":\"\"}},\"type\":\"scatter3d\"}],\"scattercarpet\":[{\"marker\":{\"colorbar\":{\"outlinewidth\":0,\"ticks\":\"\"}},\"type\":\"scattercarpet\"}],\"scattergeo\":[{\"marker\":{\"colorbar\":{\"outlinewidth\":0,\"ticks\":\"\"}},\"type\":\"scattergeo\"}],\"scattergl\":[{\"marker\":{\"colorbar\":{\"outlinewidth\":0,\"ticks\":\"\"}},\"type\":\"scattergl\"}],\"scattermapbox\":[{\"marker\":{\"colorbar\":{\"outlinewidth\":0,\"ticks\":\"\"}},\"type\":\"scattermapbox\"}],\"scatterpolargl\":[{\"marker\":{\"colorbar\":{\"outlinewidth\":0,\"ticks\":\"\"}},\"type\":\"scatterpolargl\"}],\"scatterpolar\":[{\"marker\":{\"colorbar\":{\"outlinewidth\":0,\"ticks\":\"\"}},\"type\":\"scatterpolar\"}],\"scatter\":[{\"fillpattern\":{\"fillmode\":\"overlay\",\"size\":10,\"solidity\":0.2},\"type\":\"scatter\"}],\"scatterternary\":[{\"marker\":{\"colorbar\":{\"outlinewidth\":0,\"ticks\":\"\"}},\"type\":\"scatterternary\"}],\"surface\":[{\"colorbar\":{\"outlinewidth\":0,\"ticks\":\"\"},\"colorscale\":[[0.0,\"#0d0887\"],[0.1111111111111111,\"#46039f\"],[0.2222222222222222,\"#7201a8\"],[0.3333333333333333,\"#9c179e\"],[0.4444444444444444,\"#bd3786\"],[0.5555555555555556,\"#d8576b\"],[0.6666666666666666,\"#ed7953\"],[0.7777777777777778,\"#fb9f3a\"],[0.8888888888888888,\"#fdca26\"],[1.0,\"#f0f921\"]],\"type\":\"surface\"}],\"table\":[{\"cells\":{\"fill\":{\"color\":\"#EBF0F8\"},\"line\":{\"color\":\"white\"}},\"header\":{\"fill\":{\"color\":\"#C8D4E3\"},\"line\":{\"color\":\"white\"}},\"type\":\"table\"}]},\"layout\":{\"annotationdefaults\":{\"arrowcolor\":\"#2a3f5f\",\"arrowhead\":0,\"arrowwidth\":1},\"autotypenumbers\":\"strict\",\"coloraxis\":{\"colorbar\":{\"outlinewidth\":0,\"ticks\":\"\"}},\"colorscale\":{\"diverging\":[[0,\"#8e0152\"],[0.1,\"#c51b7d\"],[0.2,\"#de77ae\"],[0.3,\"#f1b6da\"],[0.4,\"#fde0ef\"],[0.5,\"#f7f7f7\"],[0.6,\"#e6f5d0\"],[0.7,\"#b8e186\"],[0.8,\"#7fbc41\"],[0.9,\"#4d9221\"],[1,\"#276419\"]],\"sequential\":[[0.0,\"#0d0887\"],[0.1111111111111111,\"#46039f\"],[0.2222222222222222,\"#7201a8\"],[0.3333333333333333,\"#9c179e\"],[0.4444444444444444,\"#bd3786\"],[0.5555555555555556,\"#d8576b\"],[0.6666666666666666,\"#ed7953\"],[0.7777777777777778,\"#fb9f3a\"],[0.8888888888888888,\"#fdca26\"],[1.0,\"#f0f921\"]],\"sequentialminus\":[[0.0,\"#0d0887\"],[0.1111111111111111,\"#46039f\"],[0.2222222222222222,\"#7201a8\"],[0.3333333333333333,\"#9c179e\"],[0.4444444444444444,\"#bd3786\"],[0.5555555555555556,\"#d8576b\"],[0.6666666666666666,\"#ed7953\"],[0.7777777777777778,\"#fb9f3a\"],[0.8888888888888888,\"#fdca26\"],[1.0,\"#f0f921\"]]},\"colorway\":[\"#636efa\",\"#EF553B\",\"#00cc96\",\"#ab63fa\",\"#FFA15A\",\"#19d3f3\",\"#FF6692\",\"#B6E880\",\"#FF97FF\",\"#FECB52\"],\"font\":{\"color\":\"#2a3f5f\"},\"geo\":{\"bgcolor\":\"white\",\"lakecolor\":\"white\",\"landcolor\":\"#E5ECF6\",\"showlakes\":true,\"showland\":true,\"subunitcolor\":\"white\"},\"hoverlabel\":{\"align\":\"left\"},\"hovermode\":\"closest\",\"mapbox\":{\"style\":\"light\"},\"paper_bgcolor\":\"white\",\"plot_bgcolor\":\"#E5ECF6\",\"polar\":{\"angularaxis\":{\"gridcolor\":\"white\",\"linecolor\":\"white\",\"ticks\":\"\"},\"bgcolor\":\"#E5ECF6\",\"radialaxis\":{\"gridcolor\":\"white\",\"linecolor\":\"white\",\"ticks\":\"\"}},\"scene\":{\"xaxis\":{\"backgroundcolor\":\"#E5ECF6\",\"gridcolor\":\"white\",\"gridwidth\":2,\"linecolor\":\"white\",\"showbackground\":true,\"ticks\":\"\",\"zerolinecolor\":\"white\"},\"yaxis\":{\"backgroundcolor\":\"#E5ECF6\",\"gridcolor\":\"white\",\"gridwidth\":2,\"linecolor\":\"white\",\"showbackground\":true,\"ticks\":\"\",\"zerolinecolor\":\"white\"},\"zaxis\":{\"backgroundcolor\":\"#E5ECF6\",\"gridcolor\":\"white\",\"gridwidth\":2,\"linecolor\":\"white\",\"showbackground\":true,\"ticks\":\"\",\"zerolinecolor\":\"white\"}},\"shapedefaults\":{\"line\":{\"color\":\"#2a3f5f\"}},\"ternary\":{\"aaxis\":{\"gridcolor\":\"white\",\"linecolor\":\"white\",\"ticks\":\"\"},\"baxis\":{\"gridcolor\":\"white\",\"linecolor\":\"white\",\"ticks\":\"\"},\"bgcolor\":\"#E5ECF6\",\"caxis\":{\"gridcolor\":\"white\",\"linecolor\":\"white\",\"ticks\":\"\"}},\"title\":{\"x\":0.05},\"xaxis\":{\"automargin\":true,\"gridcolor\":\"white\",\"linecolor\":\"white\",\"ticks\":\"\",\"title\":{\"standoff\":15},\"zerolinecolor\":\"white\",\"zerolinewidth\":2},\"yaxis\":{\"automargin\":true,\"gridcolor\":\"white\",\"linecolor\":\"white\",\"ticks\":\"\",\"title\":{\"standoff\":15},\"zerolinecolor\":\"white\",\"zerolinewidth\":2}}},\"title\":{\"text\":\"\\u0421\\u043e\\u043e\\u0442\\u043d\\u043e\\u0448\\u0435\\u043d\\u0438\\u0435 \\u0442\\u0438\\u043f\\u043e\\u0432 \\u0441\\u043e\\u0431\\u044b\\u0442\\u0438\\u0439 \\u0432 \\u0434\\u0430\\u043d\\u043d\\u044b\\u0445\",\"x\":1,\"xanchor\":\"right\",\"yanchor\":\"top\"},\"width\":600},                        {\"responsive\": true}                    ).then(function(){\n",
       "                            \n",
       "var gd = document.getElementById('1ecbfdc8-258e-43cc-ab9f-cb70d8348e91');\n",
       "var x = new MutationObserver(function (mutations, observer) {{\n",
       "        var display = window.getComputedStyle(gd).display;\n",
       "        if (!display || display === 'none') {{\n",
       "            console.log([gd, 'removed!']);\n",
       "            Plotly.purge(gd);\n",
       "            observer.disconnect();\n",
       "        }}\n",
       "}});\n",
       "\n",
       "// Listen for the removal of the full notebook cells\n",
       "var notebookContainer = gd.closest('#notebook-container');\n",
       "if (notebookContainer) {{\n",
       "    x.observe(notebookContainer, {childList: true});\n",
       "}}\n",
       "\n",
       "// Listen for the clearing of the current output cell\n",
       "var outputEl = gd.closest('.output');\n",
       "if (outputEl) {{\n",
       "    x.observe(outputEl, {childList: true});\n",
       "}}\n",
       "\n",
       "                        })                };                });            </script>        </div>"
      ]
     },
     "metadata": {},
     "output_type": "display_data"
    }
   ],
   "source": [
    "# Подсчитываем количество событий\n",
    "event_type = events['event'].value_counts().reset_index()\n",
    "event_type.columns = ['event', 'count']  # переименовываем столбцы\n",
    "\n",
    "# Создаем круговую диаграмму с отображением типа события и его количества в процентном соотношении\n",
    "fig = px.pie(event_type,\n",
    "             values='count',\n",
    "             names='event',\n",
    "             hover_name='event')\n",
    "\n",
    "# Настройка отображения текста (название события и процентное соотношение)\n",
    "fig.update_traces(textinfo='percent+label')\n",
    "fig.update_layout(\n",
    "    title={'text': \"Соотношение типов событий в данных\", 'x': 1, 'xanchor':'right', 'yanchor':'top'},\n",
    "    width=600, height=400,                                                         # размеры графика\n",
    "    autosize=False, margin=dict(t=30, b=30, l=30, r=10),                           # отступы от плоскости\n",
    "    template='plotly'                                                              # стиль\n",
    ")\n",
    "fig.write_image(\"images/Соотношение типов событий.png\", engine=\"kaleido\")\n",
    "iplot(fig)"
   ]
  },
  {
   "cell_type": "markdown",
   "metadata": {
    "id": "kZLrg8oFFwFH"
   },
   "source": [
    "### 3.2 Соотношение количества товаров *itemid* относительно типа события."
   ]
  },
  {
   "cell_type": "code",
   "execution_count": 34,
   "metadata": {
    "colab": {
     "base_uri": "https://localhost:8080/",
     "height": 317
    },
    "executionInfo": {
     "elapsed": 54,
     "status": "ok",
     "timestamp": 1743661081183,
     "user": {
      "displayName": "Yaroslava Vobsharkyan",
      "userId": "00357389548322361796"
     },
     "user_tz": -180
    },
    "id": "MuPfPiV_FwFI",
    "outputId": "ece6bf53-fc2d-4105-fc9c-3ac6f5e9376d"
   },
   "outputs": [
    {
     "data": {
      "text/html": [
       "<div>                            <div id=\"82edbc90-c658-4708-924d-c766ecfd1e2f\" class=\"plotly-graph-div\" style=\"height:300px; width:1000px;\"></div>            <script type=\"text/javascript\">                require([\"plotly\"], function(Plotly) {                    window.PLOTLYENV=window.PLOTLYENV || {};                                    if (document.getElementById(\"82edbc90-c658-4708-924d-c766ecfd1e2f\")) {                    Plotly.newPlot(                        \"82edbc90-c658-4708-924d-c766ecfd1e2f\",                        [{\"alignmentgroup\":\"True\",\"hovertemplate\":\"item_count=%{x}\\u003cbr\\u003etype_event=%{y}\\u003cextra\\u003e\\u003c\\u002fextra\\u003e\",\"legendgroup\":\"\",\"marker\":{\"color\":\"lightgreen\",\"pattern\":{\"shape\":\"\"}},\"name\":\"\",\"offsetgroup\":\"\",\"orientation\":\"h\",\"showlegend\":false,\"textposition\":\"auto\",\"x\":[68966,22457,2664218],\"xaxis\":\"x\",\"y\":[\"addtocart\",\"transaction\",\"view\"],\"yaxis\":\"y\",\"type\":\"bar\"}],                        {\"autosize\":true,\"barmode\":\"relative\",\"height\":300,\"legend\":{\"tracegroupgap\":0},\"margin\":{\"b\":30,\"l\":30,\"r\":10,\"t\":40},\"template\":{\"data\":{\"barpolar\":[{\"marker\":{\"line\":{\"color\":\"#E5ECF6\",\"width\":0.5},\"pattern\":{\"fillmode\":\"overlay\",\"size\":10,\"solidity\":0.2}},\"type\":\"barpolar\"}],\"bar\":[{\"error_x\":{\"color\":\"#2a3f5f\"},\"error_y\":{\"color\":\"#2a3f5f\"},\"marker\":{\"line\":{\"color\":\"#E5ECF6\",\"width\":0.5},\"pattern\":{\"fillmode\":\"overlay\",\"size\":10,\"solidity\":0.2}},\"type\":\"bar\"}],\"carpet\":[{\"aaxis\":{\"endlinecolor\":\"#2a3f5f\",\"gridcolor\":\"white\",\"linecolor\":\"white\",\"minorgridcolor\":\"white\",\"startlinecolor\":\"#2a3f5f\"},\"baxis\":{\"endlinecolor\":\"#2a3f5f\",\"gridcolor\":\"white\",\"linecolor\":\"white\",\"minorgridcolor\":\"white\",\"startlinecolor\":\"#2a3f5f\"},\"type\":\"carpet\"}],\"choropleth\":[{\"colorbar\":{\"outlinewidth\":0,\"ticks\":\"\"},\"type\":\"choropleth\"}],\"contourcarpet\":[{\"colorbar\":{\"outlinewidth\":0,\"ticks\":\"\"},\"type\":\"contourcarpet\"}],\"contour\":[{\"colorbar\":{\"outlinewidth\":0,\"ticks\":\"\"},\"colorscale\":[[0.0,\"#0d0887\"],[0.1111111111111111,\"#46039f\"],[0.2222222222222222,\"#7201a8\"],[0.3333333333333333,\"#9c179e\"],[0.4444444444444444,\"#bd3786\"],[0.5555555555555556,\"#d8576b\"],[0.6666666666666666,\"#ed7953\"],[0.7777777777777778,\"#fb9f3a\"],[0.8888888888888888,\"#fdca26\"],[1.0,\"#f0f921\"]],\"type\":\"contour\"}],\"heatmapgl\":[{\"colorbar\":{\"outlinewidth\":0,\"ticks\":\"\"},\"colorscale\":[[0.0,\"#0d0887\"],[0.1111111111111111,\"#46039f\"],[0.2222222222222222,\"#7201a8\"],[0.3333333333333333,\"#9c179e\"],[0.4444444444444444,\"#bd3786\"],[0.5555555555555556,\"#d8576b\"],[0.6666666666666666,\"#ed7953\"],[0.7777777777777778,\"#fb9f3a\"],[0.8888888888888888,\"#fdca26\"],[1.0,\"#f0f921\"]],\"type\":\"heatmapgl\"}],\"heatmap\":[{\"colorbar\":{\"outlinewidth\":0,\"ticks\":\"\"},\"colorscale\":[[0.0,\"#0d0887\"],[0.1111111111111111,\"#46039f\"],[0.2222222222222222,\"#7201a8\"],[0.3333333333333333,\"#9c179e\"],[0.4444444444444444,\"#bd3786\"],[0.5555555555555556,\"#d8576b\"],[0.6666666666666666,\"#ed7953\"],[0.7777777777777778,\"#fb9f3a\"],[0.8888888888888888,\"#fdca26\"],[1.0,\"#f0f921\"]],\"type\":\"heatmap\"}],\"histogram2dcontour\":[{\"colorbar\":{\"outlinewidth\":0,\"ticks\":\"\"},\"colorscale\":[[0.0,\"#0d0887\"],[0.1111111111111111,\"#46039f\"],[0.2222222222222222,\"#7201a8\"],[0.3333333333333333,\"#9c179e\"],[0.4444444444444444,\"#bd3786\"],[0.5555555555555556,\"#d8576b\"],[0.6666666666666666,\"#ed7953\"],[0.7777777777777778,\"#fb9f3a\"],[0.8888888888888888,\"#fdca26\"],[1.0,\"#f0f921\"]],\"type\":\"histogram2dcontour\"}],\"histogram2d\":[{\"colorbar\":{\"outlinewidth\":0,\"ticks\":\"\"},\"colorscale\":[[0.0,\"#0d0887\"],[0.1111111111111111,\"#46039f\"],[0.2222222222222222,\"#7201a8\"],[0.3333333333333333,\"#9c179e\"],[0.4444444444444444,\"#bd3786\"],[0.5555555555555556,\"#d8576b\"],[0.6666666666666666,\"#ed7953\"],[0.7777777777777778,\"#fb9f3a\"],[0.8888888888888888,\"#fdca26\"],[1.0,\"#f0f921\"]],\"type\":\"histogram2d\"}],\"histogram\":[{\"marker\":{\"pattern\":{\"fillmode\":\"overlay\",\"size\":10,\"solidity\":0.2}},\"type\":\"histogram\"}],\"mesh3d\":[{\"colorbar\":{\"outlinewidth\":0,\"ticks\":\"\"},\"type\":\"mesh3d\"}],\"parcoords\":[{\"line\":{\"colorbar\":{\"outlinewidth\":0,\"ticks\":\"\"}},\"type\":\"parcoords\"}],\"pie\":[{\"automargin\":true,\"type\":\"pie\"}],\"scatter3d\":[{\"line\":{\"colorbar\":{\"outlinewidth\":0,\"ticks\":\"\"}},\"marker\":{\"colorbar\":{\"outlinewidth\":0,\"ticks\":\"\"}},\"type\":\"scatter3d\"}],\"scattercarpet\":[{\"marker\":{\"colorbar\":{\"outlinewidth\":0,\"ticks\":\"\"}},\"type\":\"scattercarpet\"}],\"scattergeo\":[{\"marker\":{\"colorbar\":{\"outlinewidth\":0,\"ticks\":\"\"}},\"type\":\"scattergeo\"}],\"scattergl\":[{\"marker\":{\"colorbar\":{\"outlinewidth\":0,\"ticks\":\"\"}},\"type\":\"scattergl\"}],\"scattermapbox\":[{\"marker\":{\"colorbar\":{\"outlinewidth\":0,\"ticks\":\"\"}},\"type\":\"scattermapbox\"}],\"scatterpolargl\":[{\"marker\":{\"colorbar\":{\"outlinewidth\":0,\"ticks\":\"\"}},\"type\":\"scatterpolargl\"}],\"scatterpolar\":[{\"marker\":{\"colorbar\":{\"outlinewidth\":0,\"ticks\":\"\"}},\"type\":\"scatterpolar\"}],\"scatter\":[{\"fillpattern\":{\"fillmode\":\"overlay\",\"size\":10,\"solidity\":0.2},\"type\":\"scatter\"}],\"scatterternary\":[{\"marker\":{\"colorbar\":{\"outlinewidth\":0,\"ticks\":\"\"}},\"type\":\"scatterternary\"}],\"surface\":[{\"colorbar\":{\"outlinewidth\":0,\"ticks\":\"\"},\"colorscale\":[[0.0,\"#0d0887\"],[0.1111111111111111,\"#46039f\"],[0.2222222222222222,\"#7201a8\"],[0.3333333333333333,\"#9c179e\"],[0.4444444444444444,\"#bd3786\"],[0.5555555555555556,\"#d8576b\"],[0.6666666666666666,\"#ed7953\"],[0.7777777777777778,\"#fb9f3a\"],[0.8888888888888888,\"#fdca26\"],[1.0,\"#f0f921\"]],\"type\":\"surface\"}],\"table\":[{\"cells\":{\"fill\":{\"color\":\"#EBF0F8\"},\"line\":{\"color\":\"white\"}},\"header\":{\"fill\":{\"color\":\"#C8D4E3\"},\"line\":{\"color\":\"white\"}},\"type\":\"table\"}]},\"layout\":{\"annotationdefaults\":{\"arrowcolor\":\"#2a3f5f\",\"arrowhead\":0,\"arrowwidth\":1},\"autotypenumbers\":\"strict\",\"coloraxis\":{\"colorbar\":{\"outlinewidth\":0,\"ticks\":\"\"}},\"colorscale\":{\"diverging\":[[0,\"#8e0152\"],[0.1,\"#c51b7d\"],[0.2,\"#de77ae\"],[0.3,\"#f1b6da\"],[0.4,\"#fde0ef\"],[0.5,\"#f7f7f7\"],[0.6,\"#e6f5d0\"],[0.7,\"#b8e186\"],[0.8,\"#7fbc41\"],[0.9,\"#4d9221\"],[1,\"#276419\"]],\"sequential\":[[0.0,\"#0d0887\"],[0.1111111111111111,\"#46039f\"],[0.2222222222222222,\"#7201a8\"],[0.3333333333333333,\"#9c179e\"],[0.4444444444444444,\"#bd3786\"],[0.5555555555555556,\"#d8576b\"],[0.6666666666666666,\"#ed7953\"],[0.7777777777777778,\"#fb9f3a\"],[0.8888888888888888,\"#fdca26\"],[1.0,\"#f0f921\"]],\"sequentialminus\":[[0.0,\"#0d0887\"],[0.1111111111111111,\"#46039f\"],[0.2222222222222222,\"#7201a8\"],[0.3333333333333333,\"#9c179e\"],[0.4444444444444444,\"#bd3786\"],[0.5555555555555556,\"#d8576b\"],[0.6666666666666666,\"#ed7953\"],[0.7777777777777778,\"#fb9f3a\"],[0.8888888888888888,\"#fdca26\"],[1.0,\"#f0f921\"]]},\"colorway\":[\"#636efa\",\"#EF553B\",\"#00cc96\",\"#ab63fa\",\"#FFA15A\",\"#19d3f3\",\"#FF6692\",\"#B6E880\",\"#FF97FF\",\"#FECB52\"],\"font\":{\"color\":\"#2a3f5f\"},\"geo\":{\"bgcolor\":\"white\",\"lakecolor\":\"white\",\"landcolor\":\"#E5ECF6\",\"showlakes\":true,\"showland\":true,\"subunitcolor\":\"white\"},\"hoverlabel\":{\"align\":\"left\"},\"hovermode\":\"closest\",\"mapbox\":{\"style\":\"light\"},\"paper_bgcolor\":\"white\",\"plot_bgcolor\":\"#E5ECF6\",\"polar\":{\"angularaxis\":{\"gridcolor\":\"white\",\"linecolor\":\"white\",\"ticks\":\"\"},\"bgcolor\":\"#E5ECF6\",\"radialaxis\":{\"gridcolor\":\"white\",\"linecolor\":\"white\",\"ticks\":\"\"}},\"scene\":{\"xaxis\":{\"backgroundcolor\":\"#E5ECF6\",\"gridcolor\":\"white\",\"gridwidth\":2,\"linecolor\":\"white\",\"showbackground\":true,\"ticks\":\"\",\"zerolinecolor\":\"white\"},\"yaxis\":{\"backgroundcolor\":\"#E5ECF6\",\"gridcolor\":\"white\",\"gridwidth\":2,\"linecolor\":\"white\",\"showbackground\":true,\"ticks\":\"\",\"zerolinecolor\":\"white\"},\"zaxis\":{\"backgroundcolor\":\"#E5ECF6\",\"gridcolor\":\"white\",\"gridwidth\":2,\"linecolor\":\"white\",\"showbackground\":true,\"ticks\":\"\",\"zerolinecolor\":\"white\"}},\"shapedefaults\":{\"line\":{\"color\":\"#2a3f5f\"}},\"ternary\":{\"aaxis\":{\"gridcolor\":\"white\",\"linecolor\":\"white\",\"ticks\":\"\"},\"baxis\":{\"gridcolor\":\"white\",\"linecolor\":\"white\",\"ticks\":\"\"},\"bgcolor\":\"#E5ECF6\",\"caxis\":{\"gridcolor\":\"white\",\"linecolor\":\"white\",\"ticks\":\"\"}},\"title\":{\"x\":0.05},\"xaxis\":{\"automargin\":true,\"gridcolor\":\"white\",\"linecolor\":\"white\",\"ticks\":\"\",\"title\":{\"standoff\":15},\"zerolinecolor\":\"white\",\"zerolinewidth\":2},\"yaxis\":{\"automargin\":true,\"gridcolor\":\"white\",\"linecolor\":\"white\",\"ticks\":\"\",\"title\":{\"standoff\":15},\"zerolinecolor\":\"white\",\"zerolinewidth\":2}}},\"title\":{\"font\":{\"size\":18},\"text\":\"\\u0420\\u0430\\u0441\\u043f\\u0440\\u0435\\u0434\\u0435\\u043b\\u0435\\u043d\\u0438\\u0435 \\u043a\\u043e\\u043b\\u0438\\u0447\\u0435\\u0441\\u0442\\u0432\\u0430 \\u0442\\u043e\\u0432\\u0430\\u0440\\u043e\\u0432 \\u043f\\u043e \\u0442\\u0438\\u043f\\u0430\\u043c \\u0441\\u043e\\u0431\\u044b\\u0442\\u0438\\u044f\",\"x\":0.5,\"xanchor\":\"center\",\"yanchor\":\"top\"},\"width\":1000,\"xaxis\":{\"anchor\":\"y\",\"domain\":[0.0,1.0],\"title\":{\"text\":\"\\u043a\\u043e\\u043b\\u0438\\u0447\\u0435\\u0441\\u0442\\u0432\\u043e \\u0442\\u043e\\u0432\\u0430\\u0440\\u043e\\u0432\"}},\"yaxis\":{\"anchor\":\"x\",\"domain\":[0.0,1.0],\"title\":{\"text\":\"\\u0442\\u0438\\u043f\\u044b \\u0441\\u043e\\u0431\\u044b\\u0442\\u0438\\u044f\"}}},                        {\"responsive\": true}                    ).then(function(){\n",
       "                            \n",
       "var gd = document.getElementById('82edbc90-c658-4708-924d-c766ecfd1e2f');\n",
       "var x = new MutationObserver(function (mutations, observer) {{\n",
       "        var display = window.getComputedStyle(gd).display;\n",
       "        if (!display || display === 'none') {{\n",
       "            console.log([gd, 'removed!']);\n",
       "            Plotly.purge(gd);\n",
       "            observer.disconnect();\n",
       "        }}\n",
       "}});\n",
       "\n",
       "// Listen for the removal of the full notebook cells\n",
       "var notebookContainer = gd.closest('#notebook-container');\n",
       "if (notebookContainer) {{\n",
       "    x.observe(notebookContainer, {childList: true});\n",
       "}}\n",
       "\n",
       "// Listen for the clearing of the current output cell\n",
       "var outputEl = gd.closest('.output');\n",
       "if (outputEl) {{\n",
       "    x.observe(outputEl, {childList: true});\n",
       "}}\n",
       "\n",
       "                        })                };                });            </script>        </div>"
      ]
     },
     "metadata": {},
     "output_type": "display_data"
    }
   ],
   "source": [
    "# группируем количество itemid по событиям\n",
    "item_events = events.groupby('event')['itemid'].count().reset_index()\n",
    "item_events.columns = ['type_event', 'item_count']\n",
    "# Столбчатая диаграмма\n",
    "fig = px.bar(item_events,\n",
    "             y='type_event',\n",
    "             x='item_count',\n",
    "             orientation='h', # расположение\n",
    "             color_discrete_sequence=['lightgreen'])\n",
    "fig.update_layout(\n",
    "    title={'text': \"Распределение количества товаров по типам события\", 'font': {'size': 18},\n",
    "           'x':0.5, 'xanchor':'center', 'yanchor':'top'},\n",
    "    width=1000, height=300,                                                             # размеры графика\n",
    "    autosize=True, margin=dict(t=40, b=30, l=30, r=10),                                # отступы от плоскости\n",
    "    template='plotly',                                                                  # стиль\n",
    "    xaxis_title='количество товаров',\n",
    "    yaxis_title='типы события'\n",
    ")\n",
    "iplot(fig)"
   ]
  },
  {
   "cell_type": "markdown",
   "metadata": {
    "id": "yzn3kXiNFwFI"
   },
   "source": [
    "### 3.3 Извлечение различных факторов времени из даты в данных events и их анализ.\n",
    "Временные признаки обычно являются кладезем полезной информации при выявлении закономерностей и моделировании, поэтому сгенерируем новые факторы из признака *timestamp* с помощью функции generate_time_features."
   ]
  },
  {
   "cell_type": "code",
   "execution_count": 35,
   "metadata": {
    "colab": {
     "base_uri": "https://localhost:8080/",
     "height": 293
    },
    "executionInfo": {
     "elapsed": 2665,
     "status": "ok",
     "timestamp": 1743661083851,
     "user": {
      "displayName": "Yaroslava Vobsharkyan",
      "userId": "00357389548322361796"
     },
     "user_tz": -180
    },
    "id": "jzezeEzmFwFI",
    "outputId": "63abb1d6-7d4d-43ac-e4da-466a5e51da60"
   },
   "outputs": [
    {
     "data": {
      "text/html": [
       "<div>\n",
       "<style scoped>\n",
       "    .dataframe tbody tr th:only-of-type {\n",
       "        vertical-align: middle;\n",
       "    }\n",
       "\n",
       "    .dataframe tbody tr th {\n",
       "        vertical-align: top;\n",
       "    }\n",
       "\n",
       "    .dataframe thead th {\n",
       "        text-align: right;\n",
       "    }\n",
       "</style>\n",
       "<table border=\"1\" class=\"dataframe\">\n",
       "  <thead>\n",
       "    <tr style=\"text-align: right;\">\n",
       "      <th></th>\n",
       "      <th>timestamp</th>\n",
       "      <th>visitorid</th>\n",
       "      <th>event</th>\n",
       "      <th>itemid</th>\n",
       "      <th>transaction</th>\n",
       "      <th>dayofmonth</th>\n",
       "      <th>month</th>\n",
       "      <th>dayofweek</th>\n",
       "      <th>dayofweek_str</th>\n",
       "      <th>week_of_year</th>\n",
       "      <th>is_weekend</th>\n",
       "      <th>is_holiday</th>\n",
       "      <th>hour</th>\n",
       "      <th>part_of_day</th>\n",
       "      <th>time_diff_ms</th>\n",
       "    </tr>\n",
       "  </thead>\n",
       "  <tbody>\n",
       "    <tr>\n",
       "      <th>0</th>\n",
       "      <td>2015-05-03 03:00:04.384</td>\n",
       "      <td>693516</td>\n",
       "      <td>addtocart</td>\n",
       "      <td>297662</td>\n",
       "      <td>0</td>\n",
       "      <td>3</td>\n",
       "      <td>5</td>\n",
       "      <td>6</td>\n",
       "      <td>Sunday</td>\n",
       "      <td>18</td>\n",
       "      <td>True</td>\n",
       "      <td>False</td>\n",
       "      <td>3</td>\n",
       "      <td>Night</td>\n",
       "      <td>NaN</td>\n",
       "    </tr>\n",
       "    <tr>\n",
       "      <th>1</th>\n",
       "      <td>2015-05-03 03:00:11.289</td>\n",
       "      <td>829044</td>\n",
       "      <td>view</td>\n",
       "      <td>60987</td>\n",
       "      <td>0</td>\n",
       "      <td>3</td>\n",
       "      <td>5</td>\n",
       "      <td>6</td>\n",
       "      <td>Sunday</td>\n",
       "      <td>18</td>\n",
       "      <td>True</td>\n",
       "      <td>False</td>\n",
       "      <td>3</td>\n",
       "      <td>Night</td>\n",
       "      <td>6905.0</td>\n",
       "    </tr>\n",
       "    <tr>\n",
       "      <th>2</th>\n",
       "      <td>2015-05-03 03:00:13.048</td>\n",
       "      <td>652699</td>\n",
       "      <td>view</td>\n",
       "      <td>252860</td>\n",
       "      <td>0</td>\n",
       "      <td>3</td>\n",
       "      <td>5</td>\n",
       "      <td>6</td>\n",
       "      <td>Sunday</td>\n",
       "      <td>18</td>\n",
       "      <td>True</td>\n",
       "      <td>False</td>\n",
       "      <td>3</td>\n",
       "      <td>Night</td>\n",
       "      <td>1759.0</td>\n",
       "    </tr>\n",
       "    <tr>\n",
       "      <th>3</th>\n",
       "      <td>2015-05-03 03:00:24.154</td>\n",
       "      <td>1125936</td>\n",
       "      <td>view</td>\n",
       "      <td>33661</td>\n",
       "      <td>0</td>\n",
       "      <td>3</td>\n",
       "      <td>5</td>\n",
       "      <td>6</td>\n",
       "      <td>Sunday</td>\n",
       "      <td>18</td>\n",
       "      <td>True</td>\n",
       "      <td>False</td>\n",
       "      <td>3</td>\n",
       "      <td>Night</td>\n",
       "      <td>11106.0</td>\n",
       "    </tr>\n",
       "    <tr>\n",
       "      <th>4</th>\n",
       "      <td>2015-05-03 03:00:26.228</td>\n",
       "      <td>693516</td>\n",
       "      <td>view</td>\n",
       "      <td>297662</td>\n",
       "      <td>0</td>\n",
       "      <td>3</td>\n",
       "      <td>5</td>\n",
       "      <td>6</td>\n",
       "      <td>Sunday</td>\n",
       "      <td>18</td>\n",
       "      <td>True</td>\n",
       "      <td>False</td>\n",
       "      <td>3</td>\n",
       "      <td>Night</td>\n",
       "      <td>2074.0</td>\n",
       "    </tr>\n",
       "  </tbody>\n",
       "</table>\n",
       "</div>"
      ],
      "text/plain": [
       "                timestamp  visitorid      event  itemid  transaction  \\\n",
       "0 2015-05-03 03:00:04.384     693516  addtocart  297662            0   \n",
       "1 2015-05-03 03:00:11.289     829044       view   60987            0   \n",
       "2 2015-05-03 03:00:13.048     652699       view  252860            0   \n",
       "3 2015-05-03 03:00:24.154    1125936       view   33661            0   \n",
       "4 2015-05-03 03:00:26.228     693516       view  297662            0   \n",
       "\n",
       "   dayofmonth  month  dayofweek dayofweek_str  week_of_year  is_weekend  \\\n",
       "0           3      5          6        Sunday            18        True   \n",
       "1           3      5          6        Sunday            18        True   \n",
       "2           3      5          6        Sunday            18        True   \n",
       "3           3      5          6        Sunday            18        True   \n",
       "4           3      5          6        Sunday            18        True   \n",
       "\n",
       "   is_holiday  hour part_of_day  time_diff_ms  \n",
       "0       False     3       Night           NaN  \n",
       "1       False     3       Night        6905.0  \n",
       "2       False     3       Night        1759.0  \n",
       "3       False     3       Night       11106.0  \n",
       "4       False     3       Night        2074.0  "
      ]
     },
     "execution_count": 35,
     "metadata": {},
     "output_type": "execute_result"
    }
   ],
   "source": [
    "# применим функцию для датасета events\n",
    "generate_time_features(events)\n",
    "events.head()"
   ]
  },
  {
   "cell_type": "code",
   "execution_count": 36,
   "metadata": {
    "colab": {
     "base_uri": "https://localhost:8080/"
    },
    "executionInfo": {
     "elapsed": 988,
     "status": "ok",
     "timestamp": 1743661085330,
     "user": {
      "displayName": "Yaroslava Vobsharkyan",
      "userId": "00357389548322361796"
     },
     "user_tz": -180
    },
    "id": "1PQf8AnfFwFI",
    "outputId": "77eb6307-8c23-4cb7-95a2-3a91f814ce3e"
   },
   "outputs": [
    {
     "name": "stdout",
     "output_type": "stream",
     "text": [
      "Начальный размер памяти: 464.52 MB\n",
      "Конечный размер памяти: 91.98 MB\n",
      "Экономия памяти: 372.54 MB\n"
     ]
    }
   ],
   "source": [
    "# оптимизируем потребление CPU\n",
    "events = optimize_memory_usage(events)"
   ]
  },
  {
   "cell_type": "markdown",
   "metadata": {
    "id": "kOgEye0eFwFI"
   },
   "source": [
    "**Распределение событий по дням недели**"
   ]
  },
  {
   "cell_type": "code",
   "execution_count": 37,
   "metadata": {
    "colab": {
     "base_uri": "https://localhost:8080/",
     "height": 806
    },
    "executionInfo": {
     "elapsed": 1044,
     "status": "ok",
     "timestamp": 1743661086395,
     "user": {
      "displayName": "Yaroslava Vobsharkyan",
      "userId": "00357389548322361796"
     },
     "user_tz": -180
    },
    "id": "xtMrocRqFwFI",
    "outputId": "9a3888cc-8db7-431d-e77e-06d4634d0447"
   },
   "outputs": [
    {
     "data": {
      "image/png": "[encoded data removed]",
      "text/plain": [
       "<Figure size 800x800 with 3 Axes>"
      ]
     },
     "metadata": {},
     "output_type": "display_data"
    }
   ],
   "source": [
    "# группируем по дням недели отдельно каждый тип события\n",
    "dayofweek_view = events[events['event']=='view'].groupby('dayofweek_str')['event'].size().reset_index()\n",
    "dayofweek_view.columns = ['day_of_week', 'count_view']\n",
    "dayofweek_addtocart = events[events['event']=='addtocart'].groupby('dayofweek_str')['event'].size().reset_index()\n",
    "dayofweek_addtocart.columns = ['day_of_week', 'count_addtocart']\n",
    "dayofweek_transaction = events[events['event']=='transaction'].groupby('dayofweek_str')['event'].size().reset_index()\n",
    "dayofweek_transaction.columns = ['day_of_week', 'count_transaction']\n",
    "\n",
    "# Определяем порядок дней недели, начиная с понедельника\n",
    "days_order = ['Monday', 'Tuesday', 'Wednesday', 'Thursday', 'Friday', 'Saturday', 'Sunday']\n",
    "\n",
    "# Преобразуем столбец day_of_week в категориальный тип с заданным порядком\n",
    "dayofweek_view['day_of_week'] = pd.Categorical(dayofweek_view['day_of_week'], categories=days_order, ordered=True)\n",
    "dayofweek_addtocart['day_of_week'] = pd.Categorical(dayofweek_addtocart['day_of_week'], categories=days_order, ordered=True)\n",
    "dayofweek_transaction['day_of_week'] = pd.Categorical(dayofweek_transaction['day_of_week'], categories=days_order, ordered=True)\n",
    "\n",
    "fig, ax = plt.subplots(3,1, figsize=(8, 8))\n",
    "# распределение просмотров по дням недели\n",
    "sns.barplot(data=dayofweek_view, x='day_of_week', y='count_view', palette='bright', ax=ax[0])\n",
    "ax[0].set_title('Распределение события view по дням недели')\n",
    "ax[0].set_xlabel('день недели')\n",
    "ax[0].set_ylabel('количество просмотров')\n",
    "ax[0].grid(True)\n",
    "# распределение добавления в корзину по дням недели\n",
    "sns.barplot(data=dayofweek_addtocart, x='day_of_week', y='count_addtocart', palette='bright', ax=ax[1])\n",
    "ax[1].set_title('Распределение события addtocart по дням недели')\n",
    "ax[1].set_xlabel('день недели')\n",
    "ax[1].set_ylabel('количество добавлений в корзину')\n",
    "ax[1].grid(True)\n",
    "# распределение покупок по дням недели\n",
    "sns.barplot(data=dayofweek_transaction, x='day_of_week', y='count_transaction', palette='bright', ax=ax[2])\n",
    "ax[2].set_title('Распределение события transaction по дням недели')  # название графика\n",
    "ax[2].set_xlabel('день недели')\n",
    "ax[2].set_ylabel('количество покупок')\n",
    "ax[2].grid(True)\n",
    "# выравнивание графиков\n",
    "plt.tight_layout()\n",
    "plt.show()"
   ]
  },
  {
   "cell_type": "markdown",
   "metadata": {
    "id": "z3mPdbBrFwFJ"
   },
   "source": [
    "Все типы действий отражают похожую интенсивность по дням недели, единственным малым отличием является событие покупки, где лидирует среда по сравнению с понедельником и вторником для просмотров и добавлений в корзину. Самая низкая активность в выходные дни.\n",
    "\n",
    "Таким же образом визуализируем **распределение событий по часам суток**."
   ]
  },
  {
   "cell_type": "code",
   "execution_count": 38,
   "metadata": {
    "colab": {
     "base_uri": "https://localhost:8080/",
     "height": 806
    },
    "executionInfo": {
     "elapsed": 1527,
     "status": "ok",
     "timestamp": 1743661087925,
     "user": {
      "displayName": "Yaroslava Vobsharkyan",
      "userId": "00357389548322361796"
     },
     "user_tz": -180
    },
    "id": "ngeiAqx-FwFJ",
    "outputId": "312476ec-33f4-46d6-bec4-669f6579f6c5"
   },
   "outputs": [
    {
     "data": {
      "image/png": "[encoded data removed]",
      "text/plain": [
       "<Figure size 1200x800 with 3 Axes>"
      ]
     },
     "metadata": {},
     "output_type": "display_data"
    }
   ],
   "source": [
    "# группируем события по часам в сутках\n",
    "hour_view = events[events['event']=='view'].groupby('hour')['event'].size().reset_index()\n",
    "hour_view.columns = ['hour_of_day', 'count_view']\n",
    "hour_addtocart = events[events['event']=='addtocart'].groupby('hour')['event'].size().reset_index()\n",
    "hour_addtocart.columns = ['hour_of_day', 'count_addtocart']\n",
    "hour_transaction = events[events['event']=='transaction'].groupby('hour')['event'].size().reset_index()\n",
    "hour_transaction.columns = ['hour_of_day', 'count_transaction']\n",
    "\n",
    "# Определяем часовой порядок\n",
    "hours_order = list(range(24))\n",
    "\n",
    "# Преобразуем столбец day_of_week в категориальный тип с заданным порядком\n",
    "hour_view['hour_of_day'] = pd.Categorical(hour_view['hour_of_day'], categories=hours_order, ordered=True)\n",
    "hour_addtocart['hour_of_day'] = pd.Categorical(hour_addtocart['hour_of_day'], categories=hours_order, ordered=True)\n",
    "hour_transaction['hour_of_day'] = pd.Categorical(hour_transaction['hour_of_day'], categories=hours_order, ordered=True)\n",
    "\n",
    "fig, ax = plt.subplots(3,1, figsize=(12, 8))\n",
    "# распределение просмотров в течение суток\n",
    "sns.barplot(data=hour_view, x='hour_of_day', y='count_view', palette='bright', ci=False, ax=ax[0])\n",
    "ax[0].set_title('Распределение события view по времени суток')\n",
    "ax[0].set_xlabel('час в сутках')\n",
    "ax[0].set_ylabel('количество просмотров')\n",
    "ax[0].grid(True)\n",
    "# распределение добавления в корзину в течение суток\n",
    "sns.barplot(data=hour_addtocart, x='hour_of_day', y='count_addtocart', palette='bright', ci=False, ax=ax[1])\n",
    "ax[1].set_title('Распределение события addtocart по времени суток')\n",
    "ax[1].set_xlabel('час в сутках')\n",
    "ax[1].set_ylabel('количество добавлений в корзину')\n",
    "ax[1].grid(True)\n",
    "# распределение покупок в течение суток\n",
    "sns.barplot(data=hour_transaction, x='hour_of_day', y='count_transaction', palette='bright', ci=False, ax=ax[2])\n",
    "ax[2].set_title('Распределение события transaction по времени суток')\n",
    "ax[2].set_xlabel('час в сутках')\n",
    "ax[2].set_ylabel('количество покупок')\n",
    "ax[2].grid(True)\n",
    "# выравнивание графиков\n",
    "plt.tight_layout()\n",
    "plt.show()"
   ]
  },
  {
   "cell_type": "markdown",
   "metadata": {
    "id": "0M3SekSOFwFJ"
   },
   "source": [
    "Как видим, здесь похожая картина, распределение между типами действий практически одинаковы, пик активности пользователей приходится с 4  до 11 вечера.\n",
    "\n",
    "На какой из месяцев нашего периода пришелся пик активности в действиях пользователей?"
   ]
  },
  {
   "cell_type": "code",
   "execution_count": 39,
   "metadata": {
    "colab": {
     "base_uri": "https://localhost:8080/",
     "height": 517
    },
    "executionInfo": {
     "elapsed": 18,
     "status": "ok",
     "timestamp": 1743661087970,
     "user": {
      "displayName": "Yaroslava Vobsharkyan",
      "userId": "00357389548322361796"
     },
     "user_tz": -180
    },
    "id": "-NY_JbzDFwFJ",
    "outputId": "d346e524-2c16-4d5b-dfe6-ec78a2916b81"
   },
   "outputs": [
    {
     "data": {
      "text/html": [
       "<div>                            <div id=\"3c30971f-9924-48a5-9a8d-4b377586c7af\" class=\"plotly-graph-div\" style=\"height:500px; width:1000px;\"></div>            <script type=\"text/javascript\">                require([\"plotly\"], function(Plotly) {                    window.PLOTLYENV=window.PLOTLYENV || {};                                    if (document.getElementById(\"3c30971f-9924-48a5-9a8d-4b377586c7af\")) {                    Plotly.newPlot(                        \"3c30971f-9924-48a5-9a8d-4b377586c7af\",                        [{\"alignmentgroup\":\"True\",\"hovertemplate\":\"event=addtocart\\u003cbr\\u003emonth=%{x}\\u003cbr\\u003ecount_event=%{y}\\u003cextra\\u003e\\u003c\\u002fextra\\u003e\",\"legendgroup\":\"addtocart\",\"marker\":{\"color\":\"#636efa\",\"pattern\":{\"shape\":\"\"}},\"name\":\"addtocart\",\"offsetgroup\":\"addtocart\",\"orientation\":\"v\",\"showlegend\":true,\"textposition\":\"auto\",\"x\":[5,6,7,8,9],\"xaxis\":\"x\",\"y\":[14318,15031,17250,14725,7642],\"yaxis\":\"y\",\"type\":\"bar\"},{\"alignmentgroup\":\"True\",\"hovertemplate\":\"event=transaction\\u003cbr\\u003emonth=%{x}\\u003cbr\\u003ecount_event=%{y}\\u003cextra\\u003e\\u003c\\u002fextra\\u003e\",\"legendgroup\":\"transaction\",\"marker\":{\"color\":\"#EF553B\",\"pattern\":{\"shape\":\"\"}},\"name\":\"transaction\",\"offsetgroup\":\"transaction\",\"orientation\":\"v\",\"showlegend\":true,\"textposition\":\"auto\",\"x\":[5,6,7,8,9],\"xaxis\":\"x\",\"y\":[4611,5043,5802,4632,2369],\"yaxis\":\"y\",\"type\":\"bar\"},{\"alignmentgroup\":\"True\",\"hovertemplate\":\"event=view\\u003cbr\\u003emonth=%{x}\\u003cbr\\u003ecount_event=%{y}\\u003cextra\\u003e\\u003c\\u002fextra\\u003e\",\"legendgroup\":\"view\",\"marker\":{\"color\":\"#00cc96\",\"pattern\":{\"shape\":\"\"}},\"name\":\"view\",\"offsetgroup\":\"view\",\"orientation\":\"v\",\"showlegend\":true,\"textposition\":\"auto\",\"x\":[5,6,7,8,9],\"xaxis\":\"x\",\"y\":[571655,590239,674797,533880,293647],\"yaxis\":\"y\",\"type\":\"bar\"}],                        {\"autosize\":true,\"barmode\":\"group\",\"height\":500,\"legend\":{\"title\":{\"text\":\"event\"},\"tracegroupgap\":0},\"margin\":{\"b\":30,\"l\":30,\"r\":10,\"t\":40},\"template\":{\"data\":{\"barpolar\":[{\"marker\":{\"line\":{\"color\":\"#E5ECF6\",\"width\":0.5},\"pattern\":{\"fillmode\":\"overlay\",\"size\":10,\"solidity\":0.2}},\"type\":\"barpolar\"}],\"bar\":[{\"error_x\":{\"color\":\"#2a3f5f\"},\"error_y\":{\"color\":\"#2a3f5f\"},\"marker\":{\"line\":{\"color\":\"#E5ECF6\",\"width\":0.5},\"pattern\":{\"fillmode\":\"overlay\",\"size\":10,\"solidity\":0.2}},\"type\":\"bar\"}],\"carpet\":[{\"aaxis\":{\"endlinecolor\":\"#2a3f5f\",\"gridcolor\":\"white\",\"linecolor\":\"white\",\"minorgridcolor\":\"white\",\"startlinecolor\":\"#2a3f5f\"},\"baxis\":{\"endlinecolor\":\"#2a3f5f\",\"gridcolor\":\"white\",\"linecolor\":\"white\",\"minorgridcolor\":\"white\",\"startlinecolor\":\"#2a3f5f\"},\"type\":\"carpet\"}],\"choropleth\":[{\"colorbar\":{\"outlinewidth\":0,\"ticks\":\"\"},\"type\":\"choropleth\"}],\"contourcarpet\":[{\"colorbar\":{\"outlinewidth\":0,\"ticks\":\"\"},\"type\":\"contourcarpet\"}],\"contour\":[{\"colorbar\":{\"outlinewidth\":0,\"ticks\":\"\"},\"colorscale\":[[0.0,\"#0d0887\"],[0.1111111111111111,\"#46039f\"],[0.2222222222222222,\"#7201a8\"],[0.3333333333333333,\"#9c179e\"],[0.4444444444444444,\"#bd3786\"],[0.5555555555555556,\"#d8576b\"],[0.6666666666666666,\"#ed7953\"],[0.7777777777777778,\"#fb9f3a\"],[0.8888888888888888,\"#fdca26\"],[1.0,\"#f0f921\"]],\"type\":\"contour\"}],\"heatmapgl\":[{\"colorbar\":{\"outlinewidth\":0,\"ticks\":\"\"},\"colorscale\":[[0.0,\"#0d0887\"],[0.1111111111111111,\"#46039f\"],[0.2222222222222222,\"#7201a8\"],[0.3333333333333333,\"#9c179e\"],[0.4444444444444444,\"#bd3786\"],[0.5555555555555556,\"#d8576b\"],[0.6666666666666666,\"#ed7953\"],[0.7777777777777778,\"#fb9f3a\"],[0.8888888888888888,\"#fdca26\"],[1.0,\"#f0f921\"]],\"type\":\"heatmapgl\"}],\"heatmap\":[{\"colorbar\":{\"outlinewidth\":0,\"ticks\":\"\"},\"colorscale\":[[0.0,\"#0d0887\"],[0.1111111111111111,\"#46039f\"],[0.2222222222222222,\"#7201a8\"],[0.3333333333333333,\"#9c179e\"],[0.4444444444444444,\"#bd3786\"],[0.5555555555555556,\"#d8576b\"],[0.6666666666666666,\"#ed7953\"],[0.7777777777777778,\"#fb9f3a\"],[0.8888888888888888,\"#fdca26\"],[1.0,\"#f0f921\"]],\"type\":\"heatmap\"}],\"histogram2dcontour\":[{\"colorbar\":{\"outlinewidth\":0,\"ticks\":\"\"},\"colorscale\":[[0.0,\"#0d0887\"],[0.1111111111111111,\"#46039f\"],[0.2222222222222222,\"#7201a8\"],[0.3333333333333333,\"#9c179e\"],[0.4444444444444444,\"#bd3786\"],[0.5555555555555556,\"#d8576b\"],[0.6666666666666666,\"#ed7953\"],[0.7777777777777778,\"#fb9f3a\"],[0.8888888888888888,\"#fdca26\"],[1.0,\"#f0f921\"]],\"type\":\"histogram2dcontour\"}],\"histogram2d\":[{\"colorbar\":{\"outlinewidth\":0,\"ticks\":\"\"},\"colorscale\":[[0.0,\"#0d0887\"],[0.1111111111111111,\"#46039f\"],[0.2222222222222222,\"#7201a8\"],[0.3333333333333333,\"#9c179e\"],[0.4444444444444444,\"#bd3786\"],[0.5555555555555556,\"#d8576b\"],[0.6666666666666666,\"#ed7953\"],[0.7777777777777778,\"#fb9f3a\"],[0.8888888888888888,\"#fdca26\"],[1.0,\"#f0f921\"]],\"type\":\"histogram2d\"}],\"histogram\":[{\"marker\":{\"pattern\":{\"fillmode\":\"overlay\",\"size\":10,\"solidity\":0.2}},\"type\":\"histogram\"}],\"mesh3d\":[{\"colorbar\":{\"outlinewidth\":0,\"ticks\":\"\"},\"type\":\"mesh3d\"}],\"parcoords\":[{\"line\":{\"colorbar\":{\"outlinewidth\":0,\"ticks\":\"\"}},\"type\":\"parcoords\"}],\"pie\":[{\"automargin\":true,\"type\":\"pie\"}],\"scatter3d\":[{\"line\":{\"colorbar\":{\"outlinewidth\":0,\"ticks\":\"\"}},\"marker\":{\"colorbar\":{\"outlinewidth\":0,\"ticks\":\"\"}},\"type\":\"scatter3d\"}],\"scattercarpet\":[{\"marker\":{\"colorbar\":{\"outlinewidth\":0,\"ticks\":\"\"}},\"type\":\"scattercarpet\"}],\"scattergeo\":[{\"marker\":{\"colorbar\":{\"outlinewidth\":0,\"ticks\":\"\"}},\"type\":\"scattergeo\"}],\"scattergl\":[{\"marker\":{\"colorbar\":{\"outlinewidth\":0,\"ticks\":\"\"}},\"type\":\"scattergl\"}],\"scattermapbox\":[{\"marker\":{\"colorbar\":{\"outlinewidth\":0,\"ticks\":\"\"}},\"type\":\"scattermapbox\"}],\"scatterpolargl\":[{\"marker\":{\"colorbar\":{\"outlinewidth\":0,\"ticks\":\"\"}},\"type\":\"scatterpolargl\"}],\"scatterpolar\":[{\"marker\":{\"colorbar\":{\"outlinewidth\":0,\"ticks\":\"\"}},\"type\":\"scatterpolar\"}],\"scatter\":[{\"fillpattern\":{\"fillmode\":\"overlay\",\"size\":10,\"solidity\":0.2},\"type\":\"scatter\"}],\"scatterternary\":[{\"marker\":{\"colorbar\":{\"outlinewidth\":0,\"ticks\":\"\"}},\"type\":\"scatterternary\"}],\"surface\":[{\"colorbar\":{\"outlinewidth\":0,\"ticks\":\"\"},\"colorscale\":[[0.0,\"#0d0887\"],[0.1111111111111111,\"#46039f\"],[0.2222222222222222,\"#7201a8\"],[0.3333333333333333,\"#9c179e\"],[0.4444444444444444,\"#bd3786\"],[0.5555555555555556,\"#d8576b\"],[0.6666666666666666,\"#ed7953\"],[0.7777777777777778,\"#fb9f3a\"],[0.8888888888888888,\"#fdca26\"],[1.0,\"#f0f921\"]],\"type\":\"surface\"}],\"table\":[{\"cells\":{\"fill\":{\"color\":\"#EBF0F8\"},\"line\":{\"color\":\"white\"}},\"header\":{\"fill\":{\"color\":\"#C8D4E3\"},\"line\":{\"color\":\"white\"}},\"type\":\"table\"}]},\"layout\":{\"annotationdefaults\":{\"arrowcolor\":\"#2a3f5f\",\"arrowhead\":0,\"arrowwidth\":1},\"autotypenumbers\":\"strict\",\"coloraxis\":{\"colorbar\":{\"outlinewidth\":0,\"ticks\":\"\"}},\"colorscale\":{\"diverging\":[[0,\"#8e0152\"],[0.1,\"#c51b7d\"],[0.2,\"#de77ae\"],[0.3,\"#f1b6da\"],[0.4,\"#fde0ef\"],[0.5,\"#f7f7f7\"],[0.6,\"#e6f5d0\"],[0.7,\"#b8e186\"],[0.8,\"#7fbc41\"],[0.9,\"#4d9221\"],[1,\"#276419\"]],\"sequential\":[[0.0,\"#0d0887\"],[0.1111111111111111,\"#46039f\"],[0.2222222222222222,\"#7201a8\"],[0.3333333333333333,\"#9c179e\"],[0.4444444444444444,\"#bd3786\"],[0.5555555555555556,\"#d8576b\"],[0.6666666666666666,\"#ed7953\"],[0.7777777777777778,\"#fb9f3a\"],[0.8888888888888888,\"#fdca26\"],[1.0,\"#f0f921\"]],\"sequentialminus\":[[0.0,\"#0d0887\"],[0.1111111111111111,\"#46039f\"],[0.2222222222222222,\"#7201a8\"],[0.3333333333333333,\"#9c179e\"],[0.4444444444444444,\"#bd3786\"],[0.5555555555555556,\"#d8576b\"],[0.6666666666666666,\"#ed7953\"],[0.7777777777777778,\"#fb9f3a\"],[0.8888888888888888,\"#fdca26\"],[1.0,\"#f0f921\"]]},\"colorway\":[\"#636efa\",\"#EF553B\",\"#00cc96\",\"#ab63fa\",\"#FFA15A\",\"#19d3f3\",\"#FF6692\",\"#B6E880\",\"#FF97FF\",\"#FECB52\"],\"font\":{\"color\":\"#2a3f5f\"},\"geo\":{\"bgcolor\":\"white\",\"lakecolor\":\"white\",\"landcolor\":\"#E5ECF6\",\"showlakes\":true,\"showland\":true,\"subunitcolor\":\"white\"},\"hoverlabel\":{\"align\":\"left\"},\"hovermode\":\"closest\",\"mapbox\":{\"style\":\"light\"},\"paper_bgcolor\":\"white\",\"plot_bgcolor\":\"#E5ECF6\",\"polar\":{\"angularaxis\":{\"gridcolor\":\"white\",\"linecolor\":\"white\",\"ticks\":\"\"},\"bgcolor\":\"#E5ECF6\",\"radialaxis\":{\"gridcolor\":\"white\",\"linecolor\":\"white\",\"ticks\":\"\"}},\"scene\":{\"xaxis\":{\"backgroundcolor\":\"#E5ECF6\",\"gridcolor\":\"white\",\"gridwidth\":2,\"linecolor\":\"white\",\"showbackground\":true,\"ticks\":\"\",\"zerolinecolor\":\"white\"},\"yaxis\":{\"backgroundcolor\":\"#E5ECF6\",\"gridcolor\":\"white\",\"gridwidth\":2,\"linecolor\":\"white\",\"showbackground\":true,\"ticks\":\"\",\"zerolinecolor\":\"white\"},\"zaxis\":{\"backgroundcolor\":\"#E5ECF6\",\"gridcolor\":\"white\",\"gridwidth\":2,\"linecolor\":\"white\",\"showbackground\":true,\"ticks\":\"\",\"zerolinecolor\":\"white\"}},\"shapedefaults\":{\"line\":{\"color\":\"#2a3f5f\"}},\"ternary\":{\"aaxis\":{\"gridcolor\":\"white\",\"linecolor\":\"white\",\"ticks\":\"\"},\"baxis\":{\"gridcolor\":\"white\",\"linecolor\":\"white\",\"ticks\":\"\"},\"bgcolor\":\"#E5ECF6\",\"caxis\":{\"gridcolor\":\"white\",\"linecolor\":\"white\",\"ticks\":\"\"}},\"title\":{\"x\":0.05},\"xaxis\":{\"automargin\":true,\"gridcolor\":\"white\",\"linecolor\":\"white\",\"ticks\":\"\",\"title\":{\"standoff\":15},\"zerolinecolor\":\"white\",\"zerolinewidth\":2},\"yaxis\":{\"automargin\":true,\"gridcolor\":\"white\",\"linecolor\":\"white\",\"ticks\":\"\",\"title\":{\"standoff\":15},\"zerolinecolor\":\"white\",\"zerolinewidth\":2}}},\"title\":{\"font\":{\"size\":18},\"text\":\"\\u0418\\u043d\\u0442\\u0435\\u043d\\u0441\\u0438\\u0432\\u043d\\u043e\\u0441\\u0442\\u044c \\u0441\\u043e\\u0431\\u044b\\u0442\\u0438\\u0439 \\u043f\\u043e \\u043c\\u0435\\u0441\\u044f\\u0446\\u0430\\u043c\",\"x\":0.5,\"xanchor\":\"center\",\"yanchor\":\"top\"},\"width\":1000,\"xaxis\":{\"anchor\":\"y\",\"domain\":[0.0,1.0],\"title\":{\"text\":\"\\u043d\\u043e\\u043c\\u0435\\u0440 \\u043c\\u0435\\u0441\\u044f\\u0446\"}},\"yaxis\":{\"anchor\":\"x\",\"domain\":[0.0,1.0],\"title\":{\"text\":\"\\u0447\\u0438\\u0441\\u043b\\u043e \\u0441\\u043e\\u0431\\u044b\\u0442\\u0438\\u0439\"}}},                        {\"responsive\": true}                    ).then(function(){\n",
       "                            \n",
       "var gd = document.getElementById('3c30971f-9924-48a5-9a8d-4b377586c7af');\n",
       "var x = new MutationObserver(function (mutations, observer) {{\n",
       "        var display = window.getComputedStyle(gd).display;\n",
       "        if (!display || display === 'none') {{\n",
       "            console.log([gd, 'removed!']);\n",
       "            Plotly.purge(gd);\n",
       "            observer.disconnect();\n",
       "        }}\n",
       "}});\n",
       "\n",
       "// Listen for the removal of the full notebook cells\n",
       "var notebookContainer = gd.closest('#notebook-container');\n",
       "if (notebookContainer) {{\n",
       "    x.observe(notebookContainer, {childList: true});\n",
       "}}\n",
       "\n",
       "// Listen for the clearing of the current output cell\n",
       "var outputEl = gd.closest('.output');\n",
       "if (outputEl) {{\n",
       "    x.observe(outputEl, {childList: true});\n",
       "}}\n",
       "\n",
       "                        })                };                });            </script>        </div>"
      ]
     },
     "metadata": {},
     "output_type": "display_data"
    }
   ],
   "source": [
    "month_event = events.groupby(['month', 'event']).size().reset_index(name='count_event')\n",
    "\n",
    "fig = px.bar(month_event,\n",
    "             x='month',\n",
    "             y='count_event',\n",
    "             color='event',  # разделение по типам событий через цвета\n",
    "             barmode='group')\n",
    "fig.update_layout(\n",
    "    title={'text': \"Интенсивность событий по месяцам\", 'font': {'size': 18},\n",
    "           'x':0.5, 'xanchor':'center', 'yanchor':'top'},\n",
    "    width=1000, height=500,\n",
    "    autosize=True, margin=dict(t=40, b=30, l=30, r=10),\n",
    "    template='plotly',\n",
    "    xaxis_title='номер месяц',\n",
    "    yaxis_title='число событий'\n",
    ")\n",
    "iplot(fig)"
   ]
  },
  {
   "cell_type": "markdown",
   "metadata": {
    "id": "yciNgjumFwFJ"
   },
   "source": [
    "### 3.4 Визуальный анализ самых активных пользователей по покупкам и самых популярных товаров.\n",
    "Для начала посмотрим на топ-20 пользователей *visitorid* данного периода."
   ]
  },
  {
   "cell_type": "code",
   "execution_count": 40,
   "metadata": {
    "colab": {
     "base_uri": "https://localhost:8080/",
     "height": 417
    },
    "executionInfo": {
     "elapsed": 44,
     "status": "ok",
     "timestamp": 1743661088019,
     "user": {
      "displayName": "Yaroslava Vobsharkyan",
      "userId": "00357389548322361796"
     },
     "user_tz": -180
    },
    "id": "AhLSz4XbFwFJ",
    "outputId": "051364f6-dda0-4509-a1ad-daed86ab3921"
   },
   "outputs": [
    {
     "data": {
      "text/html": [
       "<div>                            <div id=\"82dbfe68-3ab0-4970-b2fd-5a8019f691cd\" class=\"plotly-graph-div\" style=\"height:400px; width:800px;\"></div>            <script type=\"text/javascript\">                require([\"plotly\"], function(Plotly) {                    window.PLOTLYENV=window.PLOTLYENV || {};                                    if (document.getElementById(\"82dbfe68-3ab0-4970-b2fd-5a8019f691cd\")) {                    Plotly.newPlot(                        \"82dbfe68-3ab0-4970-b2fd-5a8019f691cd\",                        [{\"alignmentgroup\":\"True\",\"hovertemplate\":\"visitorid=%{x}\\u003cbr\\u003ecount=%{y}\\u003cextra\\u003e\\u003c\\u002fextra\\u003e\",\"legendgroup\":\"\",\"marker\":{\"color\":\"rgb(141,211,199)\",\"pattern\":{\"shape\":\"\"}},\"name\":\"\",\"offsetgroup\":\"\",\"orientation\":\"v\",\"showlegend\":false,\"textposition\":\"auto\",\"x\":[\"1150086\",\"152963\",\"530559\",\"684514\",\"861299\",\"76757\",\"138131\",\"890980\",\"1297062\",\"247235\",\"1161163\",\"350566\",\"645525\",\"198270\",\"757355\",\"705542\",\"371606\",\"163561\",\"836635\",\"1385073\"],\"xaxis\":\"x\",\"y\":[559,349,286,189,188,185,173,145,136,132,115,112,107,104,101,100,94,92,90,86],\"yaxis\":\"y\",\"type\":\"bar\"}],                        {\"autosize\":true,\"barmode\":\"relative\",\"height\":400,\"legend\":{\"tracegroupgap\":0},\"margin\":{\"b\":30,\"l\":30,\"r\":10,\"t\":40},\"template\":{\"data\":{\"barpolar\":[{\"marker\":{\"line\":{\"color\":\"#E5ECF6\",\"width\":0.5},\"pattern\":{\"fillmode\":\"overlay\",\"size\":10,\"solidity\":0.2}},\"type\":\"barpolar\"}],\"bar\":[{\"error_x\":{\"color\":\"#2a3f5f\"},\"error_y\":{\"color\":\"#2a3f5f\"},\"marker\":{\"line\":{\"color\":\"#E5ECF6\",\"width\":0.5},\"pattern\":{\"fillmode\":\"overlay\",\"size\":10,\"solidity\":0.2}},\"type\":\"bar\"}],\"carpet\":[{\"aaxis\":{\"endlinecolor\":\"#2a3f5f\",\"gridcolor\":\"white\",\"linecolor\":\"white\",\"minorgridcolor\":\"white\",\"startlinecolor\":\"#2a3f5f\"},\"baxis\":{\"endlinecolor\":\"#2a3f5f\",\"gridcolor\":\"white\",\"linecolor\":\"white\",\"minorgridcolor\":\"white\",\"startlinecolor\":\"#2a3f5f\"},\"type\":\"carpet\"}],\"choropleth\":[{\"colorbar\":{\"outlinewidth\":0,\"ticks\":\"\"},\"type\":\"choropleth\"}],\"contourcarpet\":[{\"colorbar\":{\"outlinewidth\":0,\"ticks\":\"\"},\"type\":\"contourcarpet\"}],\"contour\":[{\"colorbar\":{\"outlinewidth\":0,\"ticks\":\"\"},\"colorscale\":[[0.0,\"#0d0887\"],[0.1111111111111111,\"#46039f\"],[0.2222222222222222,\"#7201a8\"],[0.3333333333333333,\"#9c179e\"],[0.4444444444444444,\"#bd3786\"],[0.5555555555555556,\"#d8576b\"],[0.6666666666666666,\"#ed7953\"],[0.7777777777777778,\"#fb9f3a\"],[0.8888888888888888,\"#fdca26\"],[1.0,\"#f0f921\"]],\"type\":\"contour\"}],\"heatmapgl\":[{\"colorbar\":{\"outlinewidth\":0,\"ticks\":\"\"},\"colorscale\":[[0.0,\"#0d0887\"],[0.1111111111111111,\"#46039f\"],[0.2222222222222222,\"#7201a8\"],[0.3333333333333333,\"#9c179e\"],[0.4444444444444444,\"#bd3786\"],[0.5555555555555556,\"#d8576b\"],[0.6666666666666666,\"#ed7953\"],[0.7777777777777778,\"#fb9f3a\"],[0.8888888888888888,\"#fdca26\"],[1.0,\"#f0f921\"]],\"type\":\"heatmapgl\"}],\"heatmap\":[{\"colorbar\":{\"outlinewidth\":0,\"ticks\":\"\"},\"colorscale\":[[0.0,\"#0d0887\"],[0.1111111111111111,\"#46039f\"],[0.2222222222222222,\"#7201a8\"],[0.3333333333333333,\"#9c179e\"],[0.4444444444444444,\"#bd3786\"],[0.5555555555555556,\"#d8576b\"],[0.6666666666666666,\"#ed7953\"],[0.7777777777777778,\"#fb9f3a\"],[0.8888888888888888,\"#fdca26\"],[1.0,\"#f0f921\"]],\"type\":\"heatmap\"}],\"histogram2dcontour\":[{\"colorbar\":{\"outlinewidth\":0,\"ticks\":\"\"},\"colorscale\":[[0.0,\"#0d0887\"],[0.1111111111111111,\"#46039f\"],[0.2222222222222222,\"#7201a8\"],[0.3333333333333333,\"#9c179e\"],[0.4444444444444444,\"#bd3786\"],[0.5555555555555556,\"#d8576b\"],[0.6666666666666666,\"#ed7953\"],[0.7777777777777778,\"#fb9f3a\"],[0.8888888888888888,\"#fdca26\"],[1.0,\"#f0f921\"]],\"type\":\"histogram2dcontour\"}],\"histogram2d\":[{\"colorbar\":{\"outlinewidth\":0,\"ticks\":\"\"},\"colorscale\":[[0.0,\"#0d0887\"],[0.1111111111111111,\"#46039f\"],[0.2222222222222222,\"#7201a8\"],[0.3333333333333333,\"#9c179e\"],[0.4444444444444444,\"#bd3786\"],[0.5555555555555556,\"#d8576b\"],[0.6666666666666666,\"#ed7953\"],[0.7777777777777778,\"#fb9f3a\"],[0.8888888888888888,\"#fdca26\"],[1.0,\"#f0f921\"]],\"type\":\"histogram2d\"}],\"histogram\":[{\"marker\":{\"pattern\":{\"fillmode\":\"overlay\",\"size\":10,\"solidity\":0.2}},\"type\":\"histogram\"}],\"mesh3d\":[{\"colorbar\":{\"outlinewidth\":0,\"ticks\":\"\"},\"type\":\"mesh3d\"}],\"parcoords\":[{\"line\":{\"colorbar\":{\"outlinewidth\":0,\"ticks\":\"\"}},\"type\":\"parcoords\"}],\"pie\":[{\"automargin\":true,\"type\":\"pie\"}],\"scatter3d\":[{\"line\":{\"colorbar\":{\"outlinewidth\":0,\"ticks\":\"\"}},\"marker\":{\"colorbar\":{\"outlinewidth\":0,\"ticks\":\"\"}},\"type\":\"scatter3d\"}],\"scattercarpet\":[{\"marker\":{\"colorbar\":{\"outlinewidth\":0,\"ticks\":\"\"}},\"type\":\"scattercarpet\"}],\"scattergeo\":[{\"marker\":{\"colorbar\":{\"outlinewidth\":0,\"ticks\":\"\"}},\"type\":\"scattergeo\"}],\"scattergl\":[{\"marker\":{\"colorbar\":{\"outlinewidth\":0,\"ticks\":\"\"}},\"type\":\"scattergl\"}],\"scattermapbox\":[{\"marker\":{\"colorbar\":{\"outlinewidth\":0,\"ticks\":\"\"}},\"type\":\"scattermapbox\"}],\"scatterpolargl\":[{\"marker\":{\"colorbar\":{\"outlinewidth\":0,\"ticks\":\"\"}},\"type\":\"scatterpolargl\"}],\"scatterpolar\":[{\"marker\":{\"colorbar\":{\"outlinewidth\":0,\"ticks\":\"\"}},\"type\":\"scatterpolar\"}],\"scatter\":[{\"fillpattern\":{\"fillmode\":\"overlay\",\"size\":10,\"solidity\":0.2},\"type\":\"scatter\"}],\"scatterternary\":[{\"marker\":{\"colorbar\":{\"outlinewidth\":0,\"ticks\":\"\"}},\"type\":\"scatterternary\"}],\"surface\":[{\"colorbar\":{\"outlinewidth\":0,\"ticks\":\"\"},\"colorscale\":[[0.0,\"#0d0887\"],[0.1111111111111111,\"#46039f\"],[0.2222222222222222,\"#7201a8\"],[0.3333333333333333,\"#9c179e\"],[0.4444444444444444,\"#bd3786\"],[0.5555555555555556,\"#d8576b\"],[0.6666666666666666,\"#ed7953\"],[0.7777777777777778,\"#fb9f3a\"],[0.8888888888888888,\"#fdca26\"],[1.0,\"#f0f921\"]],\"type\":\"surface\"}],\"table\":[{\"cells\":{\"fill\":{\"color\":\"#EBF0F8\"},\"line\":{\"color\":\"white\"}},\"header\":{\"fill\":{\"color\":\"#C8D4E3\"},\"line\":{\"color\":\"white\"}},\"type\":\"table\"}]},\"layout\":{\"annotationdefaults\":{\"arrowcolor\":\"#2a3f5f\",\"arrowhead\":0,\"arrowwidth\":1},\"autotypenumbers\":\"strict\",\"coloraxis\":{\"colorbar\":{\"outlinewidth\":0,\"ticks\":\"\"}},\"colorscale\":{\"diverging\":[[0,\"#8e0152\"],[0.1,\"#c51b7d\"],[0.2,\"#de77ae\"],[0.3,\"#f1b6da\"],[0.4,\"#fde0ef\"],[0.5,\"#f7f7f7\"],[0.6,\"#e6f5d0\"],[0.7,\"#b8e186\"],[0.8,\"#7fbc41\"],[0.9,\"#4d9221\"],[1,\"#276419\"]],\"sequential\":[[0.0,\"#0d0887\"],[0.1111111111111111,\"#46039f\"],[0.2222222222222222,\"#7201a8\"],[0.3333333333333333,\"#9c179e\"],[0.4444444444444444,\"#bd3786\"],[0.5555555555555556,\"#d8576b\"],[0.6666666666666666,\"#ed7953\"],[0.7777777777777778,\"#fb9f3a\"],[0.8888888888888888,\"#fdca26\"],[1.0,\"#f0f921\"]],\"sequentialminus\":[[0.0,\"#0d0887\"],[0.1111111111111111,\"#46039f\"],[0.2222222222222222,\"#7201a8\"],[0.3333333333333333,\"#9c179e\"],[0.4444444444444444,\"#bd3786\"],[0.5555555555555556,\"#d8576b\"],[0.6666666666666666,\"#ed7953\"],[0.7777777777777778,\"#fb9f3a\"],[0.8888888888888888,\"#fdca26\"],[1.0,\"#f0f921\"]]},\"colorway\":[\"#636efa\",\"#EF553B\",\"#00cc96\",\"#ab63fa\",\"#FFA15A\",\"#19d3f3\",\"#FF6692\",\"#B6E880\",\"#FF97FF\",\"#FECB52\"],\"font\":{\"color\":\"#2a3f5f\"},\"geo\":{\"bgcolor\":\"white\",\"lakecolor\":\"white\",\"landcolor\":\"#E5ECF6\",\"showlakes\":true,\"showland\":true,\"subunitcolor\":\"white\"},\"hoverlabel\":{\"align\":\"left\"},\"hovermode\":\"closest\",\"mapbox\":{\"style\":\"light\"},\"paper_bgcolor\":\"white\",\"plot_bgcolor\":\"#E5ECF6\",\"polar\":{\"angularaxis\":{\"gridcolor\":\"white\",\"linecolor\":\"white\",\"ticks\":\"\"},\"bgcolor\":\"#E5ECF6\",\"radialaxis\":{\"gridcolor\":\"white\",\"linecolor\":\"white\",\"ticks\":\"\"}},\"scene\":{\"xaxis\":{\"backgroundcolor\":\"#E5ECF6\",\"gridcolor\":\"white\",\"gridwidth\":2,\"linecolor\":\"white\",\"showbackground\":true,\"ticks\":\"\",\"zerolinecolor\":\"white\"},\"yaxis\":{\"backgroundcolor\":\"#E5ECF6\",\"gridcolor\":\"white\",\"gridwidth\":2,\"linecolor\":\"white\",\"showbackground\":true,\"ticks\":\"\",\"zerolinecolor\":\"white\"},\"zaxis\":{\"backgroundcolor\":\"#E5ECF6\",\"gridcolor\":\"white\",\"gridwidth\":2,\"linecolor\":\"white\",\"showbackground\":true,\"ticks\":\"\",\"zerolinecolor\":\"white\"}},\"shapedefaults\":{\"line\":{\"color\":\"#2a3f5f\"}},\"ternary\":{\"aaxis\":{\"gridcolor\":\"white\",\"linecolor\":\"white\",\"ticks\":\"\"},\"baxis\":{\"gridcolor\":\"white\",\"linecolor\":\"white\",\"ticks\":\"\"},\"bgcolor\":\"#E5ECF6\",\"caxis\":{\"gridcolor\":\"white\",\"linecolor\":\"white\",\"ticks\":\"\"}},\"title\":{\"x\":0.05},\"xaxis\":{\"automargin\":true,\"gridcolor\":\"white\",\"linecolor\":\"white\",\"ticks\":\"\",\"title\":{\"standoff\":15},\"zerolinecolor\":\"white\",\"zerolinewidth\":2},\"yaxis\":{\"automargin\":true,\"gridcolor\":\"white\",\"linecolor\":\"white\",\"ticks\":\"\",\"title\":{\"standoff\":15},\"zerolinecolor\":\"white\",\"zerolinewidth\":2}}},\"title\":{\"font\":{\"size\":18},\"text\":\"\\u0422\\u043e\\u043f-20 \\u043f\\u043e\\u043b\\u044c\\u0437\\u043e\\u0432\\u0430\\u0442\\u0435\\u043b\\u0435\\u0439 \\u043f\\u043e \\u043f\\u043e\\u043a\\u0443\\u043f\\u043a\\u0430\\u043c\",\"x\":0.5,\"xanchor\":\"center\",\"yanchor\":\"top\"},\"width\":800,\"xaxis\":{\"anchor\":\"y\",\"domain\":[0.0,1.0],\"title\":{\"text\":\"\\u041f\\u043e\\u043b\\u044c\\u0437\\u043e\\u0432\\u0430\\u0442\\u0435\\u043b\\u0438-\\u043b\\u0438\\u0434\\u0435\\u0440\\u044b \\u043f\\u043e \\u043f\\u043e\\u043a\\u0443\\u043f\\u043a\\u0430\\u043c\"}},\"yaxis\":{\"anchor\":\"x\",\"domain\":[0.0,1.0],\"title\":{\"text\":\"\\u041a\\u043e\\u043b\\u0438\\u0447\\u0435\\u0441\\u0442\\u0432\\u043e \\u0442\\u0440\\u0430\\u043d\\u0437\\u0430\\u043a\\u0446\\u0438\\u0439\"}}},                        {\"responsive\": true}                    ).then(function(){\n",
       "                            \n",
       "var gd = document.getElementById('82dbfe68-3ab0-4970-b2fd-5a8019f691cd');\n",
       "var x = new MutationObserver(function (mutations, observer) {{\n",
       "        var display = window.getComputedStyle(gd).display;\n",
       "        if (!display || display === 'none') {{\n",
       "            console.log([gd, 'removed!']);\n",
       "            Plotly.purge(gd);\n",
       "            observer.disconnect();\n",
       "        }}\n",
       "}});\n",
       "\n",
       "// Listen for the removal of the full notebook cells\n",
       "var notebookContainer = gd.closest('#notebook-container');\n",
       "if (notebookContainer) {{\n",
       "    x.observe(notebookContainer, {childList: true});\n",
       "}}\n",
       "\n",
       "// Listen for the clearing of the current output cell\n",
       "var outputEl = gd.closest('.output');\n",
       "if (outputEl) {{\n",
       "    x.observe(outputEl, {childList: true});\n",
       "}}\n",
       "\n",
       "                        })                };                });            </script>        </div>"
      ]
     },
     "metadata": {},
     "output_type": "display_data"
    }
   ],
   "source": [
    "# группируем пользователей по количеству транзакций\n",
    "top_visitors = events[events['transaction']==1]['visitorid'].value_counts().nlargest(20).reset_index()\n",
    "top_visitors['visitorid'] = top_visitors['visitorid'].astype(str)\n",
    "\n",
    "fig = px.bar(top_visitors,\n",
    "             y='count',\n",
    "             x='visitorid',\n",
    "             color_discrete_sequence=px.colors.qualitative.Set3) # задаем цвет диаграммы\n",
    "\n",
    "fig.update_layout(\n",
    "    title={'text': \"Топ-20 пользователей по покупкам\", 'font': {'size': 18},\n",
    "           'x':0.5, 'xanchor':'center', 'yanchor':'top'},\n",
    "    width=800, height=400,\n",
    "    autosize=True, margin=dict(t=40, b=30, l=30, r=10),\n",
    "    template='plotly',\n",
    "    xaxis_title='Пользователи-лидеры по покупкам',\n",
    "    yaxis_title='Количество транзакций'\n",
    ")\n",
    "fig.write_image(\"images/Топ-20 пользователей по покупкам.png\", engine='kaleido')\n",
    "iplot(fig)"
   ]
  },
  {
   "cell_type": "markdown",
   "metadata": {
    "id": "raXztR3QFwFK"
   },
   "source": [
    "Невероятно, за 4,5 месяца более 500 транзакций, 2-3 места: 349 и 286 транзакций.\n",
    "\n",
    "Тогда вопрос, какие товары были самыми популярными за данный период. Таким же образом, визуализируем топ-20 товаров *itemid*."
   ]
  },
  {
   "cell_type": "code",
   "execution_count": 41,
   "metadata": {
    "colab": {
     "base_uri": "https://localhost:8080/",
     "height": 417
    },
    "executionInfo": {
     "elapsed": 75,
     "status": "ok",
     "timestamp": 1743661088097,
     "user": {
      "displayName": "Yaroslava Vobsharkyan",
      "userId": "00357389548322361796"
     },
     "user_tz": -180
    },
    "id": "qpC-E3NxFwFK",
    "outputId": "6eb54c01-5256-464d-8ed6-6dba04412fa3"
   },
   "outputs": [
    {
     "data": {
      "text/html": [
       "<div>                            <div id=\"e964c7cf-2d8c-4505-ba2f-4e33a1f14d7f\" class=\"plotly-graph-div\" style=\"height:400px; width:800px;\"></div>            <script type=\"text/javascript\">                require([\"plotly\"], function(Plotly) {                    window.PLOTLYENV=window.PLOTLYENV || {};                                    if (document.getElementById(\"e964c7cf-2d8c-4505-ba2f-4e33a1f14d7f\")) {                    Plotly.newPlot(                        \"e964c7cf-2d8c-4505-ba2f-4e33a1f14d7f\",                        [{\"alignmentgroup\":\"True\",\"hovertemplate\":\"itemid=%{x}\\u003cbr\\u003ecount=%{y}\\u003cextra\\u003e\\u003c\\u002fextra\\u003e\",\"legendgroup\":\"\",\"marker\":{\"color\":\"rgb(141,211,199)\",\"pattern\":{\"shape\":\"\"}},\"name\":\"\",\"offsetgroup\":\"\",\"orientation\":\"v\",\"showlegend\":false,\"textposition\":\"auto\",\"x\":[\"461686\",\"119736\",\"213834\",\"7943\",\"312728\",\"445351\",\"48030\",\"420960\",\"248455\",\"17478\",\"409804\",\"320130\",\"416017\",\"46156\",\"369447\",\"268883\",\"334401\",\"257040\",\"441852\",\"9877\"],\"xaxis\":\"x\",\"y\":[133,97,92,46,46,45,41,38,38,37,35,33,32,31,31,29,28,27,27,25],\"yaxis\":\"y\",\"type\":\"bar\"}],                        {\"autosize\":true,\"barmode\":\"relative\",\"height\":400,\"legend\":{\"tracegroupgap\":0},\"margin\":{\"b\":30,\"l\":30,\"r\":10,\"t\":40},\"template\":{\"data\":{\"barpolar\":[{\"marker\":{\"line\":{\"color\":\"#E5ECF6\",\"width\":0.5},\"pattern\":{\"fillmode\":\"overlay\",\"size\":10,\"solidity\":0.2}},\"type\":\"barpolar\"}],\"bar\":[{\"error_x\":{\"color\":\"#2a3f5f\"},\"error_y\":{\"color\":\"#2a3f5f\"},\"marker\":{\"line\":{\"color\":\"#E5ECF6\",\"width\":0.5},\"pattern\":{\"fillmode\":\"overlay\",\"size\":10,\"solidity\":0.2}},\"type\":\"bar\"}],\"carpet\":[{\"aaxis\":{\"endlinecolor\":\"#2a3f5f\",\"gridcolor\":\"white\",\"linecolor\":\"white\",\"minorgridcolor\":\"white\",\"startlinecolor\":\"#2a3f5f\"},\"baxis\":{\"endlinecolor\":\"#2a3f5f\",\"gridcolor\":\"white\",\"linecolor\":\"white\",\"minorgridcolor\":\"white\",\"startlinecolor\":\"#2a3f5f\"},\"type\":\"carpet\"}],\"choropleth\":[{\"colorbar\":{\"outlinewidth\":0,\"ticks\":\"\"},\"type\":\"choropleth\"}],\"contourcarpet\":[{\"colorbar\":{\"outlinewidth\":0,\"ticks\":\"\"},\"type\":\"contourcarpet\"}],\"contour\":[{\"colorbar\":{\"outlinewidth\":0,\"ticks\":\"\"},\"colorscale\":[[0.0,\"#0d0887\"],[0.1111111111111111,\"#46039f\"],[0.2222222222222222,\"#7201a8\"],[0.3333333333333333,\"#9c179e\"],[0.4444444444444444,\"#bd3786\"],[0.5555555555555556,\"#d8576b\"],[0.6666666666666666,\"#ed7953\"],[0.7777777777777778,\"#fb9f3a\"],[0.8888888888888888,\"#fdca26\"],[1.0,\"#f0f921\"]],\"type\":\"contour\"}],\"heatmapgl\":[{\"colorbar\":{\"outlinewidth\":0,\"ticks\":\"\"},\"colorscale\":[[0.0,\"#0d0887\"],[0.1111111111111111,\"#46039f\"],[0.2222222222222222,\"#7201a8\"],[0.3333333333333333,\"#9c179e\"],[0.4444444444444444,\"#bd3786\"],[0.5555555555555556,\"#d8576b\"],[0.6666666666666666,\"#ed7953\"],[0.7777777777777778,\"#fb9f3a\"],[0.8888888888888888,\"#fdca26\"],[1.0,\"#f0f921\"]],\"type\":\"heatmapgl\"}],\"heatmap\":[{\"colorbar\":{\"outlinewidth\":0,\"ticks\":\"\"},\"colorscale\":[[0.0,\"#0d0887\"],[0.1111111111111111,\"#46039f\"],[0.2222222222222222,\"#7201a8\"],[0.3333333333333333,\"#9c179e\"],[0.4444444444444444,\"#bd3786\"],[0.5555555555555556,\"#d8576b\"],[0.6666666666666666,\"#ed7953\"],[0.7777777777777778,\"#fb9f3a\"],[0.8888888888888888,\"#fdca26\"],[1.0,\"#f0f921\"]],\"type\":\"heatmap\"}],\"histogram2dcontour\":[{\"colorbar\":{\"outlinewidth\":0,\"ticks\":\"\"},\"colorscale\":[[0.0,\"#0d0887\"],[0.1111111111111111,\"#46039f\"],[0.2222222222222222,\"#7201a8\"],[0.3333333333333333,\"#9c179e\"],[0.4444444444444444,\"#bd3786\"],[0.5555555555555556,\"#d8576b\"],[0.6666666666666666,\"#ed7953\"],[0.7777777777777778,\"#fb9f3a\"],[0.8888888888888888,\"#fdca26\"],[1.0,\"#f0f921\"]],\"type\":\"histogram2dcontour\"}],\"histogram2d\":[{\"colorbar\":{\"outlinewidth\":0,\"ticks\":\"\"},\"colorscale\":[[0.0,\"#0d0887\"],[0.1111111111111111,\"#46039f\"],[0.2222222222222222,\"#7201a8\"],[0.3333333333333333,\"#9c179e\"],[0.4444444444444444,\"#bd3786\"],[0.5555555555555556,\"#d8576b\"],[0.6666666666666666,\"#ed7953\"],[0.7777777777777778,\"#fb9f3a\"],[0.8888888888888888,\"#fdca26\"],[1.0,\"#f0f921\"]],\"type\":\"histogram2d\"}],\"histogram\":[{\"marker\":{\"pattern\":{\"fillmode\":\"overlay\",\"size\":10,\"solidity\":0.2}},\"type\":\"histogram\"}],\"mesh3d\":[{\"colorbar\":{\"outlinewidth\":0,\"ticks\":\"\"},\"type\":\"mesh3d\"}],\"parcoords\":[{\"line\":{\"colorbar\":{\"outlinewidth\":0,\"ticks\":\"\"}},\"type\":\"parcoords\"}],\"pie\":[{\"automargin\":true,\"type\":\"pie\"}],\"scatter3d\":[{\"line\":{\"colorbar\":{\"outlinewidth\":0,\"ticks\":\"\"}},\"marker\":{\"colorbar\":{\"outlinewidth\":0,\"ticks\":\"\"}},\"type\":\"scatter3d\"}],\"scattercarpet\":[{\"marker\":{\"colorbar\":{\"outlinewidth\":0,\"ticks\":\"\"}},\"type\":\"scattercarpet\"}],\"scattergeo\":[{\"marker\":{\"colorbar\":{\"outlinewidth\":0,\"ticks\":\"\"}},\"type\":\"scattergeo\"}],\"scattergl\":[{\"marker\":{\"colorbar\":{\"outlinewidth\":0,\"ticks\":\"\"}},\"type\":\"scattergl\"}],\"scattermapbox\":[{\"marker\":{\"colorbar\":{\"outlinewidth\":0,\"ticks\":\"\"}},\"type\":\"scattermapbox\"}],\"scatterpolargl\":[{\"marker\":{\"colorbar\":{\"outlinewidth\":0,\"ticks\":\"\"}},\"type\":\"scatterpolargl\"}],\"scatterpolar\":[{\"marker\":{\"colorbar\":{\"outlinewidth\":0,\"ticks\":\"\"}},\"type\":\"scatterpolar\"}],\"scatter\":[{\"fillpattern\":{\"fillmode\":\"overlay\",\"size\":10,\"solidity\":0.2},\"type\":\"scatter\"}],\"scatterternary\":[{\"marker\":{\"colorbar\":{\"outlinewidth\":0,\"ticks\":\"\"}},\"type\":\"scatterternary\"}],\"surface\":[{\"colorbar\":{\"outlinewidth\":0,\"ticks\":\"\"},\"colorscale\":[[0.0,\"#0d0887\"],[0.1111111111111111,\"#46039f\"],[0.2222222222222222,\"#7201a8\"],[0.3333333333333333,\"#9c179e\"],[0.4444444444444444,\"#bd3786\"],[0.5555555555555556,\"#d8576b\"],[0.6666666666666666,\"#ed7953\"],[0.7777777777777778,\"#fb9f3a\"],[0.8888888888888888,\"#fdca26\"],[1.0,\"#f0f921\"]],\"type\":\"surface\"}],\"table\":[{\"cells\":{\"fill\":{\"color\":\"#EBF0F8\"},\"line\":{\"color\":\"white\"}},\"header\":{\"fill\":{\"color\":\"#C8D4E3\"},\"line\":{\"color\":\"white\"}},\"type\":\"table\"}]},\"layout\":{\"annotationdefaults\":{\"arrowcolor\":\"#2a3f5f\",\"arrowhead\":0,\"arrowwidth\":1},\"autotypenumbers\":\"strict\",\"coloraxis\":{\"colorbar\":{\"outlinewidth\":0,\"ticks\":\"\"}},\"colorscale\":{\"diverging\":[[0,\"#8e0152\"],[0.1,\"#c51b7d\"],[0.2,\"#de77ae\"],[0.3,\"#f1b6da\"],[0.4,\"#fde0ef\"],[0.5,\"#f7f7f7\"],[0.6,\"#e6f5d0\"],[0.7,\"#b8e186\"],[0.8,\"#7fbc41\"],[0.9,\"#4d9221\"],[1,\"#276419\"]],\"sequential\":[[0.0,\"#0d0887\"],[0.1111111111111111,\"#46039f\"],[0.2222222222222222,\"#7201a8\"],[0.3333333333333333,\"#9c179e\"],[0.4444444444444444,\"#bd3786\"],[0.5555555555555556,\"#d8576b\"],[0.6666666666666666,\"#ed7953\"],[0.7777777777777778,\"#fb9f3a\"],[0.8888888888888888,\"#fdca26\"],[1.0,\"#f0f921\"]],\"sequentialminus\":[[0.0,\"#0d0887\"],[0.1111111111111111,\"#46039f\"],[0.2222222222222222,\"#7201a8\"],[0.3333333333333333,\"#9c179e\"],[0.4444444444444444,\"#bd3786\"],[0.5555555555555556,\"#d8576b\"],[0.6666666666666666,\"#ed7953\"],[0.7777777777777778,\"#fb9f3a\"],[0.8888888888888888,\"#fdca26\"],[1.0,\"#f0f921\"]]},\"colorway\":[\"#636efa\",\"#EF553B\",\"#00cc96\",\"#ab63fa\",\"#FFA15A\",\"#19d3f3\",\"#FF6692\",\"#B6E880\",\"#FF97FF\",\"#FECB52\"],\"font\":{\"color\":\"#2a3f5f\"},\"geo\":{\"bgcolor\":\"white\",\"lakecolor\":\"white\",\"landcolor\":\"#E5ECF6\",\"showlakes\":true,\"showland\":true,\"subunitcolor\":\"white\"},\"hoverlabel\":{\"align\":\"left\"},\"hovermode\":\"closest\",\"mapbox\":{\"style\":\"light\"},\"paper_bgcolor\":\"white\",\"plot_bgcolor\":\"#E5ECF6\",\"polar\":{\"angularaxis\":{\"gridcolor\":\"white\",\"linecolor\":\"white\",\"ticks\":\"\"},\"bgcolor\":\"#E5ECF6\",\"radialaxis\":{\"gridcolor\":\"white\",\"linecolor\":\"white\",\"ticks\":\"\"}},\"scene\":{\"xaxis\":{\"backgroundcolor\":\"#E5ECF6\",\"gridcolor\":\"white\",\"gridwidth\":2,\"linecolor\":\"white\",\"showbackground\":true,\"ticks\":\"\",\"zerolinecolor\":\"white\"},\"yaxis\":{\"backgroundcolor\":\"#E5ECF6\",\"gridcolor\":\"white\",\"gridwidth\":2,\"linecolor\":\"white\",\"showbackground\":true,\"ticks\":\"\",\"zerolinecolor\":\"white\"},\"zaxis\":{\"backgroundcolor\":\"#E5ECF6\",\"gridcolor\":\"white\",\"gridwidth\":2,\"linecolor\":\"white\",\"showbackground\":true,\"ticks\":\"\",\"zerolinecolor\":\"white\"}},\"shapedefaults\":{\"line\":{\"color\":\"#2a3f5f\"}},\"ternary\":{\"aaxis\":{\"gridcolor\":\"white\",\"linecolor\":\"white\",\"ticks\":\"\"},\"baxis\":{\"gridcolor\":\"white\",\"linecolor\":\"white\",\"ticks\":\"\"},\"bgcolor\":\"#E5ECF6\",\"caxis\":{\"gridcolor\":\"white\",\"linecolor\":\"white\",\"ticks\":\"\"}},\"title\":{\"x\":0.05},\"xaxis\":{\"automargin\":true,\"gridcolor\":\"white\",\"linecolor\":\"white\",\"ticks\":\"\",\"title\":{\"standoff\":15},\"zerolinecolor\":\"white\",\"zerolinewidth\":2},\"yaxis\":{\"automargin\":true,\"gridcolor\":\"white\",\"linecolor\":\"white\",\"ticks\":\"\",\"title\":{\"standoff\":15},\"zerolinecolor\":\"white\",\"zerolinewidth\":2}}},\"title\":{\"font\":{\"size\":18},\"text\":\"\\u0422\\u043e\\u043f-20 \\u043a\\u0443\\u043f\\u043b\\u0435\\u043d\\u043d\\u044b\\u0445 \\u0442\\u043e\\u0432\\u0430\\u0440\\u043e\\u0432\",\"x\":0.5,\"xanchor\":\"center\",\"yanchor\":\"top\"},\"width\":800,\"xaxis\":{\"anchor\":\"y\",\"domain\":[0.0,1.0],\"title\":{\"text\":\"\\u0422\\u043e\\u0432\\u0430\\u0440\\u044b-\\u043b\\u0438\\u0434\\u0435\\u0440\\u044b \\u043f\\u0440\\u043e\\u0434\\u0430\\u0436\"}},\"yaxis\":{\"anchor\":\"x\",\"domain\":[0.0,1.0],\"title\":{\"text\":\"\\u041a\\u043e\\u043b\\u0438\\u0447\\u0435\\u0441\\u0442\\u0432\\u043e \\u043f\\u043e\\u043a\\u0443\\u043f\\u043e\\u043a\"}}},                        {\"responsive\": true}                    ).then(function(){\n",
       "                            \n",
       "var gd = document.getElementById('e964c7cf-2d8c-4505-ba2f-4e33a1f14d7f');\n",
       "var x = new MutationObserver(function (mutations, observer) {{\n",
       "        var display = window.getComputedStyle(gd).display;\n",
       "        if (!display || display === 'none') {{\n",
       "            console.log([gd, 'removed!']);\n",
       "            Plotly.purge(gd);\n",
       "            observer.disconnect();\n",
       "        }}\n",
       "}});\n",
       "\n",
       "// Listen for the removal of the full notebook cells\n",
       "var notebookContainer = gd.closest('#notebook-container');\n",
       "if (notebookContainer) {{\n",
       "    x.observe(notebookContainer, {childList: true});\n",
       "}}\n",
       "\n",
       "// Listen for the clearing of the current output cell\n",
       "var outputEl = gd.closest('.output');\n",
       "if (outputEl) {{\n",
       "    x.observe(outputEl, {childList: true});\n",
       "}}\n",
       "\n",
       "                        })                };                });            </script>        </div>"
      ]
     },
     "metadata": {},
     "output_type": "display_data"
    }
   ],
   "source": [
    "# группируем товары по количеству транзакций\n",
    "top_items = events[events['transaction']==1]['itemid'].value_counts().nlargest(20).reset_index()\n",
    "top_items['itemid'] = top_items['itemid'].astype('string')\n",
    "\n",
    "fig = px.bar(top_items,\n",
    "             y='count',\n",
    "             x='itemid',\n",
    "             color_discrete_sequence=px.colors.qualitative.Set3)\n",
    "fig.update_layout(\n",
    "    title={'text': \"Топ-20 купленных товаров\", 'font': {'size': 18},\n",
    "           'x':0.5, 'xanchor':'center', 'yanchor':'top'},\n",
    "    width=800, height=400,\n",
    "    autosize=True, margin=dict(t=40, b=30, l=30, r=10),\n",
    "    template='plotly',\n",
    "    xaxis_title='Товары-лидеры продаж',\n",
    "    yaxis_title='Количество покупок'\n",
    ")\n",
    "fig.write_image(\"images/Топ-20 самых популярных товаров среду купленных.png\", engine='kaleido')\n",
    "iplot(fig)"
   ]
  },
  {
   "cell_type": "markdown",
   "metadata": {
    "id": "kagtrEIrFwFK"
   },
   "source": [
    "Осталось определить: наши самые активные пользователи по покупкам выбирали самые популярные товары или нет? Давайте проверим 30 лидеров по покупкам и их топовые из купленных товаров."
   ]
  },
  {
   "cell_type": "code",
   "execution_count": 42,
   "metadata": {
    "colab": {
     "base_uri": "https://localhost:8080/"
    },
    "executionInfo": {
     "elapsed": 9,
     "status": "ok",
     "timestamp": 1743661088108,
     "user": {
      "displayName": "Yaroslava Vobsharkyan",
      "userId": "00357389548322361796"
     },
     "user_tz": -180
    },
    "id": "17Qhf4r1FwFK",
    "outputId": "f6b8304d-b231-421b-88a9-929523a7a6c2"
   },
   "outputs": [
    {
     "name": "stdout",
     "output_type": "stream",
     "text": [
      "Товары из топ-30 самых популярных и которые покупали топ-30 пользователей по покупкам:\n",
      "{420960, 334401, 320130, 546, 37029, 369158, 248455, 445351, 17478, 213834, 46156, 190000, 268883, 9877, 119736, 318333, 48030}\n",
      "Число таких товаров:  17\n"
     ]
    }
   ],
   "source": [
    "# Фильтруем события по транзакциям\n",
    "filtered_events = events[events['transaction'] == 1].copy()\n",
    "\n",
    "# Определяем топ-30 пользователей по количеству транзакций\n",
    "top30_visitors = filtered_events['visitorid'].value_counts().nlargest(30).index\n",
    "\n",
    "# Фильтруем данные по топ-30 пользователей\n",
    "filtered_data = filtered_events[filtered_events['visitorid'].isin(top30_visitors)]\n",
    "\n",
    "# Определяем топ-30 самых популярных товаров среди этих пользователей\n",
    "top30_items = filtered_data['itemid'].value_counts().nlargest(30).index\n",
    "\n",
    "total_top_items = events[events['transaction']==1]['itemid'].value_counts().nlargest(30).index\n",
    "\n",
    "matches = set(total_top_items.tolist()) & set(top30_items.tolist())\n",
    "print('Товары из топ-30 самых популярных и которые покупали топ-30 пользователей по покупкам:')\n",
    "print(matches)\n",
    "print('Число таких товаров: ', len(matches))"
   ]
  },
  {
   "cell_type": "markdown",
   "metadata": {
    "id": "lP23ln9KFwFK"
   },
   "source": [
    "Мы выявили важную закономерность:\\\n",
    "лидеры среди пользователей, совершившых конверсию - покупку, купили 17 из самых популярных на тот период 30 товаров.\\\n",
    "Это говорит о том, что текущая популярность товара влияет на его конверсию.\n",
    "\n",
    "Также мы должны проверить влияние времени на конверсию популярных товаров, так как нам поручено создать рекомендательную систему, мы должны проверить факт рентабельности рекомендации самых популярных товаров в течение длительного периода.\n",
    "\n",
    "Мы рассчитаем процент продаж топ-3 товаров от общих продаж за период до 1 июля 2015 года включительно и проверим конверсию этих же товаров после 1 июля."
   ]
  },
  {
   "cell_type": "code",
   "execution_count": 43,
   "metadata": {
    "colab": {
     "base_uri": "https://localhost:8080/"
    },
    "executionInfo": {
     "elapsed": 437,
     "status": "ok",
     "timestamp": 1743661088547,
     "user": {
      "displayName": "Yaroslava Vobsharkyan",
      "userId": "00357389548322361796"
     },
     "user_tz": -180
    },
    "id": "UdpeWN7PFwFK",
    "outputId": "d7e58d0c-d73a-4997-d780-8cc310f0055a"
   },
   "outputs": [
    {
     "name": "stdout",
     "output_type": "stream",
     "text": [
      "Топ-3 товаров по транзакциям до 1 июля 2015:\n",
      "itemid\n",
      "119736    36\n",
      "369447    31\n",
      "7943      30\n",
      "Name: count, dtype: int64\n",
      "Процент продаж топ-3 товаров в общем количестве продаж до 1 июля: 1.005 %\n"
     ]
    }
   ],
   "source": [
    "# Фильтруем транзакции до 1 июля 2015 года включительно\n",
    "before_july = events[(events['transaction'] == 1) & (events['timestamp'] <= '2015-07-01')]\n",
    "\n",
    "# Находим топ-3 товаров по числу транзакций\n",
    "top3_items_before = before_july['itemid'].value_counts().nlargest(3)\n",
    "\n",
    "# Общее количество продаж до 1 июля\n",
    "total_sales_before = before_july.shape[0]\n",
    "\n",
    "# Выведем статистику\n",
    "print(\"Топ-3 товаров по транзакциям до 1 июля 2015:\")\n",
    "print(top3_items_before)\n",
    "# Рассчитываем процент\n",
    "top3_percent_before = (top3_items_before.sum() / total_sales_before) * 100\n",
    "print(f\"Процент продаж топ-3 товаров в общем количестве продаж до 1 июля: {top3_percent_before:.3f} %\", )"
   ]
  },
  {
   "cell_type": "code",
   "execution_count": 44,
   "metadata": {
    "colab": {
     "base_uri": "https://localhost:8080/"
    },
    "executionInfo": {
     "elapsed": 17,
     "status": "ok",
     "timestamp": 1743661088567,
     "user": {
      "displayName": "Yaroslava Vobsharkyan",
      "userId": "00357389548322361796"
     },
     "user_tz": -180
    },
    "id": "rFhmnE0BFwFK",
    "outputId": "d1107566-512a-44c8-fae5-ebd82707397a"
   },
   "outputs": [
    {
     "name": "stdout",
     "output_type": "stream",
     "text": [
      "itemid\n",
      "119736    61\n",
      "7943      16\n",
      "Name: count, dtype: int64\n",
      "Процент продаж товаров из топ-3 после 1 июля 0.601 % от всех продаж после 1 июля.\n"
     ]
    }
   ],
   "source": [
    "# Фильтруем транзакции после 1 июля 2015\n",
    "after_july = events[(events['transaction'] == 1) & (events['timestamp'] > '2015-07-01')]\n",
    "\n",
    "# Считаем, сколько раз товары из топ-3 (до 1 июля) покупались после 1 июля\n",
    "items_after = after_july[after_july['itemid'].isin(top3_items_before.index)]['itemid'].value_counts()\n",
    "\n",
    "# Выведем статистику\n",
    "print(items_after)\n",
    "# Общее количество продаж после 1 июля\n",
    "total_sales_after = after_july.shape[0]\n",
    "# Рассчитываем процент\n",
    "top3_percent_after = (items_after.sum() / total_sales_after) * 100\n",
    "print(f\"Процент продаж товаров из топ-3 после 1 июля {top3_percent_after:.3f} % от всех продаж после 1 июля.\")"
   ]
  },
  {
   "cell_type": "markdown",
   "metadata": {
    "id": "Pms_KjJAFwFL"
   },
   "source": [
    "**Выводы**:\n",
    "1) Мы видим, что один товар из топ-3 уже не актуален после 1 июля, то есть пользователи перестали его покупать, в связи с чем, продажи именно топовых ранее товаров упали.\n",
    "2) Если мы будем на протяжении длительного периода продолжать рекомендовать одни и те же популярные товары, то продажи будут сокращаться, их актуальность для пользователей исчезает со временем."
   ]
  },
  {
   "cell_type": "markdown",
   "metadata": {
    "id": "0WU-_oysFwFL"
   },
   "source": [
    "## 4. Генерация факторов\n",
    "### 4.1 Генерация факторов для товаров *itemid*\n",
    "1) Частота просмотров товара;\n",
    "2) Частота добавления товара в корзину;\n",
    "3) Частота покупки товара;\n",
    "4) Конверсия (покупки/просмотры);\n",
    "5) Количество уникальных свойств у товара."
   ]
  },
  {
   "cell_type": "code",
   "execution_count": 45,
   "metadata": {
    "colab": {
     "base_uri": "https://localhost:8080/"
    },
    "executionInfo": {
     "elapsed": 41695,
     "status": "ok",
     "timestamp": 1743661130264,
     "user": {
      "displayName": "Yaroslava Vobsharkyan",
      "userId": "00357389548322361796"
     },
     "user_tz": -180
    },
    "id": "8B6VsM-OFwFL",
    "outputId": "4ed7dd9c-0b98-4009-ed37-8a0c50beab78"
   },
   "outputs": [
    {
     "name": "stdout",
     "output_type": "stream",
     "text": [
      "   itemid  view_count  addtocart_count  purchase_count  conversion\n",
      "0  297662          63               63               0         0.0\n",
      "1   60987          79               79               0         0.0\n",
      "2  252860         248              248               0         0.0\n",
      "3   33661          63               63               0         0.0\n",
      "4  297662          63               63               0         0.0\n"
     ]
    }
   ],
   "source": [
    "# 1. 2. 3. Группируем по itemid и считаем метрики\n",
    "item_factors = events.groupby('itemid').agg(\n",
    "    view_count=('event', lambda x: (x == 'view').count()),             # количество просмотров товра\n",
    "    addtocart_count=('event', lambda x: (x == 'addtocart').count()),   # количество добавлений товара в корзину\n",
    "    purchase_count=('transaction', 'sum')                              # сумма транзакций - покупок товра\n",
    ").reset_index()\n",
    "\n",
    "# 4. Вычисляем конверсию\n",
    "item_factors['conversion'] = item_factors['purchase_count'] / item_factors['view_count']\n",
    "item_factors['conversion'] = item_factors['conversion'].fillna(0)  # заполняем пропуски нулем\n",
    "\n",
    "# Объединяем с исходным events\n",
    "events = events.merge(item_factors, on='itemid', how='left')\n",
    "\n",
    "# Проверяем результат\n",
    "print(events[['itemid', 'view_count', 'addtocart_count', 'purchase_count', 'conversion']].head())"
   ]
  },
  {
   "cell_type": "markdown",
   "metadata": {
    "id": "aLQcxT49b_DA"
   },
   "source": [
    "Давайте взглянем, товары-лидеры по просмотрам являются ли лидерами по покупкам?"
   ]
  },
  {
   "cell_type": "code",
   "execution_count": 46,
   "metadata": {
    "colab": {
     "base_uri": "https://localhost:8080/",
     "height": 617
    },
    "executionInfo": {
     "elapsed": 375,
     "status": "ok",
     "timestamp": 1743661130633,
     "user": {
      "displayName": "Yaroslava Vobsharkyan",
      "userId": "00357389548322361796"
     },
     "user_tz": -180
    },
    "id": "9JGf0V9ycQE5",
    "outputId": "cd8f5ba0-065e-484d-ca68-60e941248b9a"
   },
   "outputs": [
    {
     "data": {
      "text/html": [
       "<div>                            <div id=\"85d8c691-abc4-4809-a53b-81e6848fdc69\" class=\"plotly-graph-div\" style=\"height:600px; width:1100px;\"></div>            <script type=\"text/javascript\">                require([\"plotly\"], function(Plotly) {                    window.PLOTLYENV=window.PLOTLYENV || {};                                    if (document.getElementById(\"85d8c691-abc4-4809-a53b-81e6848fdc69\")) {                    Plotly.newPlot(                        \"85d8c691-abc4-4809-a53b-81e6848fdc69\",                        [{\"name\":\"\\u0422\\u043e\\u043f-20 \\u0442\\u043e\\u0432\\u0430\\u0440\\u043e\\u0432 \\u043f\\u043e \\u043f\\u0440\\u043e\\u0441\\u043c\\u043e\\u0442\\u0440\\u0430\\u043c\",\"x\":[\"187946\",\"461686\",\"5411\",\"370653\",\"219512\",\"257040\",\"298009\",\"96924\",\"309778\",\"384302\",\"320130\",\"7943\",\"111530\",\"441668\",\"335975\",\"234255\",\"190000\",\"151444\",\"37029\",\"369447\"],\"xaxis\":\"x\",\"y\":[11641744,8850625,5447556,3437316,3240000,2712609,2696164,2666689,2650384,2585664,2271049,2217121,2093809,2053489,2039184,1708249,1515361,1512900,1505529,1473796],\"yaxis\":\"y\",\"type\":\"bar\"},{\"name\":\"\\u0422\\u043e\\u043f-20 \\u0442\\u043e\\u0432\\u0430\\u0440\\u043e\\u0432 \\u043f\\u043e \\u043f\\u043e\\u043a\\u0443\\u043f\\u043a\\u0430\\u043c\",\"x\":[\"461686\",\"119736\",\"7943\",\"312728\",\"320130\",\"445351\",\"48030\",\"257040\",\"369447\",\"213834\",\"420960\",\"37029\",\"409804\",\"9877\",\"17478\",\"441852\",\"248455\",\"190000\",\"309778\",\"384302\"],\"xaxis\":\"x2\",\"y\":[395675,86621,68494,53084,49731,48285,46002,44469,37634,36984,33934,30675,29190,29050,27380,26379,25270,24620,24420,24120],\"yaxis\":\"y2\",\"type\":\"bar\"}],                        {\"annotations\":[{\"font\":{\"size\":16},\"showarrow\":false,\"text\":\"\\u0422\\u043e\\u043f-20 \\u0442\\u043e\\u0432\\u0430\\u0440\\u043e\\u0432 \\u043f\\u043e \\u043f\\u0440\\u043e\\u0441\\u043c\\u043e\\u0442\\u0440\\u0430\\u043c\",\"x\":0.5,\"xanchor\":\"center\",\"xref\":\"paper\",\"y\":1.0,\"yanchor\":\"bottom\",\"yref\":\"paper\"},{\"font\":{\"size\":16},\"showarrow\":false,\"text\":\"\\u0422\\u043e\\u043f-20 \\u0442\\u043e\\u0432\\u0430\\u0440\\u043e\\u0432 \\u043f\\u043e \\u043f\\u043e\\u043a\\u0443\\u043f\\u043a\\u0430\\u043c\",\"x\":0.5,\"xanchor\":\"center\",\"xref\":\"paper\",\"y\":0.45,\"yanchor\":\"bottom\",\"yref\":\"paper\"}],\"autosize\":true,\"height\":600,\"margin\":{\"b\":40,\"l\":40,\"r\":10,\"t\":40},\"showlegend\":false,\"template\":{\"data\":{\"barpolar\":[{\"marker\":{\"line\":{\"color\":\"#E5ECF6\",\"width\":0.5},\"pattern\":{\"fillmode\":\"overlay\",\"size\":10,\"solidity\":0.2}},\"type\":\"barpolar\"}],\"bar\":[{\"error_x\":{\"color\":\"#2a3f5f\"},\"error_y\":{\"color\":\"#2a3f5f\"},\"marker\":{\"line\":{\"color\":\"#E5ECF6\",\"width\":0.5},\"pattern\":{\"fillmode\":\"overlay\",\"size\":10,\"solidity\":0.2}},\"type\":\"bar\"}],\"carpet\":[{\"aaxis\":{\"endlinecolor\":\"#2a3f5f\",\"gridcolor\":\"white\",\"linecolor\":\"white\",\"minorgridcolor\":\"white\",\"startlinecolor\":\"#2a3f5f\"},\"baxis\":{\"endlinecolor\":\"#2a3f5f\",\"gridcolor\":\"white\",\"linecolor\":\"white\",\"minorgridcolor\":\"white\",\"startlinecolor\":\"#2a3f5f\"},\"type\":\"carpet\"}],\"choropleth\":[{\"colorbar\":{\"outlinewidth\":0,\"ticks\":\"\"},\"type\":\"choropleth\"}],\"contourcarpet\":[{\"colorbar\":{\"outlinewidth\":0,\"ticks\":\"\"},\"type\":\"contourcarpet\"}],\"contour\":[{\"colorbar\":{\"outlinewidth\":0,\"ticks\":\"\"},\"colorscale\":[[0.0,\"#0d0887\"],[0.1111111111111111,\"#46039f\"],[0.2222222222222222,\"#7201a8\"],[0.3333333333333333,\"#9c179e\"],[0.4444444444444444,\"#bd3786\"],[0.5555555555555556,\"#d8576b\"],[0.6666666666666666,\"#ed7953\"],[0.7777777777777778,\"#fb9f3a\"],[0.8888888888888888,\"#fdca26\"],[1.0,\"#f0f921\"]],\"type\":\"contour\"}],\"heatmapgl\":[{\"colorbar\":{\"outlinewidth\":0,\"ticks\":\"\"},\"colorscale\":[[0.0,\"#0d0887\"],[0.1111111111111111,\"#46039f\"],[0.2222222222222222,\"#7201a8\"],[0.3333333333333333,\"#9c179e\"],[0.4444444444444444,\"#bd3786\"],[0.5555555555555556,\"#d8576b\"],[0.6666666666666666,\"#ed7953\"],[0.7777777777777778,\"#fb9f3a\"],[0.8888888888888888,\"#fdca26\"],[1.0,\"#f0f921\"]],\"type\":\"heatmapgl\"}],\"heatmap\":[{\"colorbar\":{\"outlinewidth\":0,\"ticks\":\"\"},\"colorscale\":[[0.0,\"#0d0887\"],[0.1111111111111111,\"#46039f\"],[0.2222222222222222,\"#7201a8\"],[0.3333333333333333,\"#9c179e\"],[0.4444444444444444,\"#bd3786\"],[0.5555555555555556,\"#d8576b\"],[0.6666666666666666,\"#ed7953\"],[0.7777777777777778,\"#fb9f3a\"],[0.8888888888888888,\"#fdca26\"],[1.0,\"#f0f921\"]],\"type\":\"heatmap\"}],\"histogram2dcontour\":[{\"colorbar\":{\"outlinewidth\":0,\"ticks\":\"\"},\"colorscale\":[[0.0,\"#0d0887\"],[0.1111111111111111,\"#46039f\"],[0.2222222222222222,\"#7201a8\"],[0.3333333333333333,\"#9c179e\"],[0.4444444444444444,\"#bd3786\"],[0.5555555555555556,\"#d8576b\"],[0.6666666666666666,\"#ed7953\"],[0.7777777777777778,\"#fb9f3a\"],[0.8888888888888888,\"#fdca26\"],[1.0,\"#f0f921\"]],\"type\":\"histogram2dcontour\"}],\"histogram2d\":[{\"colorbar\":{\"outlinewidth\":0,\"ticks\":\"\"},\"colorscale\":[[0.0,\"#0d0887\"],[0.1111111111111111,\"#46039f\"],[0.2222222222222222,\"#7201a8\"],[0.3333333333333333,\"#9c179e\"],[0.4444444444444444,\"#bd3786\"],[0.5555555555555556,\"#d8576b\"],[0.6666666666666666,\"#ed7953\"],[0.7777777777777778,\"#fb9f3a\"],[0.8888888888888888,\"#fdca26\"],[1.0,\"#f0f921\"]],\"type\":\"histogram2d\"}],\"histogram\":[{\"marker\":{\"pattern\":{\"fillmode\":\"overlay\",\"size\":10,\"solidity\":0.2}},\"type\":\"histogram\"}],\"mesh3d\":[{\"colorbar\":{\"outlinewidth\":0,\"ticks\":\"\"},\"type\":\"mesh3d\"}],\"parcoords\":[{\"line\":{\"colorbar\":{\"outlinewidth\":0,\"ticks\":\"\"}},\"type\":\"parcoords\"}],\"pie\":[{\"automargin\":true,\"type\":\"pie\"}],\"scatter3d\":[{\"line\":{\"colorbar\":{\"outlinewidth\":0,\"ticks\":\"\"}},\"marker\":{\"colorbar\":{\"outlinewidth\":0,\"ticks\":\"\"}},\"type\":\"scatter3d\"}],\"scattercarpet\":[{\"marker\":{\"colorbar\":{\"outlinewidth\":0,\"ticks\":\"\"}},\"type\":\"scattercarpet\"}],\"scattergeo\":[{\"marker\":{\"colorbar\":{\"outlinewidth\":0,\"ticks\":\"\"}},\"type\":\"scattergeo\"}],\"scattergl\":[{\"marker\":{\"colorbar\":{\"outlinewidth\":0,\"ticks\":\"\"}},\"type\":\"scattergl\"}],\"scattermapbox\":[{\"marker\":{\"colorbar\":{\"outlinewidth\":0,\"ticks\":\"\"}},\"type\":\"scattermapbox\"}],\"scatterpolargl\":[{\"marker\":{\"colorbar\":{\"outlinewidth\":0,\"ticks\":\"\"}},\"type\":\"scatterpolargl\"}],\"scatterpolar\":[{\"marker\":{\"colorbar\":{\"outlinewidth\":0,\"ticks\":\"\"}},\"type\":\"scatterpolar\"}],\"scatter\":[{\"fillpattern\":{\"fillmode\":\"overlay\",\"size\":10,\"solidity\":0.2},\"type\":\"scatter\"}],\"scatterternary\":[{\"marker\":{\"colorbar\":{\"outlinewidth\":0,\"ticks\":\"\"}},\"type\":\"scatterternary\"}],\"surface\":[{\"colorbar\":{\"outlinewidth\":0,\"ticks\":\"\"},\"colorscale\":[[0.0,\"#0d0887\"],[0.1111111111111111,\"#46039f\"],[0.2222222222222222,\"#7201a8\"],[0.3333333333333333,\"#9c179e\"],[0.4444444444444444,\"#bd3786\"],[0.5555555555555556,\"#d8576b\"],[0.6666666666666666,\"#ed7953\"],[0.7777777777777778,\"#fb9f3a\"],[0.8888888888888888,\"#fdca26\"],[1.0,\"#f0f921\"]],\"type\":\"surface\"}],\"table\":[{\"cells\":{\"fill\":{\"color\":\"#EBF0F8\"},\"line\":{\"color\":\"white\"}},\"header\":{\"fill\":{\"color\":\"#C8D4E3\"},\"line\":{\"color\":\"white\"}},\"type\":\"table\"}]},\"layout\":{\"annotationdefaults\":{\"arrowcolor\":\"#2a3f5f\",\"arrowhead\":0,\"arrowwidth\":1},\"autotypenumbers\":\"strict\",\"coloraxis\":{\"colorbar\":{\"outlinewidth\":0,\"ticks\":\"\"}},\"colorscale\":{\"diverging\":[[0,\"#8e0152\"],[0.1,\"#c51b7d\"],[0.2,\"#de77ae\"],[0.3,\"#f1b6da\"],[0.4,\"#fde0ef\"],[0.5,\"#f7f7f7\"],[0.6,\"#e6f5d0\"],[0.7,\"#b8e186\"],[0.8,\"#7fbc41\"],[0.9,\"#4d9221\"],[1,\"#276419\"]],\"sequential\":[[0.0,\"#0d0887\"],[0.1111111111111111,\"#46039f\"],[0.2222222222222222,\"#7201a8\"],[0.3333333333333333,\"#9c179e\"],[0.4444444444444444,\"#bd3786\"],[0.5555555555555556,\"#d8576b\"],[0.6666666666666666,\"#ed7953\"],[0.7777777777777778,\"#fb9f3a\"],[0.8888888888888888,\"#fdca26\"],[1.0,\"#f0f921\"]],\"sequentialminus\":[[0.0,\"#0d0887\"],[0.1111111111111111,\"#46039f\"],[0.2222222222222222,\"#7201a8\"],[0.3333333333333333,\"#9c179e\"],[0.4444444444444444,\"#bd3786\"],[0.5555555555555556,\"#d8576b\"],[0.6666666666666666,\"#ed7953\"],[0.7777777777777778,\"#fb9f3a\"],[0.8888888888888888,\"#fdca26\"],[1.0,\"#f0f921\"]]},\"colorway\":[\"#636efa\",\"#EF553B\",\"#00cc96\",\"#ab63fa\",\"#FFA15A\",\"#19d3f3\",\"#FF6692\",\"#B6E880\",\"#FF97FF\",\"#FECB52\"],\"font\":{\"color\":\"#2a3f5f\"},\"geo\":{\"bgcolor\":\"white\",\"lakecolor\":\"white\",\"landcolor\":\"#E5ECF6\",\"showlakes\":true,\"showland\":true,\"subunitcolor\":\"white\"},\"hoverlabel\":{\"align\":\"left\"},\"hovermode\":\"closest\",\"mapbox\":{\"style\":\"light\"},\"paper_bgcolor\":\"white\",\"plot_bgcolor\":\"#E5ECF6\",\"polar\":{\"angularaxis\":{\"gridcolor\":\"white\",\"linecolor\":\"white\",\"ticks\":\"\"},\"bgcolor\":\"#E5ECF6\",\"radialaxis\":{\"gridcolor\":\"white\",\"linecolor\":\"white\",\"ticks\":\"\"}},\"scene\":{\"xaxis\":{\"backgroundcolor\":\"#E5ECF6\",\"gridcolor\":\"white\",\"gridwidth\":2,\"linecolor\":\"white\",\"showbackground\":true,\"ticks\":\"\",\"zerolinecolor\":\"white\"},\"yaxis\":{\"backgroundcolor\":\"#E5ECF6\",\"gridcolor\":\"white\",\"gridwidth\":2,\"linecolor\":\"white\",\"showbackground\":true,\"ticks\":\"\",\"zerolinecolor\":\"white\"},\"zaxis\":{\"backgroundcolor\":\"#E5ECF6\",\"gridcolor\":\"white\",\"gridwidth\":2,\"linecolor\":\"white\",\"showbackground\":true,\"ticks\":\"\",\"zerolinecolor\":\"white\"}},\"shapedefaults\":{\"line\":{\"color\":\"#2a3f5f\"}},\"ternary\":{\"aaxis\":{\"gridcolor\":\"white\",\"linecolor\":\"white\",\"ticks\":\"\"},\"baxis\":{\"gridcolor\":\"white\",\"linecolor\":\"white\",\"ticks\":\"\"},\"bgcolor\":\"#E5ECF6\",\"caxis\":{\"gridcolor\":\"white\",\"linecolor\":\"white\",\"ticks\":\"\"}},\"title\":{\"x\":0.05},\"xaxis\":{\"automargin\":true,\"gridcolor\":\"white\",\"linecolor\":\"white\",\"ticks\":\"\",\"title\":{\"standoff\":15},\"zerolinecolor\":\"white\",\"zerolinewidth\":2},\"yaxis\":{\"automargin\":true,\"gridcolor\":\"white\",\"linecolor\":\"white\",\"ticks\":\"\",\"title\":{\"standoff\":15},\"zerolinecolor\":\"white\",\"zerolinewidth\":2}}},\"width\":1100,\"xaxis\":{\"anchor\":\"y\",\"domain\":[0.0,1.0],\"matches\":\"x2\",\"showticklabels\":false},\"yaxis\":{\"anchor\":\"x\",\"domain\":[0.55,1.0]},\"xaxis2\":{\"anchor\":\"y2\",\"domain\":[0.0,1.0]},\"yaxis2\":{\"anchor\":\"x2\",\"domain\":[0.0,0.45]}},                        {\"responsive\": true}                    ).then(function(){\n",
       "                            \n",
       "var gd = document.getElementById('85d8c691-abc4-4809-a53b-81e6848fdc69');\n",
       "var x = new MutationObserver(function (mutations, observer) {{\n",
       "        var display = window.getComputedStyle(gd).display;\n",
       "        if (!display || display === 'none') {{\n",
       "            console.log([gd, 'removed!']);\n",
       "            Plotly.purge(gd);\n",
       "            observer.disconnect();\n",
       "        }}\n",
       "}});\n",
       "\n",
       "// Listen for the removal of the full notebook cells\n",
       "var notebookContainer = gd.closest('#notebook-container');\n",
       "if (notebookContainer) {{\n",
       "    x.observe(notebookContainer, {childList: true});\n",
       "}}\n",
       "\n",
       "// Listen for the clearing of the current output cell\n",
       "var outputEl = gd.closest('.output');\n",
       "if (outputEl) {{\n",
       "    x.observe(outputEl, {childList: true});\n",
       "}}\n",
       "\n",
       "                        })                };                });            </script>        </div>"
      ]
     },
     "metadata": {},
     "output_type": "display_data"
    }
   ],
   "source": [
    "# Топ-20 товаров по просмотрам и покупкам\n",
    "top_view_items = events.groupby('itemid')['view_count'].sum().nlargest(20).reset_index()\n",
    "top_purchase_items = events.groupby('itemid')['purchase_count'].sum().nlargest(20).reset_index()\n",
    "\n",
    "# Преобразуем itemid в строковый тип\n",
    "top_view_items['itemid'] = top_view_items['itemid'].astype(str)\n",
    "top_purchase_items['itemid'] = top_purchase_items['itemid'].astype(str)\n",
    "\n",
    "# Создаем фигуру с двумя подграфиками\n",
    "fig = make_subplots(rows=2, cols=1, shared_xaxes=True, vertical_spacing=0.1,\n",
    "                    subplot_titles=('Топ-20 товаров по просмотрам', 'Топ-20 товаров по покупкам'))\n",
    "\n",
    "# Добавляем данные для графика по просмотрам\n",
    "fig.add_trace(go.Bar(x=top_view_items['itemid'], y=top_view_items['view_count'], name='Топ-20 товаров по просмотрам'),\n",
    "              row=1, col=1)\n",
    "\n",
    "# Добавляем данные для графика по покупкам\n",
    "fig.add_trace(go.Bar(x=top_purchase_items['itemid'], y=top_purchase_items['purchase_count'], name='Топ-20 товаров по покупкам'),\n",
    "              row=2, col=1)\n",
    "\n",
    "# Обновляем макет\n",
    "fig.update_layout(\n",
    "    width=1100, height=600,\n",
    "    autosize=True, margin=dict(t=40, b=40, l=40, r=10),\n",
    "    template=\"plotly\",\n",
    "    showlegend=False\n",
    ")\n",
    "fig.write_image(\"images/Сравнение топовых товаров по просмотрам и покупкам.png\", engine='kaleido')\n",
    "iplot(fig)"
   ]
  },
  {
   "cell_type": "markdown",
   "metadata": {
    "id": "ns0hqwpxoDAA"
   },
   "source": [
    "Итак, теперь мы знаем, что самые популярные товары по просмотрам не всегда в топе продаж."
   ]
  },
  {
   "cell_type": "code",
   "execution_count": 47,
   "metadata": {
    "colab": {
     "base_uri": "https://localhost:8080/",
     "height": 206
    },
    "executionInfo": {
     "elapsed": 7684,
     "status": "ok",
     "timestamp": 1743661138321,
     "user": {
      "displayName": "Yaroslava Vobsharkyan",
      "userId": "00357389548322361796"
     },
     "user_tz": -180
    },
    "id": "xVHljA8-FwFL",
    "outputId": "735933da-b954-47b5-8b84-42917411317c"
   },
   "outputs": [
    {
     "data": {
      "text/html": [
       "<div>\n",
       "<style scoped>\n",
       "    .dataframe tbody tr th:only-of-type {\n",
       "        vertical-align: middle;\n",
       "    }\n",
       "\n",
       "    .dataframe tbody tr th {\n",
       "        vertical-align: top;\n",
       "    }\n",
       "\n",
       "    .dataframe thead th {\n",
       "        text-align: right;\n",
       "    }\n",
       "</style>\n",
       "<table border=\"1\" class=\"dataframe\">\n",
       "  <thead>\n",
       "    <tr style=\"text-align: right;\">\n",
       "      <th></th>\n",
       "      <th>timestamp</th>\n",
       "      <th>itemid</th>\n",
       "      <th>property</th>\n",
       "      <th>value</th>\n",
       "      <th>property_count</th>\n",
       "    </tr>\n",
       "  </thead>\n",
       "  <tbody>\n",
       "    <tr>\n",
       "      <th>0</th>\n",
       "      <td>2015-05-10 03:00:00</td>\n",
       "      <td>317951</td>\n",
       "      <td>790</td>\n",
       "      <td>32880.000</td>\n",
       "      <td>24</td>\n",
       "    </tr>\n",
       "    <tr>\n",
       "      <th>1</th>\n",
       "      <td>2015-05-10 03:00:00</td>\n",
       "      <td>422842</td>\n",
       "      <td>480</td>\n",
       "      <td>1133979</td>\n",
       "      <td>35</td>\n",
       "    </tr>\n",
       "    <tr>\n",
       "      <th>2</th>\n",
       "      <td>2015-05-10 03:00:00</td>\n",
       "      <td>310185</td>\n",
       "      <td>776</td>\n",
       "      <td>103591</td>\n",
       "      <td>25</td>\n",
       "    </tr>\n",
       "    <tr>\n",
       "      <th>3</th>\n",
       "      <td>2015-05-10 03:00:00</td>\n",
       "      <td>110973</td>\n",
       "      <td>112</td>\n",
       "      <td>679677</td>\n",
       "      <td>21</td>\n",
       "    </tr>\n",
       "    <tr>\n",
       "      <th>4</th>\n",
       "      <td>2015-05-10 03:00:00</td>\n",
       "      <td>179597</td>\n",
       "      <td>474</td>\n",
       "      <td>0</td>\n",
       "      <td>22</td>\n",
       "    </tr>\n",
       "  </tbody>\n",
       "</table>\n",
       "</div>"
      ],
      "text/plain": [
       "            timestamp  itemid  property      value  property_count\n",
       "0 2015-05-10 03:00:00  317951       790  32880.000              24\n",
       "1 2015-05-10 03:00:00  422842       480    1133979              35\n",
       "2 2015-05-10 03:00:00  310185       776     103591              25\n",
       "3 2015-05-10 03:00:00  110973       112     679677              21\n",
       "4 2015-05-10 03:00:00  179597       474          0              22"
      ]
     },
     "execution_count": 47,
     "metadata": {},
     "output_type": "execute_result"
    }
   ],
   "source": [
    "# 5. Группируем уникальные свойства по товарам\n",
    "property_count = properties.groupby('itemid')['property'].nunique().rename('property_count')\n",
    "# объединяем с исходным properties\n",
    "properties = properties.merge(property_count, on='itemid', how='left')\n",
    "properties.head()"
   ]
  },
  {
   "cell_type": "markdown",
   "metadata": {
    "id": "ZSvJKrTDFwFL"
   },
   "source": [
    "### 4.2 Генерация временных характеристик товаров *itemid*\n",
    "1) Первое появление товара;\n",
    "2) Последняя активность товара;\n",
    "3) Среднее время между просмотрами конкретного itemid;\n",
    "4) Среднее время между добавлениями в корзину конкретного itemid;\n",
    "5) Среднее время между покупками конкретного itemid."
   ]
  },
  {
   "cell_type": "code",
   "execution_count": 48,
   "metadata": {
    "executionInfo": {
     "elapsed": 2654,
     "status": "ok",
     "timestamp": 1743661140977,
     "user": {
      "displayName": "Yaroslava Vobsharkyan",
      "userId": "00357389548322361796"
     },
     "user_tz": -180
    },
    "id": "hVrbdVL6FwFL"
   },
   "outputs": [],
   "source": [
    "# 1. 2. Первое и последнее появление товара\n",
    "first_seen = events.groupby('itemid')['timestamp'].min().rename(\"first_seen\")\n",
    "last_seen = events.groupby('itemid')['timestamp'].max().rename(\"last_seen\")\n",
    "\n",
    "lst_df = []  # список датафреймов\n",
    "event_types = ['view', 'addtocart', 'transaction']\n",
    "# 3. 4. 5.\n",
    "for e in event_types:\n",
    "    # Фильтруем по событию\n",
    "    df = events[events['event'] == e].copy()\n",
    "    # Сортируем по товару и времени события\n",
    "    df.sort_values(by=['itemid', 'timestamp'], inplace=True)\n",
    "    # Вычисляем разницу времени между событиями\n",
    "    df['time_diff'] = df.groupby('itemid')['timestamp'].diff()\n",
    "    # Вычисляем среднее время между событиями\n",
    "    avg_time_event = df.groupby('itemid')['time_diff'].mean()\n",
    "\n",
    "    # Заменяем NaT на 0 перед вычислением секунд, переводим в часы\n",
    "    avg_time_event = avg_time_event.fillna(pd.Timedelta(seconds=0)).dt.total_seconds() / 3600\n",
    "    # округляем значения и переименовываем столбец\n",
    "    avg_time_event = avg_time_event.round(2).rename(f'avg_time_{e}')\n",
    "    # добавляем в список\n",
    "    lst_df.append(avg_time_event)\n",
    "\n",
    "# Объединяем все факторы в один датафрейм\n",
    "time_item_factors = pd.concat([first_seen, last_seen] + lst_df, axis=1).fillna(0.0)"
   ]
  },
  {
   "cell_type": "code",
   "execution_count": 49,
   "metadata": {
    "colab": {
     "base_uri": "https://localhost:8080/",
     "height": 237
    },
    "executionInfo": {
     "elapsed": 13,
     "status": "ok",
     "timestamp": 1743661140993,
     "user": {
      "displayName": "Yaroslava Vobsharkyan",
      "userId": "00357389548322361796"
     },
     "user_tz": -180
    },
    "id": "DAXUuMFmFwFM",
    "outputId": "6a98b36f-503b-479e-8f0c-daef93937516"
   },
   "outputs": [
    {
     "data": {
      "text/html": [
       "<div>\n",
       "<style scoped>\n",
       "    .dataframe tbody tr th:only-of-type {\n",
       "        vertical-align: middle;\n",
       "    }\n",
       "\n",
       "    .dataframe tbody tr th {\n",
       "        vertical-align: top;\n",
       "    }\n",
       "\n",
       "    .dataframe thead th {\n",
       "        text-align: right;\n",
       "    }\n",
       "</style>\n",
       "<table border=\"1\" class=\"dataframe\">\n",
       "  <thead>\n",
       "    <tr style=\"text-align: right;\">\n",
       "      <th></th>\n",
       "      <th>first_seen</th>\n",
       "      <th>last_seen</th>\n",
       "      <th>avg_time_view</th>\n",
       "      <th>avg_time_addtocart</th>\n",
       "      <th>avg_time_transaction</th>\n",
       "    </tr>\n",
       "    <tr>\n",
       "      <th>itemid</th>\n",
       "      <th></th>\n",
       "      <th></th>\n",
       "      <th></th>\n",
       "      <th></th>\n",
       "      <th></th>\n",
       "    </tr>\n",
       "  </thead>\n",
       "  <tbody>\n",
       "    <tr>\n",
       "      <th>3</th>\n",
       "      <td>2015-08-18 18:30:40.493</td>\n",
       "      <td>2015-08-31 14:39:02.792</td>\n",
       "      <td>308.14</td>\n",
       "      <td>0.00</td>\n",
       "      <td>0.0</td>\n",
       "    </tr>\n",
       "    <tr>\n",
       "      <th>4</th>\n",
       "      <td>2015-06-30 07:03:11.545</td>\n",
       "      <td>2015-09-15 23:22:44.099</td>\n",
       "      <td>932.16</td>\n",
       "      <td>0.00</td>\n",
       "      <td>0.0</td>\n",
       "    </tr>\n",
       "    <tr>\n",
       "      <th>6</th>\n",
       "      <td>2015-05-06 20:33:13.122</td>\n",
       "      <td>2015-08-27 17:09:02.814</td>\n",
       "      <td>96.74</td>\n",
       "      <td>0.00</td>\n",
       "      <td>0.0</td>\n",
       "    </tr>\n",
       "    <tr>\n",
       "      <th>9</th>\n",
       "      <td>2015-05-13 22:53:14.505</td>\n",
       "      <td>2015-07-09 01:35:08.315</td>\n",
       "      <td>1346.70</td>\n",
       "      <td>0.00</td>\n",
       "      <td>0.0</td>\n",
       "    </tr>\n",
       "    <tr>\n",
       "      <th>15</th>\n",
       "      <td>2015-05-25 21:50:41.181</td>\n",
       "      <td>2015-07-21 00:02:59.529</td>\n",
       "      <td>79.19</td>\n",
       "      <td>193.52</td>\n",
       "      <td>0.0</td>\n",
       "    </tr>\n",
       "  </tbody>\n",
       "</table>\n",
       "</div>"
      ],
      "text/plain": [
       "                    first_seen               last_seen  avg_time_view  \\\n",
       "itemid                                                                  \n",
       "3      2015-08-18 18:30:40.493 2015-08-31 14:39:02.792         308.14   \n",
       "4      2015-06-30 07:03:11.545 2015-09-15 23:22:44.099         932.16   \n",
       "6      2015-05-06 20:33:13.122 2015-08-27 17:09:02.814          96.74   \n",
       "9      2015-05-13 22:53:14.505 2015-07-09 01:35:08.315        1346.70   \n",
       "15     2015-05-25 21:50:41.181 2015-07-21 00:02:59.529          79.19   \n",
       "\n",
       "        avg_time_addtocart  avg_time_transaction  \n",
       "itemid                                            \n",
       "3                     0.00                   0.0  \n",
       "4                     0.00                   0.0  \n",
       "6                     0.00                   0.0  \n",
       "9                     0.00                   0.0  \n",
       "15                  193.52                   0.0  "
      ]
     },
     "execution_count": 49,
     "metadata": {},
     "output_type": "execute_result"
    }
   ],
   "source": [
    "time_item_factors.head()"
   ]
  },
  {
   "cell_type": "code",
   "execution_count": 50,
   "metadata": {
    "colab": {
     "base_uri": "https://localhost:8080/"
    },
    "executionInfo": {
     "elapsed": 274,
     "status": "ok",
     "timestamp": 1743661141271,
     "user": {
      "displayName": "Yaroslava Vobsharkyan",
      "userId": "00357389548322361796"
     },
     "user_tz": -180
    },
    "id": "SyK5KEZDFwFM",
    "outputId": "8bf83a87-30a2-45ad-c81d-870d806b195c"
   },
   "outputs": [],
   "source": [
    "# Добавляем в events новые факторы через merge\n",
    "events = events.merge(time_item_factors, on=\"itemid\", how=\"left\")"
   ]
  },
  {
   "cell_type": "markdown",
   "metadata": {
    "id": "e0evwAHoFwFM"
   },
   "source": [
    "### 4.3 Генерация факторов для пользователей visitorid\n",
    "1) Активность пользователя - общее количество совершенных действий пользователем;\n",
    "2) Количество уникальных товаров, с которым взаимодействовал пользователь;\n",
    "3) Лояльность пользователя - количество покупок, совершенных пользователем."
   ]
  },
  {
   "cell_type": "code",
   "execution_count": 51,
   "metadata": {
    "colab": {
     "base_uri": "https://localhost:8080/"
    },
    "executionInfo": {
     "elapsed": 2144,
     "status": "ok",
     "timestamp": 1743661143445,
     "user": {
      "displayName": "Yaroslava Vobsharkyan",
      "userId": "00357389548322361796"
     },
     "user_tz": -180
    },
    "id": "NS4QlK40FwFM",
    "outputId": "a6dffbed-d118-4f3f-d0cc-22a17457d824"
   },
   "outputs": [
    {
     "data": {
      "text/plain": [
       "Index(['timestamp', 'visitorid', 'event', 'itemid', 'transaction',\n",
       "       'dayofmonth', 'month', 'dayofweek', 'dayofweek_str', 'week_of_year',\n",
       "       'is_weekend', 'is_holiday', 'hour', 'part_of_day', 'time_diff_ms',\n",
       "       'view_count', 'addtocart_count', 'purchase_count', 'conversion',\n",
       "       'first_seen', 'last_seen', 'avg_time_view', 'avg_time_addtocart',\n",
       "       'avg_time_transaction', 'total_events', 'items_count', 'purchases'],\n",
       "      dtype='object')"
      ]
     },
     "execution_count": 51,
     "metadata": {},
     "output_type": "execute_result"
    }
   ],
   "source": [
    "# 1.\n",
    "total_events = events.groupby('visitorid').size().rename('total_events')\n",
    "# 2.\n",
    "items_count = events.groupby('visitorid')['itemid'].nunique().rename('items_count')\n",
    "# 3.\n",
    "purchases = events.groupby('visitorid')['transaction'].sum().rename('purchases')\n",
    "\n",
    "# Объединяем все признаки в один DataFrame\n",
    "user_factors = pd.concat([total_events, items_count, purchases], axis=1).reset_index()\n",
    "# Добавляем новые факторы в events\n",
    "events = events.merge(user_factors, on=\"visitorid\", how=\"left\")\n",
    "events.columns"
   ]
  },
  {
   "cell_type": "markdown",
   "metadata": {
    "id": "WN_POlX4uoyU"
   },
   "source": [
    "Проверим, можем ли мы утверждать, что самые активные пользователи являются самыми лояльными, то есть их действия чаще остальных заказчиваются покупками."
   ]
  },
  {
   "cell_type": "code",
   "execution_count": 52,
   "metadata": {
    "colab": {
     "base_uri": "https://localhost:8080/",
     "height": 617
    },
    "executionInfo": {
     "elapsed": 910,
     "status": "ok",
     "timestamp": 1743661144359,
     "user": {
      "displayName": "Yaroslava Vobsharkyan",
      "userId": "00357389548322361796"
     },
     "user_tz": -180
    },
    "id": "6et5krjjuj8D",
    "outputId": "82ac8758-ab5c-401d-9ca5-13d9012fd23a"
   },
   "outputs": [
    {
     "data": {
      "text/html": [
       "<div>                            <div id=\"99348df3-c5da-4844-bf25-661c8c645b2b\" class=\"plotly-graph-div\" style=\"height:600px; width:1100px;\"></div>            <script type=\"text/javascript\">                require([\"plotly\"], function(Plotly) {                    window.PLOTLYENV=window.PLOTLYENV || {};                                    if (document.getElementById(\"99348df3-c5da-4844-bf25-661c8c645b2b\")) {                    Plotly.newPlot(                        \"99348df3-c5da-4844-bf25-661c8c645b2b\",                        [{\"name\":\"\\u0422\\u043e\\u043f-20 \\u043f\\u043e\\u043b\\u044c\\u0437\\u043e\\u0432\\u0430\\u0442\\u0435\\u043b\\u0435\\u0439 \\u043f\\u043e \\u0441\\u043e\\u0431\\u044b\\u0442\\u0438\\u044f\\u043c\",\"x\":[\"1150086\",\"530559\",\"152963\",\"895999\",\"163561\",\"371606\",\"286616\",\"684514\",\"892013\",\"861299\",\"836635\",\"76757\",\"638482\",\"1297062\",\"316850\",\"247235\",\"1161163\",\"994820\",\"79627\",\"518659\"],\"xaxis\":\"x\",\"y\":[60171049,18731584,9144576,6120676,5808100,5499025,5071504,5044516,4096576,3964081,3740356,3545689,3345241,3319684,3069504,2883204,2765569,2758921,2634129,2601769],\"yaxis\":\"y\",\"type\":\"bar\"},{\"name\":\"\\u0422\\u043e\\u043f-20 \\u043f\\u043e\\u043b\\u044c\\u0437\\u043e\\u0432\\u0430\\u0442\\u0435\\u043b\\u0435\\u0439 \\u043f\\u043e \\u043f\\u043e\\u043a\\u0443\\u043f\\u043a\\u0430\\u043c\",\"x\":[\"1150086\",\"530559\",\"152963\",\"684514\",\"861299\",\"76757\",\"138131\",\"1297062\",\"247235\",\"163561\",\"371606\",\"1161163\",\"836635\",\"350566\",\"286616\",\"645525\",\"890980\",\"757355\",\"895999\",\"994820\"],\"xaxis\":\"x2\",\"y\":[4336163,1237808,1055376,424494,374308,348355,278703,247792,224136,221720,220430,191245,174060,170688,168900,150977,147465,126351,123700,117931],\"yaxis\":\"y2\",\"type\":\"bar\"}],                        {\"annotations\":[{\"font\":{\"size\":16},\"showarrow\":false,\"text\":\"\\u0422\\u043e\\u043f-20 \\u043f\\u043e\\u043b\\u044c\\u0437\\u043e\\u0432\\u0430\\u0442\\u0435\\u043b\\u0435\\u0439 \\u043f\\u043e \\u0441\\u043e\\u0431\\u044b\\u0442\\u0438\\u044f\\u043c\",\"x\":0.5,\"xanchor\":\"center\",\"xref\":\"paper\",\"y\":1.0,\"yanchor\":\"bottom\",\"yref\":\"paper\"},{\"font\":{\"size\":16},\"showarrow\":false,\"text\":\"\\u0422\\u043e\\u043f-20 \\u043f\\u043e\\u043b\\u044c\\u0437\\u043e\\u0432\\u0430\\u0442\\u0435\\u043b\\u0435\\u0439 \\u043f\\u043e \\u043f\\u043e\\u043a\\u0443\\u043f\\u043a\\u0430\\u043c\",\"x\":0.5,\"xanchor\":\"center\",\"xref\":\"paper\",\"y\":0.45,\"yanchor\":\"bottom\",\"yref\":\"paper\"}],\"autosize\":true,\"height\":600,\"margin\":{\"b\":40,\"l\":40,\"r\":10,\"t\":40},\"showlegend\":false,\"template\":{\"data\":{\"barpolar\":[{\"marker\":{\"line\":{\"color\":\"#E5ECF6\",\"width\":0.5},\"pattern\":{\"fillmode\":\"overlay\",\"size\":10,\"solidity\":0.2}},\"type\":\"barpolar\"}],\"bar\":[{\"error_x\":{\"color\":\"#2a3f5f\"},\"error_y\":{\"color\":\"#2a3f5f\"},\"marker\":{\"line\":{\"color\":\"#E5ECF6\",\"width\":0.5},\"pattern\":{\"fillmode\":\"overlay\",\"size\":10,\"solidity\":0.2}},\"type\":\"bar\"}],\"carpet\":[{\"aaxis\":{\"endlinecolor\":\"#2a3f5f\",\"gridcolor\":\"white\",\"linecolor\":\"white\",\"minorgridcolor\":\"white\",\"startlinecolor\":\"#2a3f5f\"},\"baxis\":{\"endlinecolor\":\"#2a3f5f\",\"gridcolor\":\"white\",\"linecolor\":\"white\",\"minorgridcolor\":\"white\",\"startlinecolor\":\"#2a3f5f\"},\"type\":\"carpet\"}],\"choropleth\":[{\"colorbar\":{\"outlinewidth\":0,\"ticks\":\"\"},\"type\":\"choropleth\"}],\"contourcarpet\":[{\"colorbar\":{\"outlinewidth\":0,\"ticks\":\"\"},\"type\":\"contourcarpet\"}],\"contour\":[{\"colorbar\":{\"outlinewidth\":0,\"ticks\":\"\"},\"colorscale\":[[0.0,\"#0d0887\"],[0.1111111111111111,\"#46039f\"],[0.2222222222222222,\"#7201a8\"],[0.3333333333333333,\"#9c179e\"],[0.4444444444444444,\"#bd3786\"],[0.5555555555555556,\"#d8576b\"],[0.6666666666666666,\"#ed7953\"],[0.7777777777777778,\"#fb9f3a\"],[0.8888888888888888,\"#fdca26\"],[1.0,\"#f0f921\"]],\"type\":\"contour\"}],\"heatmapgl\":[{\"colorbar\":{\"outlinewidth\":0,\"ticks\":\"\"},\"colorscale\":[[0.0,\"#0d0887\"],[0.1111111111111111,\"#46039f\"],[0.2222222222222222,\"#7201a8\"],[0.3333333333333333,\"#9c179e\"],[0.4444444444444444,\"#bd3786\"],[0.5555555555555556,\"#d8576b\"],[0.6666666666666666,\"#ed7953\"],[0.7777777777777778,\"#fb9f3a\"],[0.8888888888888888,\"#fdca26\"],[1.0,\"#f0f921\"]],\"type\":\"heatmapgl\"}],\"heatmap\":[{\"colorbar\":{\"outlinewidth\":0,\"ticks\":\"\"},\"colorscale\":[[0.0,\"#0d0887\"],[0.1111111111111111,\"#46039f\"],[0.2222222222222222,\"#7201a8\"],[0.3333333333333333,\"#9c179e\"],[0.4444444444444444,\"#bd3786\"],[0.5555555555555556,\"#d8576b\"],[0.6666666666666666,\"#ed7953\"],[0.7777777777777778,\"#fb9f3a\"],[0.8888888888888888,\"#fdca26\"],[1.0,\"#f0f921\"]],\"type\":\"heatmap\"}],\"histogram2dcontour\":[{\"colorbar\":{\"outlinewidth\":0,\"ticks\":\"\"},\"colorscale\":[[0.0,\"#0d0887\"],[0.1111111111111111,\"#46039f\"],[0.2222222222222222,\"#7201a8\"],[0.3333333333333333,\"#9c179e\"],[0.4444444444444444,\"#bd3786\"],[0.5555555555555556,\"#d8576b\"],[0.6666666666666666,\"#ed7953\"],[0.7777777777777778,\"#fb9f3a\"],[0.8888888888888888,\"#fdca26\"],[1.0,\"#f0f921\"]],\"type\":\"histogram2dcontour\"}],\"histogram2d\":[{\"colorbar\":{\"outlinewidth\":0,\"ticks\":\"\"},\"colorscale\":[[0.0,\"#0d0887\"],[0.1111111111111111,\"#46039f\"],[0.2222222222222222,\"#7201a8\"],[0.3333333333333333,\"#9c179e\"],[0.4444444444444444,\"#bd3786\"],[0.5555555555555556,\"#d8576b\"],[0.6666666666666666,\"#ed7953\"],[0.7777777777777778,\"#fb9f3a\"],[0.8888888888888888,\"#fdca26\"],[1.0,\"#f0f921\"]],\"type\":\"histogram2d\"}],\"histogram\":[{\"marker\":{\"pattern\":{\"fillmode\":\"overlay\",\"size\":10,\"solidity\":0.2}},\"type\":\"histogram\"}],\"mesh3d\":[{\"colorbar\":{\"outlinewidth\":0,\"ticks\":\"\"},\"type\":\"mesh3d\"}],\"parcoords\":[{\"line\":{\"colorbar\":{\"outlinewidth\":0,\"ticks\":\"\"}},\"type\":\"parcoords\"}],\"pie\":[{\"automargin\":true,\"type\":\"pie\"}],\"scatter3d\":[{\"line\":{\"colorbar\":{\"outlinewidth\":0,\"ticks\":\"\"}},\"marker\":{\"colorbar\":{\"outlinewidth\":0,\"ticks\":\"\"}},\"type\":\"scatter3d\"}],\"scattercarpet\":[{\"marker\":{\"colorbar\":{\"outlinewidth\":0,\"ticks\":\"\"}},\"type\":\"scattercarpet\"}],\"scattergeo\":[{\"marker\":{\"colorbar\":{\"outlinewidth\":0,\"ticks\":\"\"}},\"type\":\"scattergeo\"}],\"scattergl\":[{\"marker\":{\"colorbar\":{\"outlinewidth\":0,\"ticks\":\"\"}},\"type\":\"scattergl\"}],\"scattermapbox\":[{\"marker\":{\"colorbar\":{\"outlinewidth\":0,\"ticks\":\"\"}},\"type\":\"scattermapbox\"}],\"scatterpolargl\":[{\"marker\":{\"colorbar\":{\"outlinewidth\":0,\"ticks\":\"\"}},\"type\":\"scatterpolargl\"}],\"scatterpolar\":[{\"marker\":{\"colorbar\":{\"outlinewidth\":0,\"ticks\":\"\"}},\"type\":\"scatterpolar\"}],\"scatter\":[{\"fillpattern\":{\"fillmode\":\"overlay\",\"size\":10,\"solidity\":0.2},\"type\":\"scatter\"}],\"scatterternary\":[{\"marker\":{\"colorbar\":{\"outlinewidth\":0,\"ticks\":\"\"}},\"type\":\"scatterternary\"}],\"surface\":[{\"colorbar\":{\"outlinewidth\":0,\"ticks\":\"\"},\"colorscale\":[[0.0,\"#0d0887\"],[0.1111111111111111,\"#46039f\"],[0.2222222222222222,\"#7201a8\"],[0.3333333333333333,\"#9c179e\"],[0.4444444444444444,\"#bd3786\"],[0.5555555555555556,\"#d8576b\"],[0.6666666666666666,\"#ed7953\"],[0.7777777777777778,\"#fb9f3a\"],[0.8888888888888888,\"#fdca26\"],[1.0,\"#f0f921\"]],\"type\":\"surface\"}],\"table\":[{\"cells\":{\"fill\":{\"color\":\"#EBF0F8\"},\"line\":{\"color\":\"white\"}},\"header\":{\"fill\":{\"color\":\"#C8D4E3\"},\"line\":{\"color\":\"white\"}},\"type\":\"table\"}]},\"layout\":{\"annotationdefaults\":{\"arrowcolor\":\"#2a3f5f\",\"arrowhead\":0,\"arrowwidth\":1},\"autotypenumbers\":\"strict\",\"coloraxis\":{\"colorbar\":{\"outlinewidth\":0,\"ticks\":\"\"}},\"colorscale\":{\"diverging\":[[0,\"#8e0152\"],[0.1,\"#c51b7d\"],[0.2,\"#de77ae\"],[0.3,\"#f1b6da\"],[0.4,\"#fde0ef\"],[0.5,\"#f7f7f7\"],[0.6,\"#e6f5d0\"],[0.7,\"#b8e186\"],[0.8,\"#7fbc41\"],[0.9,\"#4d9221\"],[1,\"#276419\"]],\"sequential\":[[0.0,\"#0d0887\"],[0.1111111111111111,\"#46039f\"],[0.2222222222222222,\"#7201a8\"],[0.3333333333333333,\"#9c179e\"],[0.4444444444444444,\"#bd3786\"],[0.5555555555555556,\"#d8576b\"],[0.6666666666666666,\"#ed7953\"],[0.7777777777777778,\"#fb9f3a\"],[0.8888888888888888,\"#fdca26\"],[1.0,\"#f0f921\"]],\"sequentialminus\":[[0.0,\"#0d0887\"],[0.1111111111111111,\"#46039f\"],[0.2222222222222222,\"#7201a8\"],[0.3333333333333333,\"#9c179e\"],[0.4444444444444444,\"#bd3786\"],[0.5555555555555556,\"#d8576b\"],[0.6666666666666666,\"#ed7953\"],[0.7777777777777778,\"#fb9f3a\"],[0.8888888888888888,\"#fdca26\"],[1.0,\"#f0f921\"]]},\"colorway\":[\"#636efa\",\"#EF553B\",\"#00cc96\",\"#ab63fa\",\"#FFA15A\",\"#19d3f3\",\"#FF6692\",\"#B6E880\",\"#FF97FF\",\"#FECB52\"],\"font\":{\"color\":\"#2a3f5f\"},\"geo\":{\"bgcolor\":\"white\",\"lakecolor\":\"white\",\"landcolor\":\"#E5ECF6\",\"showlakes\":true,\"showland\":true,\"subunitcolor\":\"white\"},\"hoverlabel\":{\"align\":\"left\"},\"hovermode\":\"closest\",\"mapbox\":{\"style\":\"light\"},\"paper_bgcolor\":\"white\",\"plot_bgcolor\":\"#E5ECF6\",\"polar\":{\"angularaxis\":{\"gridcolor\":\"white\",\"linecolor\":\"white\",\"ticks\":\"\"},\"bgcolor\":\"#E5ECF6\",\"radialaxis\":{\"gridcolor\":\"white\",\"linecolor\":\"white\",\"ticks\":\"\"}},\"scene\":{\"xaxis\":{\"backgroundcolor\":\"#E5ECF6\",\"gridcolor\":\"white\",\"gridwidth\":2,\"linecolor\":\"white\",\"showbackground\":true,\"ticks\":\"\",\"zerolinecolor\":\"white\"},\"yaxis\":{\"backgroundcolor\":\"#E5ECF6\",\"gridcolor\":\"white\",\"gridwidth\":2,\"linecolor\":\"white\",\"showbackground\":true,\"ticks\":\"\",\"zerolinecolor\":\"white\"},\"zaxis\":{\"backgroundcolor\":\"#E5ECF6\",\"gridcolor\":\"white\",\"gridwidth\":2,\"linecolor\":\"white\",\"showbackground\":true,\"ticks\":\"\",\"zerolinecolor\":\"white\"}},\"shapedefaults\":{\"line\":{\"color\":\"#2a3f5f\"}},\"ternary\":{\"aaxis\":{\"gridcolor\":\"white\",\"linecolor\":\"white\",\"ticks\":\"\"},\"baxis\":{\"gridcolor\":\"white\",\"linecolor\":\"white\",\"ticks\":\"\"},\"bgcolor\":\"#E5ECF6\",\"caxis\":{\"gridcolor\":\"white\",\"linecolor\":\"white\",\"ticks\":\"\"}},\"title\":{\"x\":0.05},\"xaxis\":{\"automargin\":true,\"gridcolor\":\"white\",\"linecolor\":\"white\",\"ticks\":\"\",\"title\":{\"standoff\":15},\"zerolinecolor\":\"white\",\"zerolinewidth\":2},\"yaxis\":{\"automargin\":true,\"gridcolor\":\"white\",\"linecolor\":\"white\",\"ticks\":\"\",\"title\":{\"standoff\":15},\"zerolinecolor\":\"white\",\"zerolinewidth\":2}}},\"width\":1100,\"xaxis\":{\"anchor\":\"y\",\"domain\":[0.0,1.0],\"matches\":\"x2\",\"showticklabels\":false},\"yaxis\":{\"anchor\":\"x\",\"domain\":[0.55,1.0]},\"xaxis2\":{\"anchor\":\"y2\",\"domain\":[0.0,1.0]},\"yaxis2\":{\"anchor\":\"x2\",\"domain\":[0.0,0.45]}},                        {\"responsive\": true}                    ).then(function(){\n",
       "                            \n",
       "var gd = document.getElementById('99348df3-c5da-4844-bf25-661c8c645b2b');\n",
       "var x = new MutationObserver(function (mutations, observer) {{\n",
       "        var display = window.getComputedStyle(gd).display;\n",
       "        if (!display || display === 'none') {{\n",
       "            console.log([gd, 'removed!']);\n",
       "            Plotly.purge(gd);\n",
       "            observer.disconnect();\n",
       "        }}\n",
       "}});\n",
       "\n",
       "// Listen for the removal of the full notebook cells\n",
       "var notebookContainer = gd.closest('#notebook-container');\n",
       "if (notebookContainer) {{\n",
       "    x.observe(notebookContainer, {childList: true});\n",
       "}}\n",
       "\n",
       "// Listen for the clearing of the current output cell\n",
       "var outputEl = gd.closest('.output');\n",
       "if (outputEl) {{\n",
       "    x.observe(outputEl, {childList: true});\n",
       "}}\n",
       "\n",
       "                        })                };                });            </script>        </div>"
      ]
     },
     "metadata": {},
     "output_type": "display_data"
    }
   ],
   "source": [
    "# Топ-20 пользователей по событиям в целом и покупкам\n",
    "top_event_visitors = events.groupby('visitorid')['total_events'].sum().nlargest(20).reset_index()\n",
    "top_purchase_visitors = events.groupby('visitorid')['purchases'].sum().nlargest(20).reset_index()\n",
    "\n",
    "# Преобразуем itemid в строковый тип\n",
    "top_event_visitors['visitorid'] = top_event_visitors['visitorid'].astype(str)\n",
    "top_purchase_visitors['visitorid'] = top_purchase_visitors['visitorid'].astype(str)\n",
    "\n",
    "# Создаем фигуру с двумя подграфиками\n",
    "fig = make_subplots(rows=2, cols=1, shared_xaxes=True, vertical_spacing=0.1,\n",
    "                    subplot_titles=('Топ-20 пользователей по событиям', 'Топ-20 пользователей по покупкам'))\n",
    "\n",
    "# Добавляем данные для графика по просмотрам\n",
    "fig.add_trace(go.Bar(x=top_event_visitors['visitorid'], y=top_event_visitors['total_events'], name='Топ-20 пользователей по событиям'),\n",
    "              row=1, col=1)\n",
    "\n",
    "# Добавляем данные для графика по покупкам\n",
    "fig.add_trace(go.Bar(x=top_purchase_visitors['visitorid'], y=top_purchase_visitors['purchases'], name='Топ-20 пользователей по покупкам'),\n",
    "              row=2, col=1)\n",
    "\n",
    "# Обновляем макет\n",
    "fig.update_layout(\n",
    "    width=1100, height=600,\n",
    "    autosize=True, margin=dict(t=40, b=40, l=40, r=10),\n",
    "    template=\"plotly\",\n",
    "    showlegend=False\n",
    ")\n",
    "fig.write_image(\"images/Сравнение общей активности пользователей и лояльности в покупках.png\", engine='kaleido')\n",
    "iplot(fig)"
   ]
  },
  {
   "cell_type": "markdown",
   "metadata": {
    "id": "96X1uXarwPhk"
   },
   "source": [
    "Наше предположение, что активные пользователи являются лояльными (много покупающими), можно назвать верным."
   ]
  },
  {
   "cell_type": "markdown",
   "metadata": {
    "id": "U3PUdGr-FwFW"
   },
   "source": [
    "### 4.4 Генерация временных характеристик пользователей\n",
    "1) Средний интервал между сессиями у пользователя, измерение в часах."
   ]
  },
  {
   "cell_type": "code",
   "execution_count": 53,
   "metadata": {
    "executionInfo": {
     "elapsed": 3573,
     "status": "ok",
     "timestamp": 1743661147940,
     "user": {
      "displayName": "Yaroslava Vobsharkyan",
      "userId": "00357389548322361796"
     },
     "user_tz": -180
    },
    "id": "0xAcX9eWFwFX"
   },
   "outputs": [],
   "source": [
    "# Сортируем по пользователю и времени события\n",
    "events_sorted = events.sort_values(by=['visitorid', 'timestamp'])\n",
    "\n",
    "# Рассчитываем разницу во времени между сессиями\n",
    "events_sorted['session_diff'] = events_sorted.groupby('visitorid')['timestamp'].diff()\n",
    "\n",
    "# Вычисляем средний интервал между сессиями\n",
    "session_avg = events_sorted.groupby('visitorid')['session_diff'].mean()\n",
    "\n",
    "# Переводим разницу во времени в часы\n",
    "session_avg = session_avg.fillna(pd.Timedelta(seconds=0)).dt.total_seconds() / 3600\n",
    "# Округляем до двух знаков\n",
    "session_avg = session_avg.round(2)\n",
    "\n",
    "# Объединяем с events через merge\n",
    "events = events.merge(session_avg.rename('session'), on='visitorid', how='left')"
   ]
  },
  {
   "cell_type": "markdown",
   "metadata": {
    "id": "EMowMqqgySqg"
   },
   "source": [
    "Среднее время (в часах) между сессиями наших самых автивных пользоватлей."
   ]
  },
  {
   "cell_type": "code",
   "execution_count": 54,
   "metadata": {
    "colab": {
     "base_uri": "https://localhost:8080/",
     "height": 742
    },
    "executionInfo": {
     "elapsed": 9,
     "status": "ok",
     "timestamp": 1743661147953,
     "user": {
      "displayName": "Yaroslava Vobsharkyan",
      "userId": "00357389548322361796"
     },
     "user_tz": -180
    },
    "id": "-jiOdcyLw1tx",
    "outputId": "6b1d80a1-9bd3-4b0c-b767-b9d2801327c1"
   },
   "outputs": [
    {
     "data": {
      "text/plain": [
       "visitorid\n",
       "836635     0.20\n",
       "371606     0.25\n",
       "1150086    0.30\n",
       "286616     0.30\n",
       "861299     0.31\n",
       "163561     0.31\n",
       "994820     0.34\n",
       "152963     0.38\n",
       "684514     0.39\n",
       "1297062    0.41\n",
       "247235     0.45\n",
       "530559     0.52\n",
       "76757      0.62\n",
       "1161163    0.64\n",
       "892013     0.70\n",
       "895999     1.31\n",
       "638482     1.65\n",
       "518659     1.70\n",
       "79627      1.86\n",
       "316850     1.88\n",
       "Name: session_diff, dtype: float64"
      ]
     },
     "execution_count": 54,
     "metadata": {},
     "output_type": "execute_result"
    }
   ],
   "source": [
    "top_visitors = top_event_visitors['visitorid'].astype(int)\n",
    "session_avg.index = session_avg.index.astype(int)\n",
    "\n",
    "# Фильтруем среднее время между сессиями только для топ-20 пользователей\n",
    "session_of_top_visitors = session_avg.loc[top_visitors]\n",
    "\n",
    "# Выводим результат\n",
    "session_of_top_visitors.sort_values()"
   ]
  },
  {
   "cell_type": "markdown",
   "metadata": {
    "id": "ANcC48jvFwFX"
   },
   "source": [
    "### 4.5 Генерация факторов, включающих взаимодействие в формате itemid-visitorid\n",
    "1) Количество действий пользователя, совершенных с конкретным товаром;\n",
    "2) Количество просмотров пользователем конкретного товара перед покупкой;\n",
    "3) Время в часах между первым просмотром до покупки товара."
   ]
  },
  {
   "cell_type": "code",
   "execution_count": 55,
   "metadata": {
    "colab": {
     "base_uri": "https://localhost:8080/"
    },
    "executionInfo": {
     "elapsed": 12745,
     "status": "ok",
     "timestamp": 1743661160700,
     "user": {
      "displayName": "Yaroslava Vobsharkyan",
      "userId": "00357389548322361796"
     },
     "user_tz": -180
    },
    "id": "jpJshJQYFwFX",
    "outputId": "b9950ad9-0065-4077-8c44-24cf4ac939d1"
   },
   "outputs": [],
   "source": [
    "# 1. Общее количество действий пользователя с товаром\n",
    "item_events = events.groupby(['visitorid', 'itemid'])['event'].count().rename('itemevents_by_visitor')\n",
    "\n",
    "# 2. Количество просмотров перед покупкой\n",
    "views = events[events['event'] == 'view']\n",
    "views_before_purchase = views.groupby(['visitorid', 'itemid'])['event'].count().rename('itemviews_before_purchase')\n",
    "\n",
    "# 3. Время между первым просмотром и покупкой\n",
    "first_view = views.groupby(['visitorid', 'itemid'])['timestamp'].min().rename('first_view')\n",
    "time_purchase = events[events['event'] == 'transaction'].groupby(['visitorid', 'itemid'])['timestamp'].max().rename('time_purchase')\n",
    "\n",
    "# Объединяем в один DataFrame\n",
    "time_to_purchase = pd.concat([first_view, time_purchase], axis=1)\n",
    "\n",
    "# Разница во времени (часы) между первым просмотром и покупкой\n",
    "time_to_purchase['time_to_purchase'] = (time_to_purchase['time_purchase'] - time_to_purchase['first_view'])\\\n",
    "                                          .fillna(pd.Timedelta(seconds=0)).dt.total_seconds() / 3600\n",
    "time_to_purchase['time_to_purchase'] = time_to_purchase['time_to_purchase'].round(2)\n",
    "\n",
    "# Объединяем все признаки\n",
    "user_item_factors = pd.concat([item_events, views_before_purchase, time_to_purchase], axis=1).fillna(0).reset_index()"
   ]
  },
  {
   "cell_type": "code",
   "execution_count": 56,
   "metadata": {
    "colab": {
     "base_uri": "https://localhost:8080/"
    },
    "executionInfo": {
     "elapsed": 1697,
     "status": "ok",
     "timestamp": 1743661162400,
     "user": {
      "displayName": "Yaroslava Vobsharkyan",
      "userId": "00357389548322361796"
     },
     "user_tz": -180
    },
    "id": "YTE-CjwtFwFX",
    "outputId": "ed6a985f-ca64-431f-8ed4-f191d6a1e5ae"
   },
   "outputs": [
    {
     "data": {
      "text/plain": [
       "Index(['timestamp', 'visitorid', 'event', 'itemid', 'transaction',\n",
       "       'dayofmonth', 'month', 'dayofweek', 'dayofweek_str', 'week_of_year',\n",
       "       'is_weekend', 'is_holiday', 'hour', 'part_of_day', 'time_diff_ms',\n",
       "       'view_count', 'addtocart_count', 'purchase_count', 'conversion',\n",
       "       'first_seen', 'last_seen', 'avg_time_view', 'avg_time_addtocart',\n",
       "       'avg_time_transaction', 'total_events', 'items_count', 'purchases',\n",
       "       'session', 'itemevents_by_visitor', 'itemviews_before_purchase',\n",
       "       'time_to_purchase'],\n",
       "      dtype='object')"
      ]
     },
     "execution_count": 56,
     "metadata": {},
     "output_type": "execute_result"
    }
   ],
   "source": [
    "events = events.merge(\n",
    "    user_item_factors.drop(['first_view', 'time_purchase'], axis=1, errors='ignore'),\n",
    "    on=['visitorid', 'itemid'],  # по обоим ключам\n",
    "    how='left'\n",
    ")\n",
    "events.columns"
   ]
  },
  {
   "cell_type": "markdown",
   "metadata": {
    "id": "ntfalQ-kzsLt"
   },
   "source": [
    "Интересно, сколько времени ушло у пользователей из топ-20 по покупкам *top_purchase_visitors* на принятие решения о покупке после первого просмотра."
   ]
  },
  {
   "cell_type": "code",
   "execution_count": 57,
   "metadata": {
    "colab": {
     "base_uri": "https://localhost:8080/",
     "height": 206
    },
    "executionInfo": {
     "elapsed": 17,
     "status": "ok",
     "timestamp": 1743661650991,
     "user": {
      "displayName": "Yaroslava Vobsharkyan",
      "userId": "00357389548322361796"
     },
     "user_tz": -180
    },
    "id": "VKsRBtdbVRnG",
    "outputId": "a9a87fed-b2df-4785-fcbb-adf0dc57085c"
   },
   "outputs": [
    {
     "data": {
      "text/html": [
       "<div>\n",
       "<style scoped>\n",
       "    .dataframe tbody tr th:only-of-type {\n",
       "        vertical-align: middle;\n",
       "    }\n",
       "\n",
       "    .dataframe tbody tr th {\n",
       "        vertical-align: top;\n",
       "    }\n",
       "\n",
       "    .dataframe thead th {\n",
       "        text-align: right;\n",
       "    }\n",
       "</style>\n",
       "<table border=\"1\" class=\"dataframe\">\n",
       "  <thead>\n",
       "    <tr style=\"text-align: right;\">\n",
       "      <th></th>\n",
       "      <th>visitorid</th>\n",
       "      <th>purchases</th>\n",
       "    </tr>\n",
       "  </thead>\n",
       "  <tbody>\n",
       "    <tr>\n",
       "      <th>0</th>\n",
       "      <td>1150086</td>\n",
       "      <td>4336163</td>\n",
       "    </tr>\n",
       "    <tr>\n",
       "      <th>1</th>\n",
       "      <td>530559</td>\n",
       "      <td>1237808</td>\n",
       "    </tr>\n",
       "    <tr>\n",
       "      <th>2</th>\n",
       "      <td>152963</td>\n",
       "      <td>1055376</td>\n",
       "    </tr>\n",
       "    <tr>\n",
       "      <th>3</th>\n",
       "      <td>684514</td>\n",
       "      <td>424494</td>\n",
       "    </tr>\n",
       "    <tr>\n",
       "      <th>4</th>\n",
       "      <td>861299</td>\n",
       "      <td>374308</td>\n",
       "    </tr>\n",
       "  </tbody>\n",
       "</table>\n",
       "</div>"
      ],
      "text/plain": [
       "  visitorid  purchases\n",
       "0   1150086    4336163\n",
       "1    530559    1237808\n",
       "2    152963    1055376\n",
       "3    684514     424494\n",
       "4    861299     374308"
      ]
     },
     "execution_count": 57,
     "metadata": {},
     "output_type": "execute_result"
    }
   ],
   "source": [
    "top_purchase_visitors.head()"
   ]
  },
  {
   "cell_type": "code",
   "execution_count": 58,
   "metadata": {
    "colab": {
     "base_uri": "https://localhost:8080/"
    },
    "executionInfo": {
     "elapsed": 13,
     "status": "ok",
     "timestamp": 1743661742913,
     "user": {
      "displayName": "Yaroslava Vobsharkyan",
      "userId": "00357389548322361796"
     },
     "user_tz": -180
    },
    "id": "aX_54hbn1mI_",
    "outputId": "af3d1021-af94-45dc-bb99-c1ffb0592a76"
   },
   "outputs": [
    {
     "name": "stdout",
     "output_type": "stream",
     "text": [
      "Среднее время с первого просмотра товара до его покупки у пользователей из топ-20 по покупкам:\n",
      "visitorid\n",
      "350566      0.839787\n",
      "757355      0.890753\n",
      "994820      0.948443\n",
      "861299      0.951286\n",
      "836635      1.030846\n",
      "163561      1.226857\n",
      "286616      1.343618\n",
      "890980      1.956688\n",
      "371606      1.974274\n",
      "684514      2.090338\n",
      "645525      2.621293\n",
      "895999      2.623784\n",
      "1297062     3.901195\n",
      "247235      3.951255\n",
      "1161163     4.083796\n",
      "76757       4.145883\n",
      "138131      5.389966\n",
      "152963      8.211323\n",
      "530559     11.507125\n",
      "1150086    12.334005\n",
      "Name: time_to_purchase, dtype: float64\n"
     ]
    }
   ],
   "source": [
    "# Приводим visitorid к единому типу\n",
    "top_purchase_visitors['visitorid'] = top_purchase_visitors['visitorid'].astype(int)\n",
    "time_to_purchase.index = time_to_purchase.index.set_levels(time_to_purchase.index.levels[0].astype(int), level=0)\n",
    "\n",
    "# Оставляем только пользователей из топ-20 по покупкам\n",
    "time_before_purchases = time_to_purchase.loc[\n",
    "    time_to_purchase.index.get_level_values('visitorid').isin(top_purchase_visitors['visitorid'])\n",
    "]\n",
    "# Выведем среднее время на принятие решения пользователя из топ-20\n",
    "print('Среднее время с первого просмотра товара до его покупки у пользователей из топ-20 по покупкам:')\n",
    "print(time_before_purchases.groupby('visitorid')['time_to_purchase'].mean().sort_values())"
   ]
  },
  {
   "cell_type": "markdown",
   "metadata": {},
   "source": [
    "## 5. Объединение датасетов, сохранение датасетов с новыми факторами.\n",
    "\n",
    "#### 5.1 Сохранение events\n",
    "Прежде всего, давайте посмотрим на признаки в датасете events, думаю некоторые из них лишние для моделирования рекомендательной системы."
   ]
  },
  {
   "cell_type": "code",
   "execution_count": 59,
   "metadata": {},
   "outputs": [
    {
     "name": "stdout",
     "output_type": "stream",
     "text": [
      "<class 'pandas.core.frame.DataFrame'>\n",
      "RangeIndex: 2755641 entries, 0 to 2755640\n",
      "Data columns (total 31 columns):\n",
      " #   Column                     Dtype         \n",
      "---  ------                     -----         \n",
      " 0   timestamp                  datetime64[ns]\n",
      " 1   visitorid                  uint32        \n",
      " 2   event                      category      \n",
      " 3   itemid                     uint32        \n",
      " 4   transaction                uint8         \n",
      " 5   dayofmonth                 uint8         \n",
      " 6   month                      uint8         \n",
      " 7   dayofweek                  uint8         \n",
      " 8   dayofweek_str              category      \n",
      " 9   week_of_year               UInt32        \n",
      " 10  is_weekend                 bool          \n",
      " 11  is_holiday                 bool          \n",
      " 12  hour                       uint8         \n",
      " 13  part_of_day                category      \n",
      " 14  time_diff_ms               float32       \n",
      " 15  view_count                 int64         \n",
      " 16  addtocart_count            int64         \n",
      " 17  purchase_count             uint8         \n",
      " 18  conversion                 float64       \n",
      " 19  first_seen                 datetime64[ns]\n",
      " 20  last_seen                  datetime64[ns]\n",
      " 21  avg_time_view              float64       \n",
      " 22  avg_time_addtocart         float64       \n",
      " 23  avg_time_transaction       float64       \n",
      " 24  total_events               int64         \n",
      " 25  items_count                int64         \n",
      " 26  purchases                  uint64        \n",
      " 27  session                    float64       \n",
      " 28  itemevents_by_visitor      int64         \n",
      " 29  itemviews_before_purchase  float64       \n",
      " 30  time_to_purchase           float64       \n",
      "dtypes: UInt32(1), bool(2), category(3), datetime64[ns](3), float32(1), float64(7), int64(5), uint32(2), uint64(1), uint8(6)\n",
      "memory usage: 410.0 MB\n"
     ]
    }
   ],
   "source": [
    "events.info()"
   ]
  },
  {
   "cell_type": "markdown",
   "metadata": {},
   "source": [
    "1. Признак *transaction* дублирует информацию признака типа события *event*.\n",
    "2. *dayofmonth*, *month*, *dayofweek_str*, *week_of_year*, *part_of_day*, *time_diff_ms*  - данные временные признаки не играют для нас роли (мы не изучаем временного ряда, сезонности, цикличности), дублируют информацию.\n",
    "3. Впоследствии мы еще будем производить селекцию признаков перед моделированием, а пока удалим выбранные."
   ]
  },
  {
   "cell_type": "code",
   "execution_count": 60,
   "metadata": {},
   "outputs": [
    {
     "name": "stdout",
     "output_type": "stream",
     "text": [
      "Начальный размер памяти: 373.17 MB\n",
      "Конечный размер памяти: 183.96 MB\n",
      "Экономия памяти: 189.21 MB\n"
     ]
    }
   ],
   "source": [
    "# удаляем ненужные признаки\n",
    "events.drop(['transaction', 'dayofmonth', 'month', 'dayofweek_str', 'week_of_year', 'part_of_day', 'time_diff_ms'], \n",
    "            axis=1, inplace=True)\n",
    "events = optimize_memory_usage(events)\n",
    "events.to_parquet('data/cleaned_events.parquet')"
   ]
  },
  {
   "cell_type": "markdown",
   "metadata": {},
   "source": [
    "#### 5.2 Объединение датасета tree (дерево категорий) с properties и сохранение."
   ]
  },
  {
   "cell_type": "code",
   "execution_count": 61,
   "metadata": {},
   "outputs": [
    {
     "data": {
      "text/html": [
       "<div>\n",
       "<style scoped>\n",
       "    .dataframe tbody tr th:only-of-type {\n",
       "        vertical-align: middle;\n",
       "    }\n",
       "\n",
       "    .dataframe tbody tr th {\n",
       "        vertical-align: top;\n",
       "    }\n",
       "\n",
       "    .dataframe thead th {\n",
       "        text-align: right;\n",
       "    }\n",
       "</style>\n",
       "<table border=\"1\" class=\"dataframe\">\n",
       "  <thead>\n",
       "    <tr style=\"text-align: right;\">\n",
       "      <th></th>\n",
       "      <th>categoryid</th>\n",
       "      <th>parentid</th>\n",
       "      <th>depth</th>\n",
       "    </tr>\n",
       "  </thead>\n",
       "  <tbody>\n",
       "    <tr>\n",
       "      <th>0</th>\n",
       "      <td>1016</td>\n",
       "      <td>213</td>\n",
       "      <td>4</td>\n",
       "    </tr>\n",
       "    <tr>\n",
       "      <th>1</th>\n",
       "      <td>809</td>\n",
       "      <td>169</td>\n",
       "      <td>4</td>\n",
       "    </tr>\n",
       "    <tr>\n",
       "      <th>2</th>\n",
       "      <td>570</td>\n",
       "      <td>9</td>\n",
       "      <td>4</td>\n",
       "    </tr>\n",
       "    <tr>\n",
       "      <th>3</th>\n",
       "      <td>1691</td>\n",
       "      <td>885</td>\n",
       "      <td>3</td>\n",
       "    </tr>\n",
       "    <tr>\n",
       "      <th>4</th>\n",
       "      <td>536</td>\n",
       "      <td>1691</td>\n",
       "      <td>4</td>\n",
       "    </tr>\n",
       "  </tbody>\n",
       "</table>\n",
       "</div>"
      ],
      "text/plain": [
       "   categoryid  parentid  depth\n",
       "0        1016       213      4\n",
       "1         809       169      4\n",
       "2         570         9      4\n",
       "3        1691       885      3\n",
       "4         536      1691      4"
      ]
     },
     "execution_count": 61,
     "metadata": {},
     "output_type": "execute_result"
    }
   ],
   "source": [
    "tree.head()"
   ]
  },
  {
   "cell_type": "markdown",
   "metadata": {},
   "source": [
    "Объединяем properties и tree, чтобы каждой записи в properties добавить уровень вложенности depth."
   ]
  },
  {
   "cell_type": "code",
   "execution_count": 62,
   "metadata": {},
   "outputs": [],
   "source": [
    "tree['categoryid'] = tree['categoryid'].astype('uint16') # приводим к одному типу\n",
    "properties_df = properties.merge(tree[['categoryid', 'depth']], \n",
    "                             left_on='property', right_on='categoryid', \n",
    "                             how='left')\n",
    "\n",
    "# Удалим дублирующийся столбец 'categoryid'\n",
    "properties_df.drop(columns=['categoryid'], inplace=True)"
   ]
  },
  {
   "cell_type": "code",
   "execution_count": 63,
   "metadata": {},
   "outputs": [
    {
     "data": {
      "text/plain": [
       "timestamp              0\n",
       "itemid                 0\n",
       "property               0\n",
       "value                  0\n",
       "property_count         0\n",
       "depth             110303\n",
       "dtype: int64"
      ]
     },
     "execution_count": 63,
     "metadata": {},
     "output_type": "execute_result"
    }
   ],
   "source": [
    "properties_df.isnull().sum()"
   ]
  },
  {
   "cell_type": "code",
   "execution_count": 64,
   "metadata": {},
   "outputs": [],
   "source": [
    "# заполним пропуски медианой\n",
    "properties_df['depth'] = properties_df['depth'].fillna(properties_df['depth'].median()).astype('uint8')"
   ]
  },
  {
   "cell_type": "code",
   "execution_count": 65,
   "metadata": {},
   "outputs": [
    {
     "name": "stdout",
     "output_type": "stream",
     "text": [
      "Начальный размер памяти: 766.61 MB\n",
      "Конечный размер памяти: 631.25 MB\n",
      "Экономия памяти: 135.36 MB\n"
     ]
    }
   ],
   "source": [
    "# оптимизируем размер\n",
    "properties_df = optimize_memory_usage(properties_df)\n",
    "properties_df.to_parquet('data/cleaned_properties.parquet')"
   ]
  },
  {
   "cell_type": "markdown",
   "metadata": {},
   "source": [
    "Итак, мы проанализировали имеющиеся данные, сгенерировали много дополнительных фичей.\\\n",
    "На следующем этапе нам предстоит произвести построение и анализ различных подходов в создании рекомендательной системы."
   ]
  }
 ],
 "metadata": {
  "colab": {
   "machine_shape": "hm",
   "provenance": []
  },
  "kernelspec": {
   "display_name": "Python 3",
   "name": "python3"
  },
  "language_info": {
   "codemirror_mode": {
    "name": "ipython",
    "version": 3
   },
   "file_extension": ".py",
   "mimetype": "text/x-python",
   "name": "python",
   "nbconvert_exporter": "python",
   "pygments_lexer": "ipython3",
   "version": "3.11.11"
  }
 },
 "nbformat": 4,
 "nbformat_minor": 0
}
